{
  "cells": [
    {
      "cell_type": "code",
      "execution_count": null,
      "metadata": {
        "id": "Al0HNClGEIjt"
      },
      "outputs": [],
      "source": [
        "try:\n",
        "  # Colab only\n",
        "  %tensorflow_version 2.x\n",
        "except Exception:\n",
        "  pass\n",
        "\n",
        "#import necessary libraries.\n",
        "import tensorflow as tf\n",
        "import numpy as np\n",
        "layer = tf.keras.layers\n",
        "\n",
        "print('check tensorflow version : ', tf.__version__)"
      ]
    },
    {
      "cell_type": "code",
      "execution_count": null,
      "metadata": {
        "id": "LfRnQFK6EIjv"
      },
      "outputs": [],
      "source": [
        "mnist = tf.keras.datasets.mnist\n",
        "\n",
        "(x_train, y_train), (x_test, y_test) = mnist.load_data()\n",
        "x_train, x_test = x_train / 255.0, x_test / 255.0\n",
        "\n",
        "print(\"The shape of train dataset : \", x_train.shape)\n",
        "print(\"The shape of test dataset : \", x_test.shape)"
      ]
    },
    {
      "cell_type": "code",
      "execution_count": null,
      "metadata": {
        "id": "DjAGbbFdEIjw"
      },
      "outputs": [],
      "source": [
        "train_ds = tf.data.Dataset.from_tensor_slices((x_train,y_train)).batch(32)\n",
        "test_ds = tf.data.Dataset.from_tensor_slices((x_test,y_test)).batch(32)"
      ]
    },
    {
      "cell_type": "code",
      "execution_count": null,
      "metadata": {
        "id": "2xjmY6iFEIjw"
      },
      "outputs": [],
      "source": [
        ""
      ]
    },
    {
      "cell_type": "markdown",
      "metadata": {
        "id": "ptid8b5VEIjw"
      },
      "source": [
        "# Customize model.fit\n",
        "\n",
        "- keras model의 fit 함수의 동작을 문제에 맞게 구현\n",
        "- train_step(fit), test_step(evaluate, predict)을 오버라이딩으로 변경\n",
        "- train_step과 test_step은 data를 입력으로 받으며, data pipeline의 내용을 unpack해서 사용. e.g. img, label1, label2 = data\n",
        "- metrics는 사용할 성능지표를 변경할 때 사용\n",
        "\n",
        "\n",
        "\n",
        "\n"
      ]
    },
    {
      "cell_type": "code",
      "execution_count": null,
      "metadata": {
        "id": "FRDUCjZPEIjx"
      },
      "outputs": [],
      "source": [
        "# 각 train step(iteration)의 결과를 저장핳기 위한 metric 객체 정의 \n",
        "mean_loss = tf.keras.metrics.Mean(name='loss')\n",
        "mean_acc = tf.keras.metrics.SparseCategoricalAccuracy(name='accuracy')"
      ]
    },
    {
      "cell_type": "code",
      "execution_count": null,
      "metadata": {
        "id": "ATpOeyJ8EIjy"
      },
      "outputs": [],
      "source": [
        "# loss function을 정의하여 커스터마이징\n",
        "loss_fn = tf.keras.losses.SparseCategoricalCrossentropy()\n",
        "def custom_loss(target_y, predicted_y):\n",
        "  return loss_fn(target_y, predicted_y)"
      ]
    },
    {
      "cell_type": "code",
      "execution_count": null,
      "metadata": {
        "id": "1oOmUcJkEIjy"
      },
      "outputs": [],
      "source": [
        "# tf.keras.Model의 train_step과 test_step 메서드를 오버라이딩한다.\n",
        "class CustomModel(tf.keras.Model):\n",
        "    def train_step(self, data):\n",
        "        x, y = data\n",
        "\n",
        "        with tf.GradientTape() as tape:\n",
        "            y_pred = self(x, training=True)  # Forward pass\n",
        "            # Compute our own loss\n",
        "            loss = custom_loss(y, y_pred)\n",
        "\n",
        "        # Compute gradients\n",
        "        trainable_vars = self.trainable_variables\n",
        "        gradients = tape.gradient(loss, trainable_vars)\n",
        "\n",
        "        # Update weights\n",
        "        self.optimizer.apply_gradients(zip(gradients, trainable_vars))\n",
        "\n",
        "        # Compute our own metrics\n",
        "        mean_loss.update_state(loss)\n",
        "        mean_acc.update_state(y, y_pred)\n",
        "        return {m.name: m.result() for m in self.metrics}\n",
        "    \n",
        "    def test_step(self, data):\n",
        "        # Unpack the data\n",
        "        x, y = data\n",
        "        # Compute predictions\n",
        "        y_pred = self(x, training=False)\n",
        "        # Updates the metrics tracking the loss\n",
        "        loss = custom_loss(y, y_pred)\n",
        "        # Update the metrics.\n",
        "        mean_loss.update_state(loss)\n",
        "        mean_acc.update_state(y, y_pred)\n",
        "        # Return a dict mapping metric names to current value.\n",
        "        # Note that it will include the loss (tracked in self.metrics).\n",
        "        return {m.name: m.result() for m in self.metrics}\n",
        "    \n",
        "    @property\n",
        "    def metrics(self):\n",
        "        # We list our `Metric` objects here so that `reset_states()` can be\n",
        "        # called automatically at the start of each epoch\n",
        "        # or at the start of `evaluate()`.\n",
        "        # If you don't implement this property, you have to call\n",
        "        # `reset_states()` yourself at the time of your choosing.\n",
        "        return [mean_loss, mean_acc]"
      ]
    },
    {
      "cell_type": "code",
      "execution_count": null,
      "metadata": {
        "id": "iSaju6r1EIjz"
      },
      "outputs": [],
      "source": [
        "model = tf.keras.models.Sequential([\n",
        "  tf.keras.layers.Flatten(),\n",
        "  tf.keras.layers.Dense(64, activation='relu'),\n",
        "  tf.keras.layers.Dense(64, activation='relu'),\n",
        "  tf.keras.layers.Dense(10, activation='softmax')\n",
        "])\n",
        "model.build([None, 28, 28])"
      ]
    },
    {
      "cell_type": "code",
      "execution_count": null,
      "metadata": {
        "id": "_kRbRbTNEIj0"
      },
      "outputs": [],
      "source": [
        "custom_model = CustomModel(model.input, model.output)\n",
        "optimizer = tf.keras.optimizers.Adam()\n",
        "# We don't passs a loss or metrics here.\n",
        "custom_model.compile(optimizer)"
      ]
    },
    {
      "cell_type": "code",
      "execution_count": null,
      "metadata": {
        "id": "Eao89QCjEIj0"
      },
      "outputs": [],
      "source": [
        "custom_model.fit(x_train, y_train, epochs=5, validation_split=0.2)\n",
        "custom_model.evaluate(x_test, y_test)"
      ]
    },
    {
      "cell_type": "markdown",
      "metadata": {
        "id": "hJZTj3w6EIj1"
      },
      "source": [
        "# Loop training\n",
        "\n",
        "- model.fit 메서드는 편리한 인터페이스를 제공하지만 더욱 유연한 커스터마이징이 어려움.\n",
        "- Loop training 방식은 Loop 구조 내에서 tf.GradientTape을 사용해 학습을 더욱 정교하게 제어하는 방식. \n",
        "- 하지만 keras가 제공하는 편리한 기능들(예로 callbacks)을 사용하기 어렵다는 단점.\n"
      ]
    },
    {
      "cell_type": "code",
      "execution_count": null,
      "metadata": {
        "id": "KAumOGQaEIj1"
      },
      "outputs": [],
      "source": [
        "model = tf.keras.models.Sequential([\n",
        "  tf.keras.layers.Flatten(),\n",
        "  tf.keras.layers.Dense(64, activation='relu'),\n",
        "  tf.keras.layers.Dense(64, activation='relu'),\n",
        "  tf.keras.layers.Dense(10, activation='softmax')\n",
        "])"
      ]
    },
    {
      "cell_type": "code",
      "execution_count": null,
      "metadata": {
        "id": "5l2VahTwEIj1"
      },
      "outputs": [],
      "source": [
        "# 각 train step(iteration)의 결과를 저장핳기 위한 metric 객체 정의 \n",
        "train_loss = tf.keras.metrics.Mean(name='train_loss')\n",
        "train_accuracy = tf.keras.metrics.SparseCategoricalAccuracy(name='train_accuracy')\n",
        "\n",
        "test_loss = tf.keras.metrics.Mean(name='test_loss')\n",
        "test_accuracy = tf.keras.metrics.SparseCategoricalAccuracy(name='test_accuracy')"
      ]
    },
    {
      "cell_type": "code",
      "execution_count": null,
      "metadata": {
        "id": "7mypwqZJEIj2"
      },
      "outputs": [],
      "source": [
        "# loss function을 정의하여 커스터마이징\n",
        "loss_fn = tf.keras.losses.SparseCategoricalCrossentropy()\n",
        "def custom_loss(target_y, predicted_y):\n",
        "  return loss_fn(target_y, predicted_y)\n",
        "optimizer = tf.keras.optimizers.Adam()"
      ]
    },
    {
      "cell_type": "code",
      "execution_count": null,
      "metadata": {
        "id": "SQD5_Jk7EIj2"
      },
      "outputs": [],
      "source": [
        "# mini-batch에 대한 train_step과 test_step을 정의\n",
        "@tf.function\n",
        "def train_step(images, labels):\n",
        "  with tf.GradientTape() as tape:\n",
        "    # training=True is only needed if there are layers with different\n",
        "    # behavior during training versus inference (e.g. Dropout).\n",
        "    predictions = model(images, training=True)\n",
        "    loss = custom_loss(labels, predictions)\n",
        "  gradients = tape.gradient(loss, model.trainable_variables)\n",
        "  optimizer.apply_gradients(zip(gradients, model.trainable_variables))\n",
        "\n",
        "  train_loss(loss)\n",
        "  train_accuracy(labels, predictions)\n",
        "    \n",
        "@tf.function\n",
        "def test_step(images, labels):\n",
        "  # training=False is only needed if there are layers with different\n",
        "  # behavior during training versus inference (e.g. Dropout).\n",
        "  predictions = model(images, training=False)\n",
        "  t_loss = custom_loss(labels, predictions)\n",
        "\n",
        "  test_loss(t_loss)\n",
        "  test_accuracy(labels, predictions)"
      ]
    },
    {
      "cell_type": "code",
      "execution_count": null,
      "metadata": {
        "id": "pj4_kEMeEIj2"
      },
      "outputs": [],
      "source": [
        "EPOCHS = 5\n",
        "\n",
        "for epoch in range(EPOCHS):\n",
        "    # Reset the metrics at the start of the next epoch\n",
        "    train_loss.reset_states()\n",
        "    train_accuracy.reset_states()\n",
        "    test_loss.reset_states()\n",
        "    test_accuracy.reset_states()\n",
        "\n",
        "    for images, labels in train_ds:\n",
        "        train_step(images, labels)\n",
        "\n",
        "    for test_images, test_labels in test_ds:\n",
        "        test_step(test_images, test_labels)\n",
        "\n",
        "    print(\n",
        "        f'Epoch {epoch + 1}, '\n",
        "        f'Loss: {train_loss.result()}, '\n",
        "        f'Accuracy: {train_accuracy.result() * 100}, '\n",
        "        f'Test Loss: {test_loss.result()}, '\n",
        "        f'Test Accuracy: {test_accuracy.result() * 100}')"
      ]
    },
    {
      "cell_type": "code",
      "execution_count": null,
      "metadata": {
        "id": "CJJ36g4TEIj2"
      },
      "outputs": [],
      "source": [
        ""
      ]
    }
  ],
  "metadata": {
    "kernelspec": {
      "display_name": "tf",
      "language": "python",
      "name": "tf"
    },
    "language_info": {
      "codemirror_mode": {
        "name": "ipython",
        "version": 3
      },
      "file_extension": ".py",
      "mimetype": "text/x-python",
      "name": "python",
      "nbconvert_exporter": "python",
      "pygments_lexer": "ipython3",
      "version": "3.6.9"
    },
    "colab": {
      "name": "keras custom training.ipynb",
      "provenance": []
    }
  },
  "nbformat": 4,
  "nbformat_minor": 0
}