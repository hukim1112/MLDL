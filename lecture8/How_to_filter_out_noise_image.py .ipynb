{
  "nbformat": 4,
  "nbformat_minor": 0,
  "metadata": {
    "kernelspec": {
      "display_name": "tf",
      "language": "python",
      "name": "tf"
    },
    "language_info": {
      "codemirror_mode": {
        "name": "ipython",
        "version": 3
      },
      "file_extension": ".py",
      "mimetype": "text/x-python",
      "name": "python",
      "nbconvert_exporter": "python",
      "pygments_lexer": "ipython3",
      "version": "3.6.7"
    },
    "colab": {
      "name": "How_to_filter_out_noise_image.py .ipynb",
      "provenance": []
    },
    "accelerator": "GPU"
  },
  "cells": [
    {
      "cell_type": "code",
      "metadata": {
        "id": "O5FIwdygv-fI"
      },
      "source": [
        "from __future__ import absolute_import, division, print_function, unicode_literals\n",
        "try:\n",
        "  # Colab only\n",
        "  %tensorflow_version 2.x\n",
        "except Exception:\n",
        "  pass\n",
        "\n",
        "import tensorflow as tf\n",
        "from tensorflow import keras\n",
        "from matplotlib import pyplot as plt\n",
        "import numpy as np"
      ],
      "execution_count": null,
      "outputs": []
    },
    {
      "cell_type": "code",
      "metadata": {
        "id": "hEgQqsJ3v-fJ"
      },
      "source": [
        "layer = keras.layers\n",
        "print(\"tensorflow version check : \", tf.__version__)\n",
        "print(\"gpu check\", tf.test.is_gpu_available())\n"
      ],
      "execution_count": null,
      "outputs": []
    },
    {
      "cell_type": "markdown",
      "metadata": {
        "id": "FKyQvhRqv-fK"
      },
      "source": [
        "# 1. get dataset on memory"
      ]
    },
    {
      "cell_type": "code",
      "metadata": {
        "id": "Ialg7XvXv-fK"
      },
      "source": [
        "mnist = tf.keras.datasets.mnist\n",
        "(x_train, y_train), (x_test, y_test) = mnist.load_data()\n",
        "print(\"mnist dataset on memory\")\n",
        "x_train, x_test = x_train / 255.0, x_test / 255.0\n",
        "\n",
        "# Add a channels dimension\n",
        "x_train = x_train[..., tf.newaxis]\n",
        "x_test = x_test[..., tf.newaxis]\n",
        "print(\"The shape of train dataset : \", x_train.shape)\n",
        "print(\"The shape of test dataset : \", x_test.shape)\n",
        "y_train = y_train.astype(np.int32)\n",
        "y_test = y_test.astype(np.int32)"
      ],
      "execution_count": null,
      "outputs": []
    },
    {
      "cell_type": "markdown",
      "metadata": {
        "id": "WMFhjKLvv-fK"
      },
      "source": [
        "# 2. model definition"
      ]
    },
    {
      "cell_type": "code",
      "metadata": {
        "id": "kfCrunzfv-fL"
      },
      "source": [
        "inputs = keras.Input(shape=(28, 28, 1))\n",
        "feature = layer.Conv2D(32, 3,activation='relu')(inputs)\n",
        "feature = layer.MaxPool2D(pool_size=(2, 2))(feature)\n",
        "feature = layer.Conv2D(64, 3, activation='relu')(feature)\n",
        "feature = layer.MaxPool2D(pool_size=(2, 2))(feature)\n",
        "flatten = layer.Flatten()(feature)\n",
        "embedding = layer.Dense(128, activation='relu')(flatten)\n",
        "prob = layer.Dense(10, activation='softmax')(embedding)\n",
        "model = keras.Model(inputs, prob)"
      ],
      "execution_count": null,
      "outputs": []
    },
    {
      "cell_type": "code",
      "metadata": {
        "id": "Jr_Lhi4iv-fL"
      },
      "source": [
        "model.summary()\n",
        "\n",
        "model.compile(optimizer=tf.keras.optimizers.RMSprop(0.001),\n",
        "              loss=tf.keras.losses.sparse_categorical_crossentropy,\n",
        "              metrics=[tf.keras.metrics.sparse_categorical_accuracy])"
      ],
      "execution_count": null,
      "outputs": []
    },
    {
      "cell_type": "code",
      "metadata": {
        "id": "Vk_sBIXQv-fL"
      },
      "source": [
        "print('========================Training===============================')\n",
        "\n",
        "model.fit(x_train, y_train, epochs=5)\n",
        "\n",
        "print('========================Evaluation===============================')\n",
        "\n",
        "test_loss, test_acc = model.evaluate(x_test, y_test)\n",
        "\n",
        "# del model\n",
        "# keras.backend.clear_session()"
      ],
      "execution_count": null,
      "outputs": []
    },
    {
      "cell_type": "markdown",
      "metadata": {
        "id": "G9uMym9Hv-fM"
      },
      "source": [
        "# 3. Noise image problem?"
      ]
    },
    {
      "cell_type": "code",
      "metadata": {
        "id": "Hlt3iM0uv-fM"
      },
      "source": [
        "[fashine_train_x, fashine_train_y], [fashine_test_x, fashine_test_y] = tf.keras.datasets.fashion_mnist.load_data()"
      ],
      "execution_count": null,
      "outputs": []
    },
    {
      "cell_type": "code",
      "metadata": {
        "id": "xzxPleqZv-fM"
      },
      "source": [
        "def prepare_test_image(image):\n",
        "  image = image[tf.newaxis, :, : , tf.newaxis] # [1, 28, 28, 1]\n",
        "  return image / 255."
      ],
      "execution_count": null,
      "outputs": []
    },
    {
      "cell_type": "code",
      "metadata": {
        "id": "lmz9O3Lnv-fN"
      },
      "source": [
        "from matplotlib import pyplot as plt\n",
        "plt.imshow(fashine_train_x[0], cmap='gray')\n",
        "test_data = prepare_test_image(fashine_train_x[0])"
      ],
      "execution_count": null,
      "outputs": []
    },
    {
      "cell_type": "code",
      "metadata": {
        "id": "5j6ozqRVv-fN"
      },
      "source": [
        "model.predict(test_data)"
      ],
      "execution_count": null,
      "outputs": []
    },
    {
      "cell_type": "code",
      "metadata": {
        "id": "zo0x-lUnv-fN"
      },
      "source": [
        ""
      ],
      "execution_count": null,
      "outputs": []
    },
    {
      "cell_type": "markdown",
      "metadata": {
        "id": "Q9FnUjDbv-fN"
      },
      "source": [
        "# I will show you a modified model for solving this!"
      ]
    },
    {
      "cell_type": "code",
      "metadata": {
        "id": "o4uwY4Uiv-fN"
      },
      "source": [
        "# 아웃풋 레이어의 activation은 None으로 해주고, sparse_categorical_crossentropy의 from_logits=True 옵션을 사용해줍니다.\n",
        "# 그 이유는 선형분류기가 출력하는 score의 부호를 검사해서, 학습되지 않은 클래스의 이미지는 걸러주기 위해서에요.\n",
        "\n",
        "inputs = keras.Input(shape=(28, 28, 1))\n",
        "feature = layer.Conv2D(32, 3,activation='relu')(inputs)\n",
        "feature = layer.MaxPool2D(pool_size=(2, 2))(feature)\n",
        "feature = layer.Conv2D(64, 3, activation='relu')(feature)\n",
        "feature = layer.MaxPool2D(pool_size=(2, 2))(feature)\n",
        "flatten = layer.Flatten()(feature)\n",
        "embedding = layer.Dense(128, activation='relu')(flatten)\n",
        "scores = layer.Dense(10, activation=None)(embedding)\n",
        "model = keras.Model(inputs, scores)"
      ],
      "execution_count": null,
      "outputs": []
    },
    {
      "cell_type": "code",
      "metadata": {
        "id": "_qqj9z-lv-fO"
      },
      "source": [
        "model.summary()\n",
        "\n",
        "model.compile(optimizer=tf.keras.optimizers.RMSprop(0.001),\n",
        "              loss=tf.keras.losses.SparseCategoricalCrossentropy(from_logits=True),\n",
        "              metrics=[tf.keras.metrics.sparse_categorical_accuracy])"
      ],
      "execution_count": null,
      "outputs": []
    },
    {
      "cell_type": "code",
      "metadata": {
        "id": "-6yg43htv-fO"
      },
      "source": [
        "print('========================Training===============================')\n",
        "\n",
        "model.fit(x_train, y_train, epochs=5)\n",
        "\n",
        "print('========================Evaluation===============================')\n",
        "\n",
        "test_loss, test_acc = model.evaluate(x_test, y_test)"
      ],
      "execution_count": null,
      "outputs": []
    },
    {
      "cell_type": "code",
      "metadata": {
        "id": "YV1FQEAuv-fO"
      },
      "source": [
        ""
      ],
      "execution_count": null,
      "outputs": []
    },
    {
      "cell_type": "markdown",
      "metadata": {
        "id": "mZzzbJJbv-fO"
      },
      "source": [
        "### 아래 코드를 실행해서 기존 mnist와 상관 없는 fashine mnist를 넣어 테스트를 해봅니다.\n",
        "### score 값이 모두 큰 음수가 나오는 것을 확인할 수 있어요!"
      ]
    },
    {
      "cell_type": "code",
      "metadata": {
        "id": "8ETWY8SNzUwl"
      },
      "source": [
        "from matplotlib import pyplot as plt\n",
        "plt.imshow(fashine_train_x[0], cmap='gray')\n",
        "test_data = prepare_test_image(fashine_train_x[0])"
      ],
      "execution_count": null,
      "outputs": []
    },
    {
      "cell_type": "code",
      "metadata": {
        "id": "eGId4zM1zORE"
      },
      "source": [
        "model.predict(test_data)"
      ],
      "execution_count": null,
      "outputs": []
    },
    {
      "cell_type": "code",
      "metadata": {
        "id": "80R8yDTLzOYN"
      },
      "source": [
        "tf.math.softmax(model.predict(test_data)) # scores to probabilities"
      ],
      "execution_count": null,
      "outputs": []
    },
    {
      "cell_type": "markdown",
      "metadata": {
        "id": "6y8ExIZMv-fP"
      },
      "source": [
        "### 학습시켰던 클래스를 가지고 있는 mnist 영상에 대해서는 어떨까요?\n",
        "### 해당 클래스의 스코어 값은 양수로 표현됩니다."
      ]
    },
    {
      "cell_type": "code",
      "metadata": {
        "id": "uNUsPJJ1v-fP"
      },
      "source": [
        "from matplotlib import pyplot as plt\n",
        "plt.imshow(x_test[0,:,:,0], cmap='gray')"
      ],
      "execution_count": null,
      "outputs": []
    },
    {
      "cell_type": "code",
      "metadata": {
        "id": "DClp6B9Q2YOp"
      },
      "source": [
        "x_test[0:1,:,:].shape"
      ],
      "execution_count": null,
      "outputs": []
    },
    {
      "cell_type": "code",
      "metadata": {
        "id": "NcexUx4lv-fP"
      },
      "source": [
        "model.predict(x_test[0:1,:,:])"
      ],
      "execution_count": null,
      "outputs": []
    },
    {
      "cell_type": "code",
      "metadata": {
        "id": "bsIByQz-v-fP"
      },
      "source": [
        "tf.math.softmax(model.predict(x_test[0:1,:,:])) # scores to probabilities"
      ],
      "execution_count": null,
      "outputs": []
    },
    {
      "cell_type": "code",
      "metadata": {
        "id": "9CL4FBzm1Z2R"
      },
      "source": [
        ""
      ],
      "execution_count": null,
      "outputs": []
    }
  ]
}