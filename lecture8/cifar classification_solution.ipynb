{
  "nbformat": 4,
  "nbformat_minor": 0,
  "metadata": {
    "colab": {
      "name": "cifar classification.ipynb",
      "provenance": []
    },
    "kernelspec": {
      "display_name": "tf",
      "language": "python",
      "name": "tf"
    },
    "language_info": {
      "codemirror_mode": {
        "name": "ipython",
        "version": 3
      },
      "file_extension": ".py",
      "mimetype": "text/x-python",
      "name": "python",
      "nbconvert_exporter": "python",
      "pygments_lexer": "ipython3",
      "version": "3.6.9"
    },
    "accelerator": "GPU"
  },
  "cells": [
    {
      "cell_type": "code",
      "metadata": {
        "id": "ztWu3NJIrz1C"
      },
      "source": [
        "from __future__ import absolute_import, division, print_function, unicode_literals\n",
        "\n",
        "# Install TensorFlow\n",
        "try:\n",
        "  # %tensorflow_version only exists in Colab.\n",
        "  %tensorflow_version 2.x\n",
        "except Exception:\n",
        "  pass\n",
        "\n",
        "import tensorflow as tf"
      ],
      "execution_count": 1,
      "outputs": []
    },
    {
      "cell_type": "code",
      "metadata": {
        "id": "VJEsy0HGrz1E"
      },
      "source": [
        "print(tf.__version__) #version check"
      ],
      "execution_count": null,
      "outputs": []
    },
    {
      "cell_type": "markdown",
      "metadata": {
        "id": "bht2QF5crz1E"
      },
      "source": [
        "# 1. Load cifar10 dataset"
      ]
    },
    {
      "cell_type": "code",
      "metadata": {
        "id": "ADr5RdBZrz1E"
      },
      "source": [
        "cifar10 = tf.keras.datasets.cifar10\n",
        "\n",
        "(x_train, y_train), (x_test, y_test) = cifar10.load_data() # data load\n",
        "x_train, x_test = x_train / 255.0, x_test / 255.0 # data preprocessing"
      ],
      "execution_count": null,
      "outputs": []
    },
    {
      "cell_type": "code",
      "metadata": {
        "id": "kxvN4j5tstpi"
      },
      "source": [
        "print(x_train.shape, y_train.shape) #check your data shape"
      ],
      "execution_count": null,
      "outputs": []
    },
    {
      "cell_type": "markdown",
      "metadata": {
        "id": "X8xs6X9zqYXo"
      },
      "source": [
        "# Cifar 데이터 시각화"
      ]
    },
    {
      "cell_type": "code",
      "metadata": {
        "id": "pnFEUEycqVif"
      },
      "source": [
        "from matplotlib import pyplot as plt\n",
        "fig, axes = plt.subplots(3,3)\n",
        "for idx in range(9):\n",
        "  axes[idx//3, idx%3].imshow(x_train[idx])"
      ],
      "execution_count": null,
      "outputs": []
    },
    {
      "cell_type": "markdown",
      "metadata": {
        "id": "Yj2yRORLrz1F"
      },
      "source": [
        "# 2. Build your Convolutional Neural Network!"
      ]
    },
    {
      "cell_type": "code",
      "metadata": {
        "id": "jEHLL0FPrz1F"
      },
      "source": [
        "def build_CNN():\n",
        "  CNN = tf.keras.models.Sequential()\n",
        "  CNN.add(tf.keras.layers.Conv2D(32, (3, 3), activation='relu', kernel_initializer='he_uniform', padding='same'))\n",
        "  CNN.add(tf.keras.layers.Conv2D(32, (3, 3), activation='relu', kernel_initializer='he_uniform', padding='same'))\n",
        "  CNN.add(tf.keras.layers.MaxPooling2D((2, 2)))\n",
        "  CNN.add(tf.keras.layers.Conv2D(64, (3, 3), activation='relu', kernel_initializer='he_uniform', padding='same'))\n",
        "  CNN.add(tf.keras.layers.Conv2D(64, (3, 3), activation='relu', kernel_initializer='he_uniform', padding='same'))\n",
        "  CNN.add(tf.keras.layers.MaxPooling2D((2, 2)))\n",
        "  CNN.add(tf.keras.layers.Conv2D(128, (3, 3), activation='relu', kernel_initializer='he_uniform', padding='same'))\n",
        "  CNN.add(tf.keras.layers.Conv2D(128, (3, 3), activation='relu', kernel_initializer='he_uniform', padding='same'))\n",
        "  CNN.add(tf.keras.layers.Flatten())\n",
        "  CNN.add(tf.keras.layers.Dense(64, activation='relu', kernel_initializer='he_uniform'))\n",
        "  CNN.add(tf.keras.layers.Dense(10, activation='softmax'))\n",
        "\n",
        "  return CNN"
      ],
      "execution_count": null,
      "outputs": []
    },
    {
      "cell_type": "code",
      "metadata": {
        "id": "n0E-WIPjtkca"
      },
      "source": [
        "your_cnn = build_CNN()\n",
        "your_cnn.build([None, 32, 32, 3])"
      ],
      "execution_count": null,
      "outputs": []
    },
    {
      "cell_type": "code",
      "metadata": {
        "id": "4RFHmPO6rz1G"
      },
      "source": [
        "your_cnn.compile(optimizer='adam',\n",
        "              loss='sparse_categorical_crossentropy',\n",
        "              metrics=['accuracy'])"
      ],
      "execution_count": null,
      "outputs": []
    },
    {
      "cell_type": "code",
      "metadata": {
        "id": "ssOt5ROWrz1H"
      },
      "source": [
        "history = your_cnn.fit(x_train, y_train, epochs=20, validation_split=0.2)"
      ],
      "execution_count": null,
      "outputs": []
    },
    {
      "cell_type": "code",
      "metadata": {
        "id": "DkQqSwGdzDpI"
      },
      "source": [
        "your_cnn.evaluate(x_test,  y_test, verbose=2) # 테스트"
      ],
      "execution_count": null,
      "outputs": []
    },
    {
      "cell_type": "code",
      "metadata": {
        "id": "U_PhPmTwtwnb"
      },
      "source": [
        "fig = plt.subplot(1,2,1)\n",
        "plt.plot(history.epoch, history.history['loss'], '-', label='loss')\n",
        "plt.plot(history.epoch, history.history['val_loss'], '--', label='val_loss')\n",
        "plt.xlabel('Epochs')\n",
        "plt.ylabel('loss')\n",
        "plt.legend()\n",
        "fig = plt.subplot(1,2,2)\n",
        "plt.plot(history.epoch, history.history['accuracy'], '-', label='accuracy')\n",
        "plt.plot(history.epoch, history.history['val_accuracy'], '--', label='val_accuracy')\n",
        "plt.xlabel('Epochs')\n",
        "plt.ylabel('accuracy')\n",
        "plt.legend()"
      ],
      "execution_count": null,
      "outputs": []
    },
    {
      "cell_type": "code",
      "metadata": {
        "id": "9VdNEmJcx-Fu"
      },
      "source": [
        ""
      ],
      "execution_count": null,
      "outputs": []
    },
    {
      "cell_type": "markdown",
      "metadata": {
        "id": "IxDqdZz-s4qQ"
      },
      "source": [
        "# 3.Train your model smarter\n",
        "\n",
        "모델 학습 시 조금 더 똑똑하게 학습하기 위한 유용한 도구들이 존재합니다.\n",
        "그 중 하나는 Keras에서는 [Callback함수를 활용](https://https://www.tensorflow.org/guide/keras/train_and_evaluate#%EC%BD%9C%EB%B0%B1_%EC%82%AC%EC%9A%A9%ED%95%98%EA%B8%B0)하는 것입니다.\n",
        "\n",
        "- EarlyStopping : validation loss가 일정 이상 줄어들지 않으면, 학습을 정지합니다.\n",
        "- ModelCheckpoint : 학습 중 모델을 일정 주기로 모델을 저장합니다.\n",
        "- TensorBoard : [TensorBoard](https://www.tensorflow.org/tensorboard)에서 읽을 수 있는 형태로 log를 저장합니다."
      ]
    },
    {
      "cell_type": "code",
      "metadata": {
        "id": "YvGMHXahs3YX"
      },
      "source": [
        "callbacks = [\n",
        "    tf.keras.callbacks.EarlyStopping(\n",
        "            # Stop training when `val_loss` is no longer improving\n",
        "            monitor=\"val_loss\",\n",
        "            # \"no longer improving\" being defined as \"no better than 1e-2 less\"\n",
        "            min_delta=1e-2,\n",
        "            # \"no longer improving\" being further defined as \"for at least 2 epochs\"\n",
        "            patience=5,\n",
        "            verbose=1,\n",
        "        ),\n",
        "    tf.keras.callbacks.ModelCheckpoint(\n",
        "        # Path where to save the model\n",
        "        # The two parameters below mean that we will overwrite\n",
        "        # the current checkpoint if and only if\n",
        "        # the `val_loss` score has improved.\n",
        "        # The saved model name will include the current epoch.\n",
        "        filepath=\"step3_{epoch}.h5\",\n",
        "        save_best_only=True,  # Only save a model if `val_loss` has improved.\n",
        "        monitor=\"val_loss\",\n",
        "        verbose=1,\n",
        "    )\n",
        "]"
      ],
      "execution_count": null,
      "outputs": []
    },
    {
      "cell_type": "markdown",
      "metadata": {
        "id": "KUbmi_9hxFPf"
      },
      "source": [
        "### Add Dropout layers\n",
        "\n",
        "모델의 성능을 개선하기 위해 스케일을 높일 경우 쉽게 과대적합될 수 있습니다.\n",
        "이것을 피하기 위해 몇 가지 Regularization 기법을 쓸 수 있습니다.\n",
        "이번에는 Dropout layer를 추가할 것입니다."
      ]
    },
    {
      "cell_type": "code",
      "metadata": {
        "id": "YjL9w_CUs3ai"
      },
      "source": [
        "def add_dropout():\n",
        "  CNN = tf.keras.models.Sequential()\n",
        "  CNN.add(tf.keras.layers.Conv2D(32, (3, 3), activation='relu', kernel_initializer='he_uniform', padding='same'))\n",
        "  CNN.add(tf.keras.layers.Conv2D(32, (3, 3), activation='relu', kernel_initializer='he_uniform', padding='same'))\n",
        "  CNN.add(tf.keras.layers.MaxPooling2D((2, 2)))\n",
        "  CNN.add(tf.keras.layers.Dropout(0.25))\n",
        "  CNN.add(tf.keras.layers.Conv2D(64, (3, 3), activation='relu', kernel_initializer='he_uniform', padding='same'))\n",
        "  CNN.add(tf.keras.layers.Conv2D(64, (3, 3), activation='relu', kernel_initializer='he_uniform', padding='same'))\n",
        "  CNN.add(tf.keras.layers.MaxPooling2D((2, 2)))\n",
        "  CNN.add(tf.keras.layers.Dropout(0.25))\n",
        "  CNN.add(tf.keras.layers.Conv2D(128, (3, 3), activation='relu', kernel_initializer='he_uniform', padding='same'))\n",
        "  CNN.add(tf.keras.layers.Conv2D(128, (3, 3), activation='relu', kernel_initializer='he_uniform', padding='same'))\n",
        "  CNN.add(tf.keras.layers.Dropout(0.25))\n",
        "  CNN.add(tf.keras.layers.Flatten())\n",
        "  CNN.add(tf.keras.layers.Dense(64, activation='relu', kernel_initializer='he_uniform'))\n",
        "  CNN.add(tf.keras.layers.Dense(10, activation='softmax'))\n",
        "  return CNN"
      ],
      "execution_count": null,
      "outputs": []
    },
    {
      "cell_type": "code",
      "metadata": {
        "id": "YA3ehz7-xhu2"
      },
      "source": [
        "CNN_with_dropout = add_dropout()\n",
        "CNN_with_dropout.build([None, 32, 32, 3])"
      ],
      "execution_count": null,
      "outputs": []
    },
    {
      "cell_type": "code",
      "metadata": {
        "id": "NuVClcFns3dD"
      },
      "source": [
        "CNN_with_dropout.compile(optimizer='adam',\n",
        "              loss='sparse_categorical_crossentropy',\n",
        "              metrics=['accuracy'])\n",
        "history = CNN_with_dropout.fit(x_train, y_train, epochs=20, validation_split=0.2,\n",
        "                               callbacks=callbacks)"
      ],
      "execution_count": null,
      "outputs": []
    },
    {
      "cell_type": "code",
      "metadata": {
        "id": "AyBJ8rrOz0Ln"
      },
      "source": [
        "fig = plt.subplot(1,2,1)\n",
        "plt.plot(history.epoch, history.history['loss'], '-', label='loss')\n",
        "plt.plot(history.epoch, history.history['val_loss'], '--', label='val_loss')\n",
        "plt.xlabel('Epochs')\n",
        "plt.ylabel('loss')\n",
        "plt.legend()\n",
        "fig = plt.subplot(1,2,2)\n",
        "plt.plot(history.epoch, history.history['accuracy'], '-', label='accuracy')\n",
        "plt.plot(history.epoch, history.history['val_accuracy'], '--', label='val_accuracy')\n",
        "plt.xlabel('Epochs')\n",
        "plt.ylabel('accuracy')\n",
        "plt.legend()"
      ],
      "execution_count": null,
      "outputs": []
    },
    {
      "cell_type": "code",
      "metadata": {
        "id": "AbMnKoW2xlIR"
      },
      "source": [
        "path_to_best_model = \"path/to/best/model\"\n",
        "best_model = tf.keras.models.load_model(path_to_best_model)\n",
        "best_model.evaluate(x_test,  y_test, verbose=2)"
      ],
      "execution_count": null,
      "outputs": []
    },
    {
      "cell_type": "code",
      "metadata": {
        "id": "wTvKCcn-xvbd"
      },
      "source": [
        ""
      ],
      "execution_count": null,
      "outputs": []
    },
    {
      "cell_type": "markdown",
      "metadata": {
        "id": "AGVF2vhYyCoo"
      },
      "source": [
        "# 4. 데이터 파이프라인과 데이터증폭\n",
        "\n",
        "텐서플로우 데이터 파이프라인은 학습데이터를 design하기 위한 멋진 인터페이스를 제공합니다. 주로 다음과 같은 절차를 밟습니다.\n",
        "\n",
        "- step 1. 텐서플로우 데이터셋 객체를 만든다.\n",
        "- step 2. map 함수로 데이터를 전처리한다.\n",
        "- step 3. 데이터파이프라인을 최적화한다."
      ]
    },
    {
      "cell_type": "code",
      "metadata": {
        "id": "u5aXtGNUyCJ9"
      },
      "source": [
        "# step 1. 텐서플로우 데이터셋 객체를 만듭니다.\n",
        "\n",
        "train_ds = tf.data.Dataset.from_tensor_slices((x_train, y_train)) \n",
        "num_train = len(train_ds)\n",
        "print(\"학습데이터 수 : \", num_train)\n",
        "\n",
        "# 학습셋, 검증셋 스플릿\n",
        "val_ds = train_ds.take(int(num_train*0.2))\n",
        "train_ds = train_ds.skip(int(num_train*0.2))\n",
        "\n",
        "# 테스트셋\n",
        "test_ds = tf.data.Dataset.from_tensor_slices((x_test, y_test))"
      ],
      "execution_count": null,
      "outputs": []
    },
    {
      "cell_type": "code",
      "metadata": {
        "id": "1NFFbZTj3wAU"
      },
      "source": [
        "print(len(train_ds), len(val_ds), len(test_ds))"
      ],
      "execution_count": null,
      "outputs": []
    },
    {
      "cell_type": "code",
      "metadata": {
        "id": "e0IAFCAZ1DLR"
      },
      "source": [
        "# step 2. 데이터를 전처리합니다.\n",
        "\n",
        "def augment(img,label):\n",
        "    img = tf.image.resize_with_crop_or_pad(img, 32 + 4, 32 + 4) \n",
        "    # Random crop back to the original size\n",
        "    img = tf.image.random_crop(img, size=[32, 32, 3])\n",
        "    img = tf.image.random_brightness(img, 0.15)\n",
        "    img = tf.image.random_saturation(img, lower=0.5, upper=1.5)\n",
        "    img = tf.image.random_hue(img, 0.2)\n",
        "    img = tf.image.random_contrast(img, lower=0.5, upper=1.5)\n",
        "    return img, label\n",
        "\n",
        "train_ds = train_ds.map(augment)"
      ],
      "execution_count": null,
      "outputs": []
    },
    {
      "cell_type": "code",
      "metadata": {
        "id": "xjN5SlUoyCMe"
      },
      "source": [
        "# step 3. 파이프라인을 최적화해줍니다.\n",
        "\n",
        "train_ds = train_ds.shuffle(1000).batch(64).prefetch(tf.data.experimental.AUTOTUNE)\n",
        "val_ds = val_ds.batch(64).prefetch(tf.data.experimental.AUTOTUNE)\n",
        "test_ds = test_ds.batch(64)"
      ],
      "execution_count": null,
      "outputs": []
    },
    {
      "cell_type": "code",
      "metadata": {
        "id": "poojIsSAyCPB"
      },
      "source": [
        "CNN_with_dropout = add_dropout()\n",
        "CNN_with_dropout.build([None, 32, 32, 3])\n",
        "CNN_with_dropout.compile(optimizer='adam',\n",
        "              loss='sparse_categorical_crossentropy',\n",
        "              metrics=['accuracy'])\n",
        "\n",
        "callbacks = [\n",
        "    tf.keras.callbacks.EarlyStopping(\n",
        "            # Stop training when `val_loss` is no longer improving\n",
        "            monitor=\"val_loss\",\n",
        "            # \"no longer improving\" being defined as \"no better than 1e-2 less\"\n",
        "            min_delta=1e-2,\n",
        "            # \"no longer improving\" being further defined as \"for at least 2 epochs\"\n",
        "            patience=5,\n",
        "            verbose=1,\n",
        "        ),\n",
        "    tf.keras.callbacks.ModelCheckpoint(\n",
        "        # Path where to save the model\n",
        "        # The two parameters below mean that we will overwrite\n",
        "        # the current checkpoint if and only if\n",
        "        # the `val_loss` score has improved.\n",
        "        # The saved model name will include the current epoch.\n",
        "        filepath=\"step4_{epoch}.h5\",\n",
        "        save_best_only=True,  # Only save a model if `val_loss` has improved.\n",
        "        monitor=\"val_loss\",\n",
        "        verbose=1,\n",
        "    )\n",
        "]\n",
        "history = CNN_with_dropout.fit(train_ds, epochs=40, validation_data=val_ds,\n",
        "                               callbacks=callbacks)"
      ],
      "execution_count": null,
      "outputs": []
    },
    {
      "cell_type": "code",
      "metadata": {
        "id": "t5HPkyaIyCRm"
      },
      "source": [
        "fig = plt.subplot(1,2,1)\n",
        "plt.plot(history.epoch, history.history['loss'], '-', label='loss')\n",
        "plt.plot(history.epoch, history.history['val_loss'], '--', label='val_loss')\n",
        "plt.xlabel('Epochs')\n",
        "plt.ylabel('loss')\n",
        "plt.legend()\n",
        "fig = plt.subplot(1,2,2)\n",
        "plt.plot(history.epoch, history.history['accuracy'], '-', label='accuracy')\n",
        "plt.plot(history.epoch, history.history['val_accuracy'], '--', label='val_accuracy')\n",
        "plt.xlabel('Epochs')\n",
        "plt.ylabel('accuracy')\n",
        "plt.legend()"
      ],
      "execution_count": null,
      "outputs": []
    },
    {
      "cell_type": "code",
      "metadata": {
        "id": "2TlZ99q5yCUL"
      },
      "source": [
        "path_to_best_model = \"path/to/best/model\"\n",
        "best_model = tf.keras.models.load_model(path_to_best_model)\n",
        "best_model.evaluate(x_test,  y_test, verbose=2)"
      ],
      "execution_count": null,
      "outputs": []
    },
    {
      "cell_type": "code",
      "metadata": {
        "id": "bk23vHd6yCWs"
      },
      "source": [
        ""
      ],
      "execution_count": null,
      "outputs": []
    },
    {
      "cell_type": "markdown",
      "metadata": {
        "id": "4H_X5nKt7u4c"
      },
      "source": [
        "# 5. Learning rate scheduler\n",
        "\n",
        "학습률(learning rate)은 가장 중요한 hyper-parameter 중 하나입니다. 일반적으로 학습초기부터 끝까지 동일한 학습률을 쓰는 것보다 약간씩 감소시키는 것이 더 좋을 수도 있습니다."
      ]
    },
    {
      "cell_type": "code",
      "metadata": {
        "id": "uQN-56G17twa"
      },
      "source": [
        "CNN_with_dropout = add_dropout()\n",
        "CNN_with_dropout.build([None, 32, 32, 3])\n",
        "\n",
        "lr_schedule = tf.keras.optimizers.schedules.ExponentialDecay(\n",
        "    initial_learning_rate=1e-3,\n",
        "    decay_steps=1000,\n",
        "    decay_rate=0.95)\n",
        "\n",
        "optimizer = tf.keras.optimizers.Adam(learning_rate=lr_schedule)\n",
        "\n",
        "CNN_with_dropout.compile(optimizer=optimizer,\n",
        "              loss='sparse_categorical_crossentropy',\n",
        "              metrics=['accuracy'])\n",
        "\n",
        "callbacks = [\n",
        "    tf.keras.callbacks.EarlyStopping(\n",
        "            # Stop training when `val_loss` is no longer improving\n",
        "            monitor=\"val_loss\",\n",
        "            # \"no longer improving\" being defined as \"no better than 1e-2 less\"\n",
        "            min_delta=1e-2,\n",
        "            # \"no longer improving\" being further defined as \"for at least 2 epochs\"\n",
        "            patience=5,\n",
        "            verbose=1,\n",
        "        ),\n",
        "    tf.keras.callbacks.ModelCheckpoint(\n",
        "        # Path where to save the model\n",
        "        # The two parameters below mean that we will overwrite\n",
        "        # the current checkpoint if and only if\n",
        "        # the `val_loss` score has improved.\n",
        "        # The saved model name will include the current epoch.\n",
        "        filepath=\"step5_{epoch}.h5\",\n",
        "        save_best_only=True,  # Only save a model if `val_loss` has improved.\n",
        "        monitor=\"val_loss\",\n",
        "        verbose=1,\n",
        "    )\n",
        "]\n",
        "history = CNN_with_dropout.fit(train_ds, epochs=40, validation_data=val_ds,\n",
        "                               callbacks=callbacks)"
      ],
      "execution_count": null,
      "outputs": []
    },
    {
      "cell_type": "code",
      "metadata": {
        "id": "BkUGQSvt_w5s"
      },
      "source": [
        "fig = plt.subplot(1,2,1)\n",
        "plt.plot(history.epoch, history.history['loss'], '-', label='loss')\n",
        "plt.plot(history.epoch, history.history['val_loss'], '--', label='val_loss')\n",
        "plt.xlabel('Epochs')\n",
        "plt.ylabel('loss')\n",
        "plt.legend()\n",
        "fig = plt.subplot(1,2,2)\n",
        "plt.plot(history.epoch, history.history['accuracy'], '-', label='accuracy')\n",
        "plt.plot(history.epoch, history.history['val_accuracy'], '--', label='val_accuracy')\n",
        "plt.xlabel('Epochs')\n",
        "plt.ylabel('accuracy')\n",
        "plt.legend()"
      ],
      "execution_count": null,
      "outputs": []
    },
    {
      "cell_type": "code",
      "metadata": {
        "id": "cDNyIfJj_w9K"
      },
      "source": [
        "path_to_best_model = \"path/to/best/model\"\n",
        "best_model = tf.keras.models.load_model(path_to_best_model)\n",
        "best_model.evaluate(x_test,  y_test, verbose=2)"
      ],
      "execution_count": null,
      "outputs": []
    },
    {
      "cell_type": "code",
      "metadata": {
        "id": "VB7Qg7t09xbk"
      },
      "source": [
        ""
      ],
      "execution_count": null,
      "outputs": []
    },
    {
      "cell_type": "markdown",
      "metadata": {
        "id": "EPrQopRn9xqE"
      },
      "source": [
        "# 6. Transfer learning"
      ]
    },
    {
      "cell_type": "code",
      "metadata": {
        "id": "AtdiwKFM_UDL"
      },
      "source": [
        "backbone = tf.keras.applications.EfficientNetB0(include_top=False,\n",
        "                                                   input_shape=(64,64,3),\n",
        "                                                   weights=\"imagenet\")\n",
        "# len(resnet_backbone.layers)\n",
        "# for layer in resnet_backbone.layers[:160]:\n",
        "#   layer.trainable = False\n",
        "\n",
        "classifier = tf.keras.Sequential([backbone,\n",
        "                                         tf.keras.layers.GlobalAveragePooling2D(),\n",
        "                                         tf.keras.layers.Dense(128, activation='relu'),\n",
        "                                         tf.keras.layers.BatchNormalization(),\n",
        "                                         tf.keras.layers.ReLU(),\n",
        "                                         tf.keras.layers.Dense(64, activation='relu'),\n",
        "                                         tf.keras.layers.BatchNormalization(),\n",
        "                                         tf.keras.layers.ReLU(),\n",
        "                                         tf.keras.layers.Dense(10, activation='softmax')])"
      ],
      "execution_count": 17,
      "outputs": []
    },
    {
      "cell_type": "code",
      "metadata": {
        "id": "_S3Sm6EQA4Sz",
        "outputId": "6bd369f6-5f0c-46e2-f062-380d39d2c334",
        "colab": {
          "base_uri": "https://localhost:8080/"
        }
      },
      "source": [
        "classifier.summary()"
      ],
      "execution_count": 18,
      "outputs": [
        {
          "output_type": "stream",
          "text": [
            "Model: \"sequential_3\"\n",
            "_________________________________________________________________\n",
            "Layer (type)                 Output Shape              Param #   \n",
            "=================================================================\n",
            "efficientnetb0 (Functional)  (None, 2, 2, 1280)        4049571   \n",
            "_________________________________________________________________\n",
            "global_average_pooling2d_3 ( (None, 1280)              0         \n",
            "_________________________________________________________________\n",
            "dense_9 (Dense)              (None, 128)               163968    \n",
            "_________________________________________________________________\n",
            "batch_normalization_6 (Batch (None, 128)               512       \n",
            "_________________________________________________________________\n",
            "re_lu_6 (ReLU)               (None, 128)               0         \n",
            "_________________________________________________________________\n",
            "dense_10 (Dense)             (None, 64)                8256      \n",
            "_________________________________________________________________\n",
            "batch_normalization_7 (Batch (None, 64)                256       \n",
            "_________________________________________________________________\n",
            "re_lu_7 (ReLU)               (None, 64)                0         \n",
            "_________________________________________________________________\n",
            "dense_11 (Dense)             (None, 10)                650       \n",
            "=================================================================\n",
            "Total params: 4,223,213\n",
            "Trainable params: 4,180,806\n",
            "Non-trainable params: 42,407\n",
            "_________________________________________________________________\n"
          ],
          "name": "stdout"
        }
      ]
    },
    {
      "cell_type": "code",
      "metadata": {
        "id": "BaNjfmmz7tzM",
        "outputId": "7a64442c-9203-4f94-dba2-d1be7a5141a3",
        "colab": {
          "base_uri": "https://localhost:8080/"
        }
      },
      "source": [
        "# step 1. 텐서플로우 데이터셋 객체를 만듭니다.\n",
        "from tensorflow.keras.datasets import cifar10\n",
        "(x_train, y_train), (x_test, y_test) = cifar10.load_data() # data load\n",
        "train_ds = tf.data.Dataset.from_tensor_slices((x_train, y_train)) \n",
        "num_train = len(train_ds)\n",
        "print(\"학습데이터 수 : \", num_train)\n",
        "\n",
        "# 학습셋, 검증셋 스플릿\n",
        "val_ds = train_ds.take(int(num_train*0.2))\n",
        "train_ds = train_ds.skip(int(num_train*0.2))\n",
        "\n",
        "# 테스트셋\n",
        "test_ds = tf.data.Dataset.from_tensor_slices((x_test, y_test))"
      ],
      "execution_count": 19,
      "outputs": [
        {
          "output_type": "stream",
          "text": [
            "학습데이터 수 :  50000\n"
          ],
          "name": "stdout"
        }
      ]
    },
    {
      "cell_type": "code",
      "metadata": {
        "id": "FtRfP-h_-C1y"
      },
      "source": [
        "# step 2. 데이터를 전처리합니다.\n",
        "\n",
        "def augment(img,label):\n",
        "    img = tf.image.resize_with_crop_or_pad(img, 32 + 4, 32 + 4) \n",
        "    # Random crop back to the original size\n",
        "    img = tf.image.random_crop(img, size=[32, 32, 3])\n",
        "    img = tf.image.random_brightness(img, 0.15)\n",
        "    img = tf.image.random_saturation(img, lower=0.5, upper=1.5)\n",
        "    img = tf.image.random_hue(img, 0.2)\n",
        "    img = tf.image.random_contrast(img, lower=0.5, upper=1.5)\n",
        "    return img, label\n",
        "\n",
        "def resize_image(img, label):\n",
        "  img = tf.image.resize(img, [64,64], method='bicubic')\n",
        "  img = tf.keras.applications.resnet50.preprocess_input(img)\n",
        "  return img, label\n",
        "\n",
        "train_ds = train_ds.map(augment,num_parallel_calls=tf.data.AUTOTUNE)\n",
        "train_ds = train_ds.map(resize_image, num_parallel_calls=tf.data.AUTOTUNE)\n",
        "val_ds = val_ds.map(resize_image, num_parallel_calls=tf.data.AUTOTUNE)\n",
        "test_ds = test_ds.map(resize_image)"
      ],
      "execution_count": 20,
      "outputs": []
    },
    {
      "cell_type": "code",
      "metadata": {
        "id": "kpEmCU10-E60"
      },
      "source": [
        "# step 3. 파이프라인을 최적화해줍니다.\n",
        "\n",
        "train_ds = train_ds.shuffle(1000).batch(64).prefetch(tf.data.experimental.AUTOTUNE)\n",
        "val_ds = val_ds.batch(64).prefetch(tf.data.experimental.AUTOTUNE)\n",
        "test_ds = test_ds.batch(64)"
      ],
      "execution_count": 21,
      "outputs": []
    },
    {
      "cell_type": "code",
      "metadata": {
        "id": "anabD_16A20G",
        "outputId": "0881788c-1a4a-4b11-d38f-a82668c85b58",
        "colab": {
          "base_uri": "https://localhost:8080/"
        }
      },
      "source": [
        "lr_schedule = tf.keras.optimizers.schedules.ExponentialDecay(\n",
        "    initial_learning_rate=1e-3,\n",
        "    decay_steps=200,\n",
        "    decay_rate=0.9)\n",
        "\n",
        "optimizer = tf.keras.optimizers.Adam(lr_schedule)\n",
        "\n",
        "classifier.compile(optimizer=optimizer,\n",
        "              loss='sparse_categorical_crossentropy',\n",
        "              metrics=['accuracy'])\n",
        "\n",
        "callbacks = [\n",
        "    tf.keras.callbacks.EarlyStopping(\n",
        "            # Stop training when `val_loss` is no longer improving\n",
        "            monitor=\"val_loss\",\n",
        "            # \"no longer improving\" being defined as \"no better than 1e-2 less\"\n",
        "            min_delta=1e-2,\n",
        "            # \"no longer improving\" being further defined as \"for at least 2 epochs\"\n",
        "            patience=5,\n",
        "            verbose=1,\n",
        "        ),\n",
        "    tf.keras.callbacks.ModelCheckpoint(\n",
        "        # Path where to save the model\n",
        "        # The two parameters below mean that we will overwrite\n",
        "        # the current checkpoint if and only if\n",
        "        # the `val_loss` score has improved.\n",
        "        # The saved model name will include the current epoch.\n",
        "        filepath=\"step6_{epoch}.h5\",\n",
        "        save_best_only=True,  # Only save a model if `val_loss` has improved.\n",
        "        monitor=\"val_loss\",\n",
        "        verbose=1,\n",
        "    )\n",
        "]\n",
        "history = classifier.fit(train_ds, epochs=40, validation_data=val_ds,\n",
        "                               callbacks=callbacks)"
      ],
      "execution_count": null,
      "outputs": [
        {
          "output_type": "stream",
          "text": [
            "Epoch 1/40\n",
            "625/625 [==============================] - 158s 150ms/step - loss: 0.9424 - accuracy: 0.6891 - val_loss: 0.4639 - val_accuracy: 0.8439\n",
            "\n",
            "Epoch 00001: val_loss improved from inf to 0.46390, saving model to step6_1.h5\n"
          ],
          "name": "stdout"
        },
        {
          "output_type": "stream",
          "text": [
            "/usr/local/lib/python3.7/dist-packages/keras/utils/generic_utils.py:497: CustomMaskWarning: Custom mask layers require a config and must override get_config. When loading, the custom mask layer must be passed to the custom_objects argument.\n",
            "  category=CustomMaskWarning)\n"
          ],
          "name": "stderr"
        },
        {
          "output_type": "stream",
          "text": [
            "Epoch 2/40\n",
            "625/625 [==============================] - 93s 148ms/step - loss: 0.4944 - accuracy: 0.8369 - val_loss: 0.3466 - val_accuracy: 0.8865\n",
            "\n",
            "Epoch 00002: val_loss improved from 0.46390 to 0.34659, saving model to step6_2.h5\n",
            "Epoch 3/40\n",
            "625/625 [==============================] - 92s 147ms/step - loss: 0.3776 - accuracy: 0.8737 - val_loss: 0.2662 - val_accuracy: 0.9084\n",
            "\n",
            "Epoch 00003: val_loss improved from 0.34659 to 0.26624, saving model to step6_3.h5\n",
            "Epoch 4/40\n",
            "625/625 [==============================] - 97s 154ms/step - loss: 0.2973 - accuracy: 0.8999 - val_loss: 0.2716 - val_accuracy: 0.9103\n",
            "\n",
            "Epoch 00004: val_loss did not improve from 0.26624\n",
            "Epoch 5/40\n",
            "625/625 [==============================] - 93s 148ms/step - loss: 0.2335 - accuracy: 0.9195 - val_loss: 0.2474 - val_accuracy: 0.9189\n",
            "\n",
            "Epoch 00005: val_loss improved from 0.26624 to 0.24737, saving model to step6_5.h5\n",
            "Epoch 6/40\n",
            "625/625 [==============================] - 92s 147ms/step - loss: 0.1957 - accuracy: 0.9351 - val_loss: 0.2396 - val_accuracy: 0.9207\n",
            "\n",
            "Epoch 00006: val_loss improved from 0.24737 to 0.23963, saving model to step6_6.h5\n",
            "Epoch 7/40\n",
            "625/625 [==============================] - 92s 147ms/step - loss: 0.1628 - accuracy: 0.9449 - val_loss: 0.2389 - val_accuracy: 0.9206\n",
            "\n",
            "Epoch 00007: val_loss improved from 0.23963 to 0.23894, saving model to step6_7.h5\n",
            "Epoch 8/40\n",
            "625/625 [==============================] - 97s 155ms/step - loss: 0.1381 - accuracy: 0.9531 - val_loss: 0.2304 - val_accuracy: 0.9253\n",
            "\n",
            "Epoch 00008: val_loss improved from 0.23894 to 0.23044, saving model to step6_8.h5\n",
            "Epoch 9/40\n",
            "625/625 [==============================] - 93s 149ms/step - loss: 0.1229 - accuracy: 0.9583 - val_loss: 0.2307 - val_accuracy: 0.9279\n",
            "\n",
            "Epoch 00009: val_loss did not improve from 0.23044\n",
            "Epoch 10/40\n",
            " 34/625 [>.............................] - ETA: 1:22 - loss: 0.1194 - accuracy: 0.9623"
          ],
          "name": "stdout"
        }
      ]
    },
    {
      "cell_type": "code",
      "metadata": {
        "id": "ayrfnWKrBk3t"
      },
      "source": [
        "fig = plt.subplot(1,2,1)\n",
        "plt.plot(history.epoch, history.history['loss'], '-', label='loss')\n",
        "plt.plot(history.epoch, history.history['val_loss'], '--', label='val_loss')\n",
        "plt.xlabel('Epochs')\n",
        "plt.ylabel('loss')\n",
        "plt.legend()\n",
        "fig = plt.subplot(1,2,2)\n",
        "plt.plot(history.epoch, history.history['accuracy'], '-', label='accuracy')\n",
        "plt.plot(history.epoch, history.history['val_accuracy'], '--', label='val_accuracy')\n",
        "plt.xlabel('Epochs')\n",
        "plt.ylabel('accuracy')\n",
        "plt.legend()"
      ],
      "execution_count": null,
      "outputs": []
    },
    {
      "cell_type": "code",
      "metadata": {
        "id": "Bqb0x7qSQg2N"
      },
      "source": [
        "path_to_best_model = \"path/to/best/model\"\n",
        "best_model = tf.keras.models.load_model(path_to_best_model)\n",
        "best_model.evaluate(test_ds, verbose=2)"
      ],
      "execution_count": null,
      "outputs": []
    }
  ]
}