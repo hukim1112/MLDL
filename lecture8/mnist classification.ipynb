{
  "nbformat": 4,
  "nbformat_minor": 0,
  "metadata": {
    "kernelspec": {
      "display_name": "tf",
      "language": "python",
      "name": "tf"
    },
    "language_info": {
      "codemirror_mode": {
        "name": "ipython",
        "version": 3
      },
      "file_extension": ".py",
      "mimetype": "text/x-python",
      "name": "python",
      "nbconvert_exporter": "python",
      "pygments_lexer": "ipython3",
      "version": "3.6.9"
    },
    "colab": {
      "name": "mnist classification.ipynb",
      "provenance": []
    }
  },
  "cells": [
    {
      "cell_type": "code",
      "metadata": {
        "id": "v2nb8oGPvp3g"
      },
      "source": [
        "from __future__ import absolute_import, division, print_function, unicode_literals\n",
        "\n",
        "# Install TensorFlow\n",
        "try:\n",
        "  # %tensorflow_version only exists in Colab.\n",
        "  %tensorflow_version 2.x\n",
        "except Exception:\n",
        "  pass\n",
        "\n",
        "import tensorflow as tf"
      ],
      "execution_count": null,
      "outputs": []
    },
    {
      "cell_type": "code",
      "metadata": {
        "id": "O6TYCc7_vp3k"
      },
      "source": [
        "print(tf.__version__) #version check"
      ],
      "execution_count": null,
      "outputs": []
    },
    {
      "cell_type": "markdown",
      "metadata": {
        "id": "PEdE2myqvp3l"
      },
      "source": [
        "# 1. Train your first model"
      ]
    },
    {
      "cell_type": "code",
      "metadata": {
        "id": "UkxxNmouvp3l"
      },
      "source": [
        "mnist = tf.keras.datasets.mnist\n",
        "\n",
        "(x_train, y_train), (x_test, y_test) = mnist.load_data() # data load\n",
        "x_train, x_test = x_train / 255.0, x_test / 255.0 # data preprocessing"
      ],
      "execution_count": null,
      "outputs": []
    },
    {
      "cell_type": "code",
      "metadata": {
        "id": "9KMJv811vp3m"
      },
      "source": [
        "print(x_train.shape, y_train.shape) #check your data shape"
      ],
      "execution_count": null,
      "outputs": []
    },
    {
      "cell_type": "code",
      "metadata": {
        "id": "EpN3pLEkvp3m"
      },
      "source": [
        "#keras in tensorflow gives easy ways to build model\n",
        "model = tf.keras.models.Sequential([\n",
        "  tf.keras.layers.Flatten(input_shape=(28, 28)),\n",
        "  tf.keras.layers.Dense(128, activation='relu'),\n",
        "  tf.keras.layers.Dropout(0.2),\n",
        "  tf.keras.layers.Dense(10, activation='softmax')\n",
        "])\n",
        "\n",
        "model.compile(optimizer='adam',\n",
        "              loss='sparse_categorical_crossentropy',\n",
        "              metrics=['accuracy'])"
      ],
      "execution_count": null,
      "outputs": []
    },
    {
      "cell_type": "code",
      "metadata": {
        "id": "gYEqxlsZvp3n"
      },
      "source": [
        "model.summary() #After building your model, you can see summarization of the architecture"
      ],
      "execution_count": null,
      "outputs": []
    },
    {
      "cell_type": "code",
      "metadata": {
        "id": "XAynjDuGvp3n"
      },
      "source": [
        "model.fit(x_train, y_train, epochs=5, validation_split=0.2)\n",
        "\n",
        "model.evaluate(x_test,  y_test, verbose=2)"
      ],
      "execution_count": null,
      "outputs": []
    },
    {
      "cell_type": "markdown",
      "metadata": {
        "id": "ppDmKhBDvp3o"
      },
      "source": [
        "# 2. Move to Convolutional Neural Network!"
      ]
    },
    {
      "cell_type": "code",
      "metadata": {
        "id": "BoJeQti4vp3o"
      },
      "source": [
        "your_cnn = tf.keras.models.Sequential()\n",
        "your_cnn.add(tf.keras.layers.Conv2D(32, (3, 3), activation='relu', input_shape=(28, 28, 1)))\n",
        "# 입력의 사이즈를 유지하려면 padding을 사용\n",
        "# your_cnn.add(tf.keras.layers.Conv2D(32, (3, 3), activation='relu', padding='same', input_shape=(28, 28, 1)))\n",
        "your_cnn.add(tf.keras.layers.MaxPooling2D((2, 2)))\n",
        "your_cnn.add(tf.keras.layers.Conv2D(64, (3, 3), activation='relu'))\n",
        "# 입력의 사이즈를 유지하려면 padding을 사용\n",
        "# your_cnn.add(tf.keras.layers.Conv2D(64, (3, 3), activation='relu', padding='same'))\n",
        "your_cnn.add(tf.keras.layers.Flatten())\n",
        "your_cnn.add(tf.keras.layers.Dense(64, activation='relu'))\n",
        "your_cnn.add(tf.keras.layers.Dense(10, activation='softmax'))"
      ],
      "execution_count": null,
      "outputs": []
    },
    {
      "cell_type": "code",
      "metadata": {
        "id": "21wbAaDMvp3p"
      },
      "source": [
        "your_cnn.summary()"
      ],
      "execution_count": null,
      "outputs": []
    },
    {
      "cell_type": "code",
      "metadata": {
        "id": "8Zgj0yh6vp3p"
      },
      "source": [
        "your_cnn.compile(optimizer='adam',\n",
        "              loss='sparse_categorical_crossentropy',\n",
        "              metrics=['accuracy'])"
      ],
      "execution_count": null,
      "outputs": []
    },
    {
      "cell_type": "code",
      "metadata": {
        "id": "iZmG0NSGvp3p"
      },
      "source": [
        "# Image shape must be (N, W, H, C) when you fetch this image into Convolutional layer. \n",
        "x_train = tf.expand_dims(x_train, axis = 3)\n",
        "x_test = tf.expand_dims(x_test, axis=3)"
      ],
      "execution_count": null,
      "outputs": []
    },
    {
      "cell_type": "code",
      "metadata": {
        "id": "06smW56Qvp3p"
      },
      "source": [
        "print(x_train.shape, y_train.shape) #check your data shape"
      ],
      "execution_count": null,
      "outputs": []
    },
    {
      "cell_type": "code",
      "metadata": {
        "id": "MFiNDWItvp3q"
      },
      "source": [
        "your_cnn.fit(x_train, y_train, epochs=5, validation_split=0.2)\n",
        "\n",
        "your_cnn.evaluate(x_test,  y_test, verbose=2)"
      ],
      "execution_count": null,
      "outputs": []
    },
    {
      "cell_type": "markdown",
      "metadata": {
        "id": "b4Op69s3vp3q"
      },
      "source": [
        "# you can see model parameters from layers"
      ]
    },
    {
      "cell_type": "code",
      "metadata": {
        "id": "2cR8O5SOvp3q"
      },
      "source": [
        "print(your_cnn.layers)"
      ],
      "execution_count": null,
      "outputs": []
    },
    {
      "cell_type": "code",
      "metadata": {
        "id": "NfrIpJrgvp3q"
      },
      "source": [
        "first_layer = your_cnn.layers[0]"
      ],
      "execution_count": null,
      "outputs": []
    },
    {
      "cell_type": "code",
      "metadata": {
        "id": "EveqrnFbvp3r"
      },
      "source": [
        "print(first_layer)"
      ],
      "execution_count": null,
      "outputs": []
    },
    {
      "cell_type": "code",
      "metadata": {
        "id": "mXhdj4hNvp3r"
      },
      "source": [
        "print(first_layer.get_weights()[0].shape)\n",
        "print(first_layer.get_weights()[1].shape)"
      ],
      "execution_count": null,
      "outputs": []
    },
    {
      "cell_type": "code",
      "metadata": {
        "id": "Vo2LNMTTvp3r"
      },
      "source": [
        "first_layer.get_weights()[0][:,:,0,0].shape"
      ],
      "execution_count": null,
      "outputs": []
    },
    {
      "cell_type": "code",
      "metadata": {
        "id": "dxN3yCJhvp3r"
      },
      "source": [
        "from matplotlib import pyplot as plt\n",
        "\n",
        "plt.figure(figsize=(10,10))\n",
        "for i in range(25):\n",
        "    plt.subplot(5,5,i+1)\n",
        "    plt.xticks([])\n",
        "    plt.yticks([])\n",
        "    plt.grid(False)\n",
        "    plt.imshow(first_layer.get_weights()[0][:,:,0,i], cmap='gray')\n",
        "    # The CIFAR labels happen to be arrays, \n",
        "    # which is why you need the extra index\n",
        "plt.show()"
      ],
      "execution_count": null,
      "outputs": []
    },
    {
      "cell_type": "code",
      "metadata": {
        "id": "PLVMvwY5vp3s"
      },
      "source": [
        ""
      ],
      "execution_count": null,
      "outputs": []
    }
  ]
}