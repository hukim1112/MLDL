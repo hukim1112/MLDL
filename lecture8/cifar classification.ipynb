{
  "nbformat": 4,
  "nbformat_minor": 0,
  "metadata": {
    "kernelspec": {
      "display_name": "tf",
      "language": "python",
      "name": "tf"
    },
    "language_info": {
      "codemirror_mode": {
        "name": "ipython",
        "version": 3
      },
      "file_extension": ".py",
      "mimetype": "text/x-python",
      "name": "python",
      "nbconvert_exporter": "python",
      "pygments_lexer": "ipython3",
      "version": "3.6.9"
    },
    "colab": {
      "name": "cifar classification.ipynb",
      "provenance": []
    },
    "accelerator": "GPU"
  },
  "cells": [
    {
      "cell_type": "code",
      "metadata": {
        "id": "ztWu3NJIrz1C"
      },
      "source": [
        "from __future__ import absolute_import, division, print_function, unicode_literals\n",
        "\n",
        "# Install TensorFlow\n",
        "try:\n",
        "  # %tensorflow_version only exists in Colab.\n",
        "  %tensorflow_version 2.x\n",
        "except Exception:\n",
        "  pass\n",
        "\n",
        "import tensorflow as tf\n",
        "from matplotlib import pyplot as plt"
      ],
      "execution_count": 25,
      "outputs": []
    },
    {
      "cell_type": "code",
      "metadata": {
        "id": "VJEsy0HGrz1E",
        "outputId": "57ee3935-9e27-40ba-e125-6c2b680b6540",
        "colab": {
          "base_uri": "https://localhost:8080/"
        }
      },
      "source": [
        "print(tf.__version__) #version check"
      ],
      "execution_count": 2,
      "outputs": [
        {
          "output_type": "stream",
          "text": [
            "2.5.0\n"
          ],
          "name": "stdout"
        }
      ]
    },
    {
      "cell_type": "markdown",
      "metadata": {
        "id": "bht2QF5crz1E"
      },
      "source": [
        "# 1. Train your first model"
      ]
    },
    {
      "cell_type": "code",
      "metadata": {
        "id": "ADr5RdBZrz1E",
        "outputId": "4e829685-05bf-40a7-c7a3-e97c46fa7d4a",
        "colab": {
          "base_uri": "https://localhost:8080/"
        }
      },
      "source": [
        "cifar = tf.keras.datasets.cifar10\n",
        "\n",
        "(x_train, y_train), (x_test, y_test) = cifar.load_data() # data load\n",
        "x_train, x_test = x_train / 255.0, x_test / 255.0 # data preprocessing"
      ],
      "execution_count": 3,
      "outputs": [
        {
          "output_type": "stream",
          "text": [
            "Downloading data from https://www.cs.toronto.edu/~kriz/cifar-10-python.tar.gz\n",
            "170500096/170498071 [==============================] - 4s 0us/step\n"
          ],
          "name": "stdout"
        }
      ]
    },
    {
      "cell_type": "code",
      "metadata": {
        "id": "kxvN4j5tstpi"
      },
      "source": [
        "print(x_train.shape, y_train.shape) #check your data shape"
      ],
      "execution_count": null,
      "outputs": []
    },
    {
      "cell_type": "markdown",
      "metadata": {
        "id": "Yj2yRORLrz1F"
      },
      "source": [
        "# 2. Move to Convolutional Neural Network!"
      ]
    },
    {
      "cell_type": "code",
      "metadata": {
        "id": "jEHLL0FPrz1F"
      },
      "source": [
        "your_cnn = tf.keras.models.Sequential()\n",
        "your_cnn.add(tf.keras.layers.Conv2D(32, (3, 3), activation='relu', kernel_initializer='he_uniform', padding='same'))\n",
        "your_cnn.add(tf.keras.layers.Conv2D(32, (3, 3), activation='relu', kernel_initializer='he_uniform', padding='same'))\n",
        "your_cnn.add(tf.keras.layers.MaxPooling2D((2, 2)))\n",
        "your_cnn.add(tf.keras.layers.Conv2D(64, (3, 3), activation='relu', kernel_initializer='he_uniform', padding='same'))\n",
        "your_cnn.add(tf.keras.layers.Conv2D(64, (3, 3), activation='relu', kernel_initializer='he_uniform', padding='same'))\n",
        "your_cnn.add(tf.keras.layers.MaxPooling2D((2, 2)))\n",
        "your_cnn.add(tf.keras.layers.Conv2D(128, (3, 3), activation='relu', kernel_initializer='he_uniform', padding='same'))\n",
        "your_cnn.add(tf.keras.layers.Conv2D(128, (3, 3), activation='relu', kernel_initializer='he_uniform', padding='same'))\n",
        "your_cnn.add(tf.keras.layers.Flatten())\n",
        "your_cnn.add(tf.keras.layers.Dense(64, activation='relu', kernel_initializer='he_uniform'))\n",
        "your_cnn.add(tf.keras.layers.Dense(10, activation='softmax'))\n",
        "\n",
        "your_cnn.build([None, 32, 32, 3])"
      ],
      "execution_count": 59,
      "outputs": []
    },
    {
      "cell_type": "code",
      "metadata": {
        "id": "4RFHmPO6rz1G"
      },
      "source": [
        "your_cnn.compile(optimizer='adam',\n",
        "              loss='sparse_categorical_crossentropy',\n",
        "              metrics=['accuracy'])"
      ],
      "execution_count": 60,
      "outputs": []
    },
    {
      "cell_type": "code",
      "metadata": {
        "id": "ssOt5ROWrz1H",
        "outputId": "b956dbec-4726-494e-cdac-07a018cc5097",
        "colab": {
          "base_uri": "https://localhost:8080/"
        }
      },
      "source": [
        "history = your_cnn.fit(x_train, y_train, epochs=20, validation_split=0.2)\n",
        "print(history.history.keys())\n",
        "your_cnn.evaluate(x_test,  y_test, verbose=2)"
      ],
      "execution_count": 61,
      "outputs": [
        {
          "output_type": "stream",
          "text": [
            "Epoch 1/20\n",
            "1250/1250 [==============================] - 7s 5ms/step - loss: 1.5479 - accuracy: 0.4320 - val_loss: 1.1650 - val_accuracy: 0.5782\n",
            "Epoch 2/20\n",
            "1250/1250 [==============================] - 6s 5ms/step - loss: 1.0238 - accuracy: 0.6327 - val_loss: 0.9205 - val_accuracy: 0.6662\n",
            "Epoch 3/20\n",
            "1250/1250 [==============================] - 6s 5ms/step - loss: 0.7918 - accuracy: 0.7140 - val_loss: 0.7633 - val_accuracy: 0.7370\n",
            "Epoch 4/20\n",
            "1250/1250 [==============================] - 7s 6ms/step - loss: 0.6415 - accuracy: 0.7702 - val_loss: 0.7477 - val_accuracy: 0.7385\n",
            "Epoch 5/20\n",
            "1250/1250 [==============================] - 7s 6ms/step - loss: 0.5164 - accuracy: 0.8182 - val_loss: 0.7362 - val_accuracy: 0.7494\n",
            "Epoch 6/20\n",
            "1250/1250 [==============================] - 7s 5ms/step - loss: 0.4098 - accuracy: 0.8527 - val_loss: 0.7793 - val_accuracy: 0.7545\n",
            "Epoch 7/20\n",
            "1250/1250 [==============================] - 7s 5ms/step - loss: 0.3202 - accuracy: 0.8851 - val_loss: 0.8506 - val_accuracy: 0.7525\n",
            "Epoch 8/20\n",
            "1250/1250 [==============================] - 7s 5ms/step - loss: 0.2489 - accuracy: 0.9121 - val_loss: 0.9397 - val_accuracy: 0.7433\n",
            "Epoch 9/20\n",
            "1250/1250 [==============================] - 7s 6ms/step - loss: 0.2108 - accuracy: 0.9246 - val_loss: 1.0308 - val_accuracy: 0.7409\n",
            "Epoch 10/20\n",
            "1250/1250 [==============================] - 7s 5ms/step - loss: 0.1759 - accuracy: 0.9388 - val_loss: 1.1422 - val_accuracy: 0.7472\n",
            "Epoch 11/20\n",
            "1250/1250 [==============================] - 6s 5ms/step - loss: 0.1664 - accuracy: 0.9414 - val_loss: 1.1632 - val_accuracy: 0.7325\n",
            "Epoch 12/20\n",
            "1250/1250 [==============================] - 6s 5ms/step - loss: 0.1531 - accuracy: 0.9472 - val_loss: 1.2574 - val_accuracy: 0.7420\n",
            "Epoch 13/20\n",
            "1250/1250 [==============================] - 6s 5ms/step - loss: 0.1457 - accuracy: 0.9485 - val_loss: 1.3006 - val_accuracy: 0.7364\n",
            "Epoch 14/20\n",
            "1250/1250 [==============================] - 7s 6ms/step - loss: 0.1377 - accuracy: 0.9530 - val_loss: 1.2992 - val_accuracy: 0.7404\n",
            "Epoch 15/20\n",
            "1250/1250 [==============================] - 7s 6ms/step - loss: 0.1322 - accuracy: 0.9560 - val_loss: 1.4038 - val_accuracy: 0.7329\n",
            "Epoch 16/20\n",
            "1250/1250 [==============================] - 7s 5ms/step - loss: 0.1281 - accuracy: 0.9569 - val_loss: 1.4273 - val_accuracy: 0.7368\n",
            "Epoch 17/20\n",
            "1250/1250 [==============================] - 7s 5ms/step - loss: 0.1220 - accuracy: 0.9589 - val_loss: 1.4872 - val_accuracy: 0.7339\n",
            "Epoch 18/20\n",
            "1250/1250 [==============================] - 7s 5ms/step - loss: 0.1187 - accuracy: 0.9594 - val_loss: 1.6439 - val_accuracy: 0.7209\n",
            "Epoch 19/20\n",
            "1250/1250 [==============================] - 7s 5ms/step - loss: 0.1145 - accuracy: 0.9618 - val_loss: 1.5521 - val_accuracy: 0.7400\n",
            "Epoch 20/20\n",
            "1250/1250 [==============================] - 6s 5ms/step - loss: 0.1133 - accuracy: 0.9625 - val_loss: 1.4434 - val_accuracy: 0.7323\n",
            "dict_keys(['loss', 'accuracy', 'val_loss', 'val_accuracy'])\n",
            "313/313 - 1s - loss: 1.6013 - accuracy: 0.7217\n"
          ],
          "name": "stdout"
        },
        {
          "output_type": "execute_result",
          "data": {
            "text/plain": [
              "[1.6013424396514893, 0.7217000126838684]"
            ]
          },
          "metadata": {
            "tags": []
          },
          "execution_count": 61
        }
      ]
    },
    {
      "cell_type": "code",
      "metadata": {
        "id": "U_PhPmTwtwnb",
        "outputId": "31179e20-6d37-4e1f-9a40-de0a3fb91650",
        "colab": {
          "base_uri": "https://localhost:8080/",
          "height": 296
        }
      },
      "source": [
        "fig = plt.subplot(1,2,1)\n",
        "plt.plot(history.epoch, history.history['loss'], '-', label='loss')\n",
        "plt.plot(history.epoch, history.history['val_loss'], '--', label='val_loss')\n",
        "plt.xlabel('Epochs')\n",
        "plt.ylabel('loss')\n",
        "plt.legend()\n",
        "fig = plt.subplot(1,2,2)\n",
        "plt.plot(history.epoch, history.history['accuracy'], '-', label='accuracy')\n",
        "plt.plot(history.epoch, history.history['val_accuracy'], '--', label='val_accuracy')\n",
        "plt.xlabel('Epochs')\n",
        "plt.ylabel('accuracy')\n",
        "plt.legend()"
      ],
      "execution_count": 62,
      "outputs": [
        {
          "output_type": "execute_result",
          "data": {
            "text/plain": [
              "<matplotlib.legend.Legend at 0x7ff58ad17f90>"
            ]
          },
          "metadata": {
            "tags": []
          },
          "execution_count": 62
        },
        {
          "output_type": "display_data",
          "data": {
            "image/png": "[encoded data removed]",
            "text/plain": [
              "<Figure size 432x288 with 2 Axes>"
            ]
          },
          "metadata": {
            "tags": [],
            "needs_background": "light"
          }
        }
      ]
    },
    {
      "cell_type": "markdown",
      "metadata": {
        "id": "FelRpS7jxylM"
      },
      "source": [
        "# Add Dropout layers"
      ]
    },
    {
      "cell_type": "code",
      "metadata": {
        "id": "WxKnWkmcxJci"
      },
      "source": [
        "your_cnn = tf.keras.models.Sequential()\n",
        "your_cnn.add(tf.keras.layers.Conv2D(32, (3, 3), activation='relu', kernel_initializer='he_uniform', padding='same'))\n",
        "your_cnn.add(tf.keras.layers.Conv2D(32, (3, 3), activation='relu', kernel_initializer='he_uniform', padding='same'))\n",
        "your_cnn.add(tf.keras.layers.MaxPooling2D((2, 2)))\n",
        "your_cnn.add(tf.keras.layers.Dropout(0.25))\n",
        "your_cnn.add(tf.keras.layers.Conv2D(64, (3, 3), activation='relu', kernel_initializer='he_uniform', padding='same'))\n",
        "your_cnn.add(tf.keras.layers.Conv2D(64, (3, 3), activation='relu', kernel_initializer='he_uniform', padding='same'))\n",
        "your_cnn.add(tf.keras.layers.MaxPooling2D((2, 2)))\n",
        "your_cnn.add(tf.keras.layers.Dropout(0.25))\n",
        "your_cnn.add(tf.keras.layers.Conv2D(128, (3, 3), activation='relu', kernel_initializer='he_uniform', padding='same'))\n",
        "your_cnn.add(tf.keras.layers.Conv2D(128, (3, 3), activation='relu', kernel_initializer='he_uniform', padding='same'))\n",
        "your_cnn.add(tf.keras.layers.Dropout(0.25))\n",
        "your_cnn.add(tf.keras.layers.Flatten())\n",
        "your_cnn.add(tf.keras.layers.Dense(64, activation='relu', kernel_initializer='he_uniform'))\n",
        "your_cnn.add(tf.keras.layers.Dense(10, activation='softmax'))\n",
        "\n",
        "your_cnn.build([None, 32, 32, 3])"
      ],
      "execution_count": 51,
      "outputs": []
    },
    {
      "cell_type": "code",
      "metadata": {
        "id": "6GlzIqs_x2wZ",
        "outputId": "8eaab0e4-7e9b-4c29-f902-2bcb168fc933",
        "colab": {
          "base_uri": "https://localhost:8080/"
        }
      },
      "source": [
        "your_cnn.compile(optimizer='adam',\n",
        "              loss='sparse_categorical_crossentropy',\n",
        "              metrics=['accuracy'])\n",
        "history = your_cnn.fit(x_train, y_train, epochs=20, validation_split=0.2)\n",
        "print(history.history.keys())\n",
        "your_cnn.evaluate(x_test,  y_test, verbose=2)"
      ],
      "execution_count": 52,
      "outputs": [
        {
          "output_type": "stream",
          "text": [
            "Epoch 1/20\n",
            "1250/1250 [==============================] - 8s 6ms/step - loss: 1.6246 - accuracy: 0.3943 - val_loss: 1.2308 - val_accuracy: 0.5448\n",
            "Epoch 2/20\n",
            "1250/1250 [==============================] - 7s 5ms/step - loss: 1.1611 - accuracy: 0.5854 - val_loss: 1.0447 - val_accuracy: 0.6269\n",
            "Epoch 3/20\n",
            "1250/1250 [==============================] - 8s 6ms/step - loss: 0.9617 - accuracy: 0.6580 - val_loss: 0.8916 - val_accuracy: 0.6778\n",
            "Epoch 4/20\n",
            "1250/1250 [==============================] - 7s 6ms/step - loss: 0.8368 - accuracy: 0.7041 - val_loss: 0.7966 - val_accuracy: 0.7210\n",
            "Epoch 5/20\n",
            "1250/1250 [==============================] - 7s 6ms/step - loss: 0.7607 - accuracy: 0.7333 - val_loss: 0.7315 - val_accuracy: 0.7448\n",
            "Epoch 6/20\n",
            "1250/1250 [==============================] - 7s 5ms/step - loss: 0.6906 - accuracy: 0.7549 - val_loss: 0.7463 - val_accuracy: 0.7456\n",
            "Epoch 7/20\n",
            "1250/1250 [==============================] - 7s 6ms/step - loss: 0.6469 - accuracy: 0.7709 - val_loss: 0.7334 - val_accuracy: 0.7555\n",
            "Epoch 8/20\n",
            "1250/1250 [==============================] - 7s 5ms/step - loss: 0.6012 - accuracy: 0.7891 - val_loss: 0.6965 - val_accuracy: 0.7610\n",
            "Epoch 9/20\n",
            "1250/1250 [==============================] - 7s 5ms/step - loss: 0.5649 - accuracy: 0.8003 - val_loss: 0.6987 - val_accuracy: 0.7674\n",
            "Epoch 10/20\n",
            "1250/1250 [==============================] - 7s 5ms/step - loss: 0.5392 - accuracy: 0.8105 - val_loss: 0.7031 - val_accuracy: 0.7703\n",
            "Epoch 11/20\n",
            "1250/1250 [==============================] - 7s 5ms/step - loss: 0.5048 - accuracy: 0.8208 - val_loss: 0.6862 - val_accuracy: 0.7764\n",
            "Epoch 12/20\n",
            "1250/1250 [==============================] - 7s 6ms/step - loss: 0.4829 - accuracy: 0.8309 - val_loss: 0.7174 - val_accuracy: 0.7778\n",
            "Epoch 13/20\n",
            "1250/1250 [==============================] - 7s 6ms/step - loss: 0.4584 - accuracy: 0.8385 - val_loss: 0.7068 - val_accuracy: 0.7779\n",
            "Epoch 14/20\n",
            "1250/1250 [==============================] - 7s 6ms/step - loss: 0.4411 - accuracy: 0.8440 - val_loss: 0.7571 - val_accuracy: 0.7750\n",
            "Epoch 15/20\n",
            "1250/1250 [==============================] - 7s 5ms/step - loss: 0.4223 - accuracy: 0.8503 - val_loss: 0.6856 - val_accuracy: 0.7919\n",
            "Epoch 16/20\n",
            "1250/1250 [==============================] - 7s 5ms/step - loss: 0.4174 - accuracy: 0.8525 - val_loss: 0.7016 - val_accuracy: 0.7784\n",
            "Epoch 17/20\n",
            "1250/1250 [==============================] - 7s 5ms/step - loss: 0.3955 - accuracy: 0.8618 - val_loss: 0.7111 - val_accuracy: 0.7882\n",
            "Epoch 18/20\n",
            "1250/1250 [==============================] - 7s 5ms/step - loss: 0.3864 - accuracy: 0.8651 - val_loss: 0.7411 - val_accuracy: 0.7781\n",
            "Epoch 19/20\n",
            "1250/1250 [==============================] - 7s 5ms/step - loss: 0.3701 - accuracy: 0.8695 - val_loss: 0.7206 - val_accuracy: 0.7904\n",
            "Epoch 20/20\n",
            "1250/1250 [==============================] - 7s 5ms/step - loss: 0.3630 - accuracy: 0.8716 - val_loss: 0.7570 - val_accuracy: 0.7805\n",
            "dict_keys(['loss', 'accuracy', 'val_loss', 'val_accuracy'])\n",
            "313/313 - 1s - loss: 0.8009 - accuracy: 0.7679\n"
          ],
          "name": "stdout"
        },
        {
          "output_type": "execute_result",
          "data": {
            "text/plain": [
              "[0.8009272813796997, 0.7678999900817871]"
            ]
          },
          "metadata": {
            "tags": []
          },
          "execution_count": 52
        }
      ]
    },
    {
      "cell_type": "code",
      "metadata": {
        "id": "UhwzQPNVx6-e",
        "outputId": "5a3129e0-0658-44d9-c38f-396c616ad057",
        "colab": {
          "base_uri": "https://localhost:8080/",
          "height": 296
        }
      },
      "source": [
        "fig = plt.subplot(1,2,1)\n",
        "plt.plot(history.epoch, history.history['loss'], '-', label='loss')\n",
        "plt.plot(history.epoch, history.history['val_loss'], '--', label='val_loss')\n",
        "plt.xlabel('Epochs')\n",
        "plt.ylabel('loss')\n",
        "plt.legend()\n",
        "fig = plt.subplot(1,2,2)\n",
        "plt.plot(history.epoch, history.history['accuracy'], '-', label='accuracy')\n",
        "plt.plot(history.epoch, history.history['val_accuracy'], '--', label='val_accuracy')\n",
        "plt.xlabel('Epochs')\n",
        "plt.ylabel('accuracy')\n",
        "plt.legend()"
      ],
      "execution_count": 58,
      "outputs": [
        {
          "output_type": "execute_result",
          "data": {
            "text/plain": [
              "<matplotlib.legend.Legend at 0x7ff6160885d0>"
            ]
          },
          "metadata": {
            "tags": []
          },
          "execution_count": 58
        },
        {
          "output_type": "display_data",
          "data": {
            "image/png": "[encoded data removed]",
            "text/plain": [
              "<Figure size 432x288 with 2 Axes>"
            ]
          },
          "metadata": {
            "tags": [],
            "needs_background": "light"
          }
        }
      ]
    },
    {
      "cell_type": "code",
      "metadata": {
        "id": "9VdNEmJcx-Fu"
      },
      "source": [
        ""
      ],
      "execution_count": null,
      "outputs": []
    }
  ]
}