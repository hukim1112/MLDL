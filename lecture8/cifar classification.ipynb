{
 "cells": [
  {
   "cell_type": "code",
   "execution_count": null,
   "metadata": {
    "id": "ztWu3NJIrz1C"
   },
   "outputs": [],
   "source": [
    "from __future__ import absolute_import, division, print_function, unicode_literals\n",
    "\n",
    "# Install TensorFlow\n",
    "try:\n",
    "  # %tensorflow_version only exists in Colab.\n",
    "  %tensorflow_version 2.x\n",
    "except Exception:\n",
    "  pass\n",
    "\n",
    "import tensorflow as tf\n",
    "from matplotlib import pyplot as plt"
   ]
  },
  {
   "cell_type": "code",
   "execution_count": null,
   "metadata": {
    "colab": {
     "base_uri": "https://localhost:8080/"
    },
    "id": "VJEsy0HGrz1E",
    "outputId": "57ee3935-9e27-40ba-e125-6c2b680b6540"
   },
   "outputs": [],
   "source": [
    "print(tf.__version__) #version check"
   ]
  },
  {
   "cell_type": "markdown",
   "metadata": {
    "id": "bht2QF5crz1E"
   },
   "source": [
    "# 1. Train your first model"
   ]
  },
  {
   "cell_type": "code",
   "execution_count": null,
   "metadata": {
    "colab": {
     "base_uri": "https://localhost:8080/"
    },
    "id": "ADr5RdBZrz1E",
    "outputId": "4e829685-05bf-40a7-c7a3-e97c46fa7d4a"
   },
   "outputs": [],
   "source": [
    "cifar = tf.keras.datasets.cifar10\n",
    "\n",
    "(x_train, y_train), (x_test, y_test) = cifar.load_data() # data load\n",
    "x_train, x_test = x_train / 255.0, x_test / 255.0 # data preprocessing"
   ]
  },
  {
   "cell_type": "code",
   "execution_count": null,
   "metadata": {
    "id": "kxvN4j5tstpi"
   },
   "outputs": [],
   "source": [
    "print(x_train.shape, y_train.shape) #check your data shape"
   ]
  },
  {
   "cell_type": "markdown",
   "metadata": {
    "id": "Yj2yRORLrz1F"
   },
   "source": [
    "# 2. Move to Convolutional Neural Network!"
   ]
  },
  {
   "cell_type": "code",
   "execution_count": null,
   "metadata": {
    "id": "jEHLL0FPrz1F"
   },
   "outputs": [],
   "source": [
    "your_cnn = tf.keras.models.Sequential()\n",
    "your_cnn.add(tf.keras.layers.Conv2D(32, (3, 3), activation='relu', kernel_initializer='he_uniform', padding='same'))\n",
    "your_cnn.add(tf.keras.layers.Conv2D(32, (3, 3), activation='relu', kernel_initializer='he_uniform', padding='same'))\n",
    "your_cnn.add(tf.keras.layers.MaxPooling2D((2, 2)))\n",
    "your_cnn.add(tf.keras.layers.Conv2D(64, (3, 3), activation='relu', kernel_initializer='he_uniform', padding='same'))\n",
    "your_cnn.add(tf.keras.layers.Conv2D(64, (3, 3), activation='relu', kernel_initializer='he_uniform', padding='same'))\n",
    "your_cnn.add(tf.keras.layers.MaxPooling2D((2, 2)))\n",
    "your_cnn.add(tf.keras.layers.Conv2D(128, (3, 3), activation='relu', kernel_initializer='he_uniform', padding='same'))\n",
    "your_cnn.add(tf.keras.layers.Conv2D(128, (3, 3), activation='relu', kernel_initializer='he_uniform', padding='same'))\n",
    "your_cnn.add(tf.keras.layers.Flatten())\n",
    "your_cnn.add(tf.keras.layers.Dense(64, activation='relu', kernel_initializer='he_uniform'))\n",
    "your_cnn.add(tf.keras.layers.Dense(10, activation='softmax'))\n",
    "\n",
    "your_cnn.build([None, 32, 32, 3])"
   ]
  },
  {
   "cell_type": "code",
   "execution_count": null,
   "metadata": {
    "id": "4RFHmPO6rz1G"
   },
   "outputs": [],
   "source": [
    "your_cnn.compile(optimizer='adam',\n",
    "              loss='sparse_categorical_crossentropy',\n",
    "              metrics=['accuracy'])"
   ]
  },
  {
   "cell_type": "code",
   "execution_count": null,
   "metadata": {
    "colab": {
     "base_uri": "https://localhost:8080/"
    },
    "id": "ssOt5ROWrz1H",
    "outputId": "b956dbec-4726-494e-cdac-07a018cc5097"
   },
   "outputs": [],
   "source": [
    "history = your_cnn.fit(x_train, y_train, epochs=20, validation_split=0.2)\n",
    "print(history.history.keys())\n",
    "your_cnn.evaluate(x_test,  y_test, verbose=2)"
   ]
  },
  {
   "cell_type": "code",
   "execution_count": null,
   "metadata": {
    "colab": {
     "base_uri": "https://localhost:8080/",
     "height": 296
    },
    "id": "U_PhPmTwtwnb",
    "outputId": "31179e20-6d37-4e1f-9a40-de0a3fb91650"
   },
   "outputs": [],
   "source": [
    "fig = plt.subplot(1,2,1)\n",
    "plt.plot(history.epoch, history.history['loss'], '-', label='loss')\n",
    "plt.plot(history.epoch, history.history['val_loss'], '--', label='val_loss')\n",
    "plt.xlabel('Epochs')\n",
    "plt.ylabel('loss')\n",
    "plt.legend()\n",
    "fig = plt.subplot(1,2,2)\n",
    "plt.plot(history.epoch, history.history['accuracy'], '-', label='accuracy')\n",
    "plt.plot(history.epoch, history.history['val_accuracy'], '--', label='val_accuracy')\n",
    "plt.xlabel('Epochs')\n",
    "plt.ylabel('accuracy')\n",
    "plt.legend()"
   ]
  },
  {
   "cell_type": "markdown",
   "metadata": {
    "id": "FelRpS7jxylM"
   },
   "source": [
    "# Add Dropout layers"
   ]
  },
  {
   "cell_type": "code",
   "execution_count": null,
   "metadata": {
    "id": "WxKnWkmcxJci"
   },
   "outputs": [],
   "source": [
    "your_cnn = tf.keras.models.Sequential()\n",
    "your_cnn.add(tf.keras.layers.Conv2D(32, (3, 3), activation='relu', kernel_initializer='he_uniform', padding='same'))\n",
    "your_cnn.add(tf.keras.layers.Conv2D(32, (3, 3), activation='relu', kernel_initializer='he_uniform', padding='same'))\n",
    "your_cnn.add(tf.keras.layers.MaxPooling2D((2, 2)))\n",
    "your_cnn.add(tf.keras.layers.Dropout(0.25))\n",
    "your_cnn.add(tf.keras.layers.Conv2D(64, (3, 3), activation='relu', kernel_initializer='he_uniform', padding='same'))\n",
    "your_cnn.add(tf.keras.layers.Conv2D(64, (3, 3), activation='relu', kernel_initializer='he_uniform', padding='same'))\n",
    "your_cnn.add(tf.keras.layers.MaxPooling2D((2, 2)))\n",
    "your_cnn.add(tf.keras.layers.Dropout(0.25))\n",
    "your_cnn.add(tf.keras.layers.Conv2D(128, (3, 3), activation='relu', kernel_initializer='he_uniform', padding='same'))\n",
    "your_cnn.add(tf.keras.layers.Conv2D(128, (3, 3), activation='relu', kernel_initializer='he_uniform', padding='same'))\n",
    "your_cnn.add(tf.keras.layers.Dropout(0.25))\n",
    "your_cnn.add(tf.keras.layers.Flatten())\n",
    "your_cnn.add(tf.keras.layers.Dense(64, activation='relu', kernel_initializer='he_uniform'))\n",
    "your_cnn.add(tf.keras.layers.Dense(10, activation='softmax'))\n",
    "\n",
    "your_cnn.build([None, 32, 32, 3])"
   ]
  },
  {
   "cell_type": "code",
   "execution_count": null,
   "metadata": {
    "colab": {
     "base_uri": "https://localhost:8080/"
    },
    "id": "6GlzIqs_x2wZ",
    "outputId": "8eaab0e4-7e9b-4c29-f902-2bcb168fc933"
   },
   "outputs": [],
   "source": [
    "your_cnn.compile(optimizer='adam',\n",
    "              loss='sparse_categorical_crossentropy',\n",
    "              metrics=['accuracy'])\n",
    "history = your_cnn.fit(x_train, y_train, epochs=20, validation_split=0.2)\n",
    "print(history.history.keys())\n",
    "your_cnn.evaluate(x_test,  y_test, verbose=2)"
   ]
  },
  {
   "cell_type": "code",
   "execution_count": null,
   "metadata": {
    "colab": {
     "base_uri": "https://localhost:8080/",
     "height": 296
    },
    "id": "UhwzQPNVx6-e",
    "outputId": "5a3129e0-0658-44d9-c38f-396c616ad057"
   },
   "outputs": [],
   "source": [
    "fig = plt.subplot(1,2,1)\n",
    "plt.plot(history.epoch, history.history['loss'], '-', label='loss')\n",
    "plt.plot(history.epoch, history.history['val_loss'], '--', label='val_loss')\n",
    "plt.xlabel('Epochs')\n",
    "plt.ylabel('loss')\n",
    "plt.legend()\n",
    "fig = plt.subplot(1,2,2)\n",
    "plt.plot(history.epoch, history.history['accuracy'], '-', label='accuracy')\n",
    "plt.plot(history.epoch, history.history['val_accuracy'], '--', label='val_accuracy')\n",
    "plt.xlabel('Epochs')\n",
    "plt.ylabel('accuracy')\n",
    "plt.legend()"
   ]
  },
  {
   "cell_type": "code",
   "execution_count": null,
   "metadata": {
    "id": "9VdNEmJcx-Fu"
   },
   "outputs": [],
   "source": []
  }
 ],
 "metadata": {
  "accelerator": "GPU",
  "colab": {
   "name": "cifar classification.ipynb",
   "provenance": []
  },
  "kernelspec": {
   "display_name": "tf",
   "language": "python",
   "name": "tf"
  },
  "language_info": {
   "codemirror_mode": {
    "name": "ipython",
    "version": 3
   },
   "file_extension": ".py",
   "mimetype": "text/x-python",
   "name": "python",
   "nbconvert_exporter": "python",
   "pygments_lexer": "ipython3",
   "version": "3.6.9"
  }
 },
 "nbformat": 4,
 "nbformat_minor": 1
}
