{
  "nbformat": 4,
  "nbformat_minor": 0,
  "metadata": {
    "colab": {
      "name": "CNN architectures.ipynb",
      "provenance": [],
      "authorship_tag": "ABX9TyNcpNrK0cXWpGP/7oF46NSb",
      "include_colab_link": true
    },
    "kernelspec": {
      "name": "python3",
      "display_name": "Python 3"
    },
    "language_info": {
      "name": "python"
    }
  },
  "cells": [
    {
      "cell_type": "markdown",
      "metadata": {
        "id": "view-in-github",
        "colab_type": "text"
      },
      "source": [
        "<a href=\"https://colab.research.google.com/github/hukim1112/MLDL/blob/master/lecture8/CNN_architectures.ipynb\" target=\"_parent\"><img src=\"https://colab.research.google.com/assets/colab-badge.svg\" alt=\"Open In Colab\"/></a>"
      ]
    },
    {
      "cell_type": "code",
      "metadata": {
        "id": "qRVB4nFZ5fxF"
      },
      "source": [
        "import tensorflow as tf"
      ],
      "execution_count": null,
      "outputs": []
    },
    {
      "cell_type": "markdown",
      "metadata": {
        "id": "a7ng_9Zl5xgO"
      },
      "source": [
        "# VGG19"
      ]
    },
    {
      "cell_type": "code",
      "metadata": {
        "id": "DFNKh_dy5iOO"
      },
      "source": [
        "vgg = tf.keras.applications.VGG19(include_top=True, weights='imagenet', input_shape=(224,224,3))"
      ],
      "execution_count": null,
      "outputs": []
    },
    {
      "cell_type": "code",
      "metadata": {
        "id": "T4lQs1Av56VV"
      },
      "source": [
        "vgg.layers"
      ],
      "execution_count": null,
      "outputs": []
    },
    {
      "cell_type": "code",
      "metadata": {
        "id": "ylPKMvJi5vi1"
      },
      "source": [
        "tf.keras.utils.plot_model(vgg, show_shapes=True)"
      ],
      "execution_count": null,
      "outputs": []
    },
    {
      "cell_type": "markdown",
      "metadata": {
        "id": "b8EtrtMBHc3q"
      },
      "source": [
        "# InceptionNet"
      ]
    },
    {
      "cell_type": "code",
      "metadata": {
        "id": "pyGbnPYJ5zb8"
      },
      "source": [
        "inception_v3 = tf.keras.applications.InceptionV3(input_shape=(299,299,3),\n",
        "                                               include_top=True, \n",
        "                                               weights='imagenet')"
      ],
      "execution_count": null,
      "outputs": []
    },
    {
      "cell_type": "code",
      "metadata": {
        "id": "k6Wh_OYbAmHN"
      },
      "source": [
        "tf.keras.utils.plot_model(inception_v3, show_shapes=True)"
      ],
      "execution_count": null,
      "outputs": []
    },
    {
      "cell_type": "markdown",
      "metadata": {
        "id": "cTwsjw_bHerW"
      },
      "source": [
        "# ResNet"
      ]
    },
    {
      "cell_type": "code",
      "metadata": {
        "id": "JxjxklNpBC8t"
      },
      "source": [
        "resnet152 = tf.keras.applications.ResNet152(input_shape=(224,224,3),\n",
        "                                               include_top=True, \n",
        "                                               weights='imagenet')"
      ],
      "execution_count": null,
      "outputs": []
    },
    {
      "cell_type": "code",
      "metadata": {
        "id": "aY7K4wKqAwwQ"
      },
      "source": [
        "tf.keras.utils.plot_model(resnet152, show_shapes=True)"
      ],
      "execution_count": null,
      "outputs": []
    },
    {
      "cell_type": "code",
      "metadata": {
        "id": "oLLCItNIBLAg"
      },
      "source": [
        ""
      ],
      "execution_count": null,
      "outputs": []
    },
    {
      "cell_type": "markdown",
      "metadata": {
        "id": "ukavtgC1HgeQ"
      },
      "source": [
        "#EfficientNet"
      ]
    },
    {
      "cell_type": "code",
      "metadata": {
        "id": "6_CtOwPEHJeg"
      },
      "source": [
        "efficientB0 = tf.keras.applications.EfficientNetB0(include_top=True, weights='imagenet')"
      ],
      "execution_count": null,
      "outputs": []
    },
    {
      "cell_type": "code",
      "metadata": {
        "id": "IBoHc_6VHQEZ"
      },
      "source": [
        "tf.keras.utils.plot_model(efficientB0, show_shapes=True)"
      ],
      "execution_count": null,
      "outputs": []
    },
    {
      "cell_type": "code",
      "metadata": {
        "id": "I0gKFmyuHTCS"
      },
      "source": [
        ""
      ],
      "execution_count": null,
      "outputs": []
    }
  ]
}