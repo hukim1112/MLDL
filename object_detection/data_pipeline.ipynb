{
  "nbformat": 4,
  "nbformat_minor": 0,
  "metadata": {
    "colab": {
      "name": "데이터 파이프라인.ipynb",
      "provenance": [],
      "authorship_tag": "ABX9TyMokokYg/64AA1BRTAzwcYk",
      "include_colab_link": true
    },
    "kernelspec": {
      "name": "python3",
      "display_name": "Python 3"
    },
    "language_info": {
      "name": "python"
    }
  },
  "cells": [
    {
      "cell_type": "markdown",
      "metadata": {
        "id": "view-in-github",
        "colab_type": "text"
      },
      "source": [
        "<a href=\"https://colab.research.google.com/github/hukim1112/MLDL/blob/master/object_detection/data_pipeline.ipynb\" target=\"_parent\"><img src=\"https://colab.research.google.com/assets/colab-badge.svg\" alt=\"Open In Colab\"/></a>"
      ]
    },
    {
      "cell_type": "markdown",
      "metadata": {
        "id": "kL89IaVF-6aM"
      },
      "source": [
        "# 데이터셋 다운로드\n",
        "\n",
        "### https://drive.google.com/drive/folders/1z-FSY3JN-FWBl87XAZyb4m2KcHqJEUTm?usp=sharing\n",
        "\n",
        "### Colab 사용 시 GDUT_HWD.json과 images.zip을 Colab repository에 업로드 해주세요."
      ]
    },
    {
      "cell_type": "code",
      "metadata": {
        "id": "jnJBVI5v-6wl"
      },
      "source": [
        "#데이터셋 업로드 후 압축 풀 것.\n",
        "!unzip images.zip"
      ],
      "execution_count": null,
      "outputs": []
    },
    {
      "cell_type": "code",
      "metadata": {
        "id": "uyVAXcaR-_2K"
      },
      "source": [
        "import os\n",
        "import cv2\n",
        "from matplotlib import pyplot as plt\n",
        "\n",
        "image_dir = '/content/images'\n",
        "annotation = '/content/GDUT_HWD.json'\n",
        "\n",
        "#압축\n",
        "img_list = os.listdir(image_dir)\n",
        "img_path = os.path.join(image_dir, img_list[2])\n",
        "img = cv2.imread(img_path)[:,:,::-1]\n",
        "plt.imshow(img)"
      ],
      "execution_count": null,
      "outputs": []
    },
    {
      "cell_type": "markdown",
      "metadata": {
        "id": "hSl2xPXA_aZP"
      },
      "source": [
        "# COCO library\n",
        "데모 : https://github.com/cocodataset/cocoapi/blob/master/PythonAPI/pycocoDemo.ipynb\n",
        "\n",
        "coco 데이터셋 형식의 레이블을 로드하고, 읽을 수 있습니다.\n"
      ]
    },
    {
      "cell_type": "code",
      "metadata": {
        "id": "xMrf9Ol8_mZ5"
      },
      "source": [
        "from pycocotools.coco import COCO\n",
        "\n",
        "coco_obj = COCO(\"/content/GDUT_HWD.json\")"
      ],
      "execution_count": null,
      "outputs": []
    },
    {
      "cell_type": "code",
      "metadata": {
        "id": "DnRpcSLYAEUB"
      },
      "source": [
        "# 로드 가능한 이미지의 id들\n",
        "coco_obj.getImgIds()[:10]"
      ],
      "execution_count": null,
      "outputs": []
    },
    {
      "cell_type": "code",
      "metadata": {
        "id": "anYEFc_5ALnQ"
      },
      "source": [
        "# 특정 이미지 id의 레이블 정보를 검색\n",
        "ann_ids = coco_obj.getAnnIds(imgIds=1, catIds=[1,2], iscrowd=None)"
      ],
      "execution_count": null,
      "outputs": []
    },
    {
      "cell_type": "code",
      "metadata": {
        "id": "e4AYDImEApnT"
      },
      "source": [
        "ann_ids"
      ],
      "execution_count": null,
      "outputs": []
    },
    {
      "cell_type": "code",
      "metadata": {
        "id": "UqGKWmDE_b0v"
      },
      "source": [
        "for ann_id in ann_ids:\n",
        "  x, y, w, h = coco_obj.loadAnns(ann_id)[0]['bbox']\n",
        "  print(\"정답 박스 정보\", x, y, w, h)\n",
        "  print(\"클래스 정보\", coco_obj.loadAnns(ann_id)[0]['category_id'])"
      ],
      "execution_count": null,
      "outputs": []
    },
    {
      "cell_type": "code",
      "metadata": {
        "id": "l9QBeFaJAk9M"
      },
      "source": [
        ""
      ],
      "execution_count": null,
      "outputs": []
    },
    {
      "cell_type": "markdown",
      "metadata": {
        "id": "QGGXjW5bBlsK"
      },
      "source": [
        "# 텐서플로우 데이터 오브젝트 생성\n",
        "\n",
        "data.py의 Dataset 클래스는 tf.data.Dataset.from_generator 함수를 사용해 파이썬 iterator로부터 텐서플로우 데이터셋 오브젝트를 만듭니다. 이런 방식을 파일을 준비할 때 tensorflow 이외의 라이브러리(ex. opencv나 coco library)를 함께 사용해야 할 때 유용합니다.\n",
        "\n",
        "우선 프로젝트 가이드에서 data.py와 anchor.py 그리고 box_utils.py를 가져와 import 합니다.\n",
        "\n",
        "https://drive.google.com/drive/folders/16ccs8882-jswD72J4k4L1jod3nTfCpni?usp=sharing"
      ]
    },
    {
      "cell_type": "code",
      "metadata": {
        "id": "GOpiueJUC9sz"
      },
      "source": [
        "import data\n",
        "from anchor import generate_default_boxes"
      ],
      "execution_count": null,
      "outputs": []
    },
    {
      "cell_type": "code",
      "metadata": {
        "id": "u7lgQdGcO21r"
      },
      "source": [
        "# anchor box 생성\n",
        "anchor_param = {\"ratios\": [[2], [2, 3], [2, 3], [2, 3], [2]],\n",
        "                           \"scales\": [0.1, 0.3, 0.5, 0.7, 0.9, 1.075],\n",
        "                           \"fm_sizes\": [28, 14, 7, 3, 1],\n",
        "                           \"image_size\": 224} #anchor parameters\n",
        "anchors = generate_default_boxes(anchor_param)"
      ],
      "execution_count": null,
      "outputs": []
    },
    {
      "cell_type": "code",
      "metadata": {
        "id": "wD2yCg2qB1Lg"
      },
      "source": [
        "label_set = [\"head\",\"helmet\"]\n",
        "input_shape = (224,224,3)\n",
        "image_dir = '/content/images'\n",
        "annotation = '/content/GDUT_HWD.json'"
      ],
      "execution_count": null,
      "outputs": []
    },
    {
      "cell_type": "code",
      "metadata": {
        "id": "fyDjI0Q7Bpx2"
      },
      "source": [
        "ds_obj = data.Dataset(COCO, anchors, image_dir, annotation, label_set, input_shape)"
      ],
      "execution_count": null,
      "outputs": []
    },
    {
      "cell_type": "code",
      "metadata": {
        "id": "glMAc8k1Dcve"
      },
      "source": [
        "train_ds, train_length = ds_obj.load_data_generator('train')\n",
        "print(\"Dataset length : \", train_length)"
      ],
      "execution_count": null,
      "outputs": []
    },
    {
      "cell_type": "code",
      "metadata": {
        "id": "40WZGU3nDdqP"
      },
      "source": [
        "for i, (_, imgs, gt_confs, gt_locs) in enumerate(train_ds.take(1)):\n",
        "    print(imgs.shape, gt_confs.shape, gt_locs.shape)"
      ],
      "execution_count": null,
      "outputs": []
    },
    {
      "cell_type": "markdown",
      "metadata": {
        "id": "T4R_5lZNQ-2P"
      },
      "source": [
        "# 데이터 파이프라인 구축\n",
        "셔플, 미니배치, prefetch 연결"
      ]
    },
    {
      "cell_type": "code",
      "metadata": {
        "id": "oqJ3lxx3Desr"
      },
      "source": [
        "import tensorflow as tf\n",
        "\n",
        "batch_size = 16\n",
        "shuffle_buffer = 159\n",
        "\n",
        "train_ds = train_ds.shuffle(shuffle_buffer).batch(batch_size).prefetch(tf.data.experimental.AUTOTUNE)"
      ],
      "execution_count": null,
      "outputs": []
    },
    {
      "cell_type": "code",
      "metadata": {
        "id": "wZ7DWoFGDfuE"
      },
      "source": [
        "for i, (_, imgs, gt_confs, gt_locs) in enumerate(train_ds.take(1)):\n",
        "    print(imgs.shape, gt_confs.shape, gt_locs.shape)"
      ],
      "execution_count": null,
      "outputs": []
    },
    {
      "cell_type": "code",
      "metadata": {
        "id": "fuqCfKEf5-sB"
      },
      "source": [
        ""
      ],
      "execution_count": null,
      "outputs": []
    }
  ]
}