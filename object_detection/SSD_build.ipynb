{
  "nbformat": 4,
  "nbformat_minor": 0,
  "metadata": {
    "colab": {
      "name": "SSD build solution.ipynb",
      "provenance": [],
      "authorship_tag": "ABX9TyNd5ZWBOQE5dQDLtyQ7zW6M",
      "include_colab_link": true
    },
    "kernelspec": {
      "name": "python3",
      "display_name": "Python 3"
    },
    "language_info": {
      "name": "python"
    }
  },
  "cells": [
    {
      "cell_type": "markdown",
      "metadata": {
        "id": "view-in-github",
        "colab_type": "text"
      },
      "source": [
        "<a href=\"https://colab.research.google.com/github/hukim1112/MLDL/blob/master/object_detection/SSD_build.ipynb\" target=\"_parent\"><img src=\"https://colab.research.google.com/assets/colab-badge.svg\" alt=\"Open In Colab\"/></a>"
      ]
    },
    {
      "cell_type": "code",
      "metadata": {
        "id": "nMuA-a6dY2SJ"
      },
      "source": [
        "from tensorflow.keras import Model\n",
        "from tensorflow.keras.applications import MobileNetV2\n",
        "import tensorflow.keras.layers as layers\n",
        "import tensorflow as tf\n",
        "import numpy as np\n",
        "import os\n",
        "import cv2\n",
        "from matplotlib import pyplot as plt"
      ],
      "execution_count": null,
      "outputs": []
    },
    {
      "cell_type": "markdown",
      "metadata": {
        "id": "TQDgsCCWZOXS"
      },
      "source": [
        "# A. Backbone 신경망의 전이학습"
      ]
    },
    {
      "cell_type": "code",
      "metadata": {
        "id": "QXYkFsFWY7JO"
      },
      "source": [
        "mobilenet_v2 = MobileNetV2(input_shape=(224,224,3), weights=\"imagenet\", include_top=False)\n",
        "tf.keras.utils.plot_model(mobilenet_v2, show_shapes=True, expand_nested=True)\n",
        "\n",
        "# functional API를 사용해 backbone을 생성\n",
        "start = mobilenet_v2.get_layer(\"input_1\").input\n",
        "end = mobilenet_v2.get_layer(\"block_5_add\").output\n",
        "backbone = tf.keras.Model(start, end)"
      ],
      "execution_count": null,
      "outputs": []
    },
    {
      "cell_type": "markdown",
      "metadata": {
        "id": "gVIvPagRZSDx"
      },
      "source": [
        "# B. Neck 신경망 구현"
      ]
    },
    {
      "cell_type": "code",
      "metadata": {
        "id": "eCXCOUsBY7Pn"
      },
      "source": [
        "#input shape (BN, H, W, C)\n",
        "\n",
        "# Sequential API를 사용해 4개의 동일한 CNN 블록을 만드시오.\n",
        "# 각 블록의 변수 명은 block1, block2, block3, block4이다.\n",
        "\n",
        "block1 = tf.keras.Sequential([tf.keras.layers.Conv2D(256, 1, padding='same'),\n",
        "                     tf.keras.layers.BatchNormalization(),\n",
        "                     tf.keras.layers.ReLU(),\n",
        "\n",
        "                     tf.keras.layers.DepthwiseConv2D(3, strides=(2,2), padding='same'),\n",
        "                     tf.keras.layers.BatchNormalization(),\n",
        "                     tf.keras.layers.ReLU(),\n",
        "\n",
        "                     tf.keras.layers.Conv2D(256, 1, padding='same'),\n",
        "                     tf.keras.layers.BatchNormalization(),\n",
        "                     tf.keras.layers.ReLU()])\n",
        "                    # **** conv => depthwise-conv => conv ****\n",
        "                    #output1 [BN,H/2,W/2,512]\n",
        "\n",
        "block2 = tf.keras.Sequential([tf.keras.layers.Conv2D(256, 1, padding='same'),\n",
        "                    tf.keras.layers.BatchNormalization(),\n",
        "                    tf.keras.layers.ReLU(),\n",
        "\n",
        "                    tf.keras.layers.DepthwiseConv2D(3, strides=(2,2), padding='same'),\n",
        "                    tf.keras.layers.BatchNormalization(),\n",
        "                    tf.keras.layers.ReLU(),\n",
        "\n",
        "                    tf.keras.layers.Conv2D(256, 1, padding='same'),\n",
        "                    tf.keras.layers.BatchNormalization(),\n",
        "                    tf.keras.layers.ReLU(),])\n",
        "                    # **** conv => depthwise-conv => conv ****\n",
        "                    #output1 [BN,H/4,W/4,512]\n",
        "        \n",
        "block3 = tf.keras.Sequential([tf.keras.layers.Conv2D(256, 1, padding='same'),\n",
        "                    tf.keras.layers.BatchNormalization(),\n",
        "                    tf.keras.layers.ReLU(),\n",
        "\n",
        "                    tf.keras.layers.DepthwiseConv2D(3, strides=(2,2)),\n",
        "                    tf.keras.layers.BatchNormalization(),\n",
        "                    tf.keras.layers.ReLU(),\n",
        "\n",
        "                    tf.keras.layers.Conv2D(256, 1, padding='same'),\n",
        "                    tf.keras.layers.BatchNormalization(),\n",
        "                    tf.keras.layers.ReLU()])\n",
        "                    # **** conv => depthwise-conv => conv ****\n",
        "                    #output1 [BN,H/8,W/8,512]\n",
        "        \n",
        "block4 = tf.keras.Sequential([tf.keras.layers.Conv2D(256, 1, padding='same'),\n",
        "                    tf.keras.layers.BatchNormalization(),\n",
        "                    tf.keras.layers.ReLU(),\n",
        "\n",
        "                    tf.keras.layers.DepthwiseConv2D(3, strides=(2,2)),\n",
        "                    tf.keras.layers.BatchNormalization(),\n",
        "                    tf.keras.layers.ReLU(),\n",
        "\n",
        "                    tf.keras.layers.Conv2D(256, 1, padding='same'),\n",
        "                    tf.keras.layers.BatchNormalization(),\n",
        "                    tf.keras.layers.ReLU()])\n",
        "                    # **** conv => depthwise-conv => conv ****\n",
        "                    #output1 [BN,H/16,W/16,512]"
      ],
      "execution_count": null,
      "outputs": []
    },
    {
      "cell_type": "markdown",
      "metadata": {
        "id": "Ezoe_vqNZKL0"
      },
      "source": [
        "# C. Neck 신경망 연결"
      ]
    },
    {
      "cell_type": "code",
      "metadata": {
        "id": "JCO_Hj_IY7R4"
      },
      "source": [
        "input_layer = tf.keras.Input(shape=(224,224,3))\n",
        "x = backbone(input_layer)\n",
        "y1 = block1(x)\n",
        "y2 = block2(y1)\n",
        "y3 = block3(y2)\n",
        "y4 = block4(y3)\n",
        "\n",
        "print(\"첫 번째 feature map (None, 28, 28, 32) : \", x.shape,\\\n",
        "      \"두 번째 feature map (None, 14, 14, 256) : \", y1.shape,\\\n",
        "      \"세 번째 feature map (None, 7, 7, 256) : \", y2.shape,\\\n",
        "      \"네 번쨰 feature map (None, 3, 3, 256) : \",y3.shape,\\\n",
        "      \"다섯번째 feature map (None, 1, 1, 256) : \",y4.shape)"
      ],
      "execution_count": null,
      "outputs": []
    },
    {
      "cell_type": "markdown",
      "metadata": {
        "id": "cmnJfX_ZZDa-"
      },
      "source": [
        "# D. head(classification, regression) 신경망 연결\n",
        "\n"
      ]
    },
    {
      "cell_type": "code",
      "metadata": {
        "id": "e2CRZRzpY7UQ"
      },
      "source": [
        "'''\n",
        "    각 스케일의 특징맵에 대해 classification head와 regression head를 연결한다.\n",
        "    스케일에 따라 앵커박스의 종류가 다르게 사용할 수 있고, 그것이 head 네트워크의 필터 수를 결정한다.\n",
        "    예를 들어 28x28, 14x14, 7x7, 3x3, 1x1의 특징맵에 대해 각각 4, 6, 6, 6, 4 종류의 앵커 박스들을 사용한다.\n",
        "    아래 코드를 해석\n",
        "\n",
        "'''\n",
        "num_classes = 3\n",
        "\n",
        "#classification head\n",
        "confs = []\n",
        "conf = tf.keras.layers.Conv2D(4 * num_classes, kernel_size=3, padding='same')(x)\n",
        "conf = tf.reshape(conf, [-1, 28*28*4,num_classes])\n",
        "confs.append(conf)\n",
        "conf = tf.keras.layers.Conv2D(6 * num_classes, kernel_size=3, padding='same')(y1)\n",
        "conf = tf.reshape(conf, [-1, 14*14*6,num_classes])\n",
        "confs.append(conf)\n",
        "conf = tf.keras.layers.Conv2D(6 * num_classes, kernel_size=3, padding='same')(y2)\n",
        "conf = tf.reshape(conf, [-1, 7*7*6,num_classes])\n",
        "confs.append(conf)\n",
        "conf = tf.keras.layers.Conv2D(6 * num_classes, kernel_size=3, padding='same')(y3)\n",
        "conf = tf.reshape(conf, [-1, 3*3*6,num_classes])\n",
        "confs.append(conf)\n",
        "conf = tf.keras.layers.Conv2D(4 * num_classes, kernel_size=1)(y4)\n",
        "conf = tf.reshape(conf, [-1, 1*1*4,num_classes])\n",
        "confs.append(conf)\n",
        "\n",
        "\n",
        "#regression head\n",
        "locs = []\n",
        "loc = tf.keras.layers.Conv2D(4 * 4, kernel_size=3, padding='same')(x)\n",
        "loc = tf.reshape(loc, [-1, 28*28*4,4])\n",
        "print(loc.shape)\n",
        "locs.append(loc)\n",
        "loc = tf.keras.layers.Conv2D(6 * 4, kernel_size=3, padding='same')(y1)\n",
        "loc = tf.reshape(loc, [-1, 14*14*6,4])\n",
        "print(loc.shape)\n",
        "locs.append(loc)\n",
        "loc = tf.keras.layers.Conv2D(6 * 4, kernel_size=3, padding='same')(y2)\n",
        "loc = tf.reshape(loc, [-1, 7*7*6,4])\n",
        "print(loc.shape)\n",
        "locs.append(loc)\n",
        "loc = tf.keras.layers.Conv2D(6 * 4, kernel_size=3, padding='same')(y3)\n",
        "loc = tf.reshape(loc, [-1, 3*3*6,4])\n",
        "print(loc.shape)\n",
        "locs.append(loc)\n",
        "loc = tf.keras.layers.Conv2D(4 * 4, kernel_size=1)(y4)\n",
        "loc = tf.reshape(loc, [-1, 1*1*4,4])\n",
        "print(loc.shape)\n",
        "locs.append(loc)\n",
        "\n",
        "confs = tf.concat(confs, axis=-2)\n",
        "locs = tf.concat(locs, axis=-2)"
      ],
      "execution_count": null,
      "outputs": []
    },
    {
      "cell_type": "markdown",
      "metadata": {
        "id": "PRFCdvirZjBB"
      },
      "source": [
        "# E. 최종 모델 빌드"
      ]
    },
    {
      "cell_type": "code",
      "metadata": {
        "id": "znuf7_POY7Wo"
      },
      "source": [
        "mobilenet_ssd = tf.keras.Model(inputs=[input_layer], outputs=[confs,locs])"
      ],
      "execution_count": null,
      "outputs": []
    },
    {
      "cell_type": "code",
      "metadata": {
        "id": "Ue9mk0ZdZlwn"
      },
      "source": [
        "tf.keras.utils.plot_model(mobilenet_ssd, show_shapes=True, expand_nested=False)"
      ],
      "execution_count": null,
      "outputs": []
    },
    {
      "cell_type": "code",
      "metadata": {
        "id": "2X7Y1n_dZoWU"
      },
      "source": [
        "#여기서 빌드한 모델을 저장한 뒤 나중에 학습할 때 로드하여 쓰시오.\n",
        "mobilenet_ssd.save(\"ssd.h5\")"
      ],
      "execution_count": null,
      "outputs": []
    }
  ]
}