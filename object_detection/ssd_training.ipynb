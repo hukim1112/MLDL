{
  "nbformat": 4,
  "nbformat_minor": 0,
  "metadata": {
    "kernelspec": {
      "display_name": "tf",
      "language": "python",
      "name": "tf"
    },
    "language_info": {
      "codemirror_mode": {
        "name": "ipython",
        "version": 3
      },
      "file_extension": ".py",
      "mimetype": "text/x-python",
      "name": "python",
      "nbconvert_exporter": "python",
      "pygments_lexer": "ipython3",
      "version": "3.6.9"
    },
    "colab": {
      "name": "ssd-training.ipynb",
      "provenance": []
    },
    "accelerator": "GPU"
  },
  "cells": [
    {
      "cell_type": "code",
      "metadata": {
        "id": "NBusmtZyE1uN",
        "outputId": "a0f70153-3b8a-4461-c130-22dfea08b874",
        "colab": {
          "base_uri": "https://localhost:8080/"
        }
      },
      "source": [
        "!git clone https://github.com/hukim1112/MLDL.git"
      ],
      "execution_count": 1,
      "outputs": [
        {
          "output_type": "stream",
          "text": [
            "fatal: destination path 'MLDL' already exists and is not an empty directory.\n"
          ],
          "name": "stdout"
        }
      ]
    },
    {
      "cell_type": "code",
      "metadata": {
        "id": "eDipyAkgFH8h"
      },
      "source": [
        "import tensorflow as tf\n",
        "import json, os, sys, time\n",
        "from tensorflow.keras.applications.mobilenet_v2 import preprocess_input"
      ],
      "execution_count": 2,
      "outputs": []
    },
    {
      "cell_type": "code",
      "metadata": {
        "id": "g182yHi0FMrB"
      },
      "source": [
        "sys.path.append(\"/content/MLDL/object_detection\")"
      ],
      "execution_count": 3,
      "outputs": []
    },
    {
      "cell_type": "code",
      "metadata": {
        "id": "aZz9RL14E2rD"
      },
      "source": [
        "import anchor, losses, manage_checkpoint"
      ],
      "execution_count": 4,
      "outputs": []
    },
    {
      "cell_type": "code",
      "metadata": {
        "id": "0TpMSoRkE1uU"
      },
      "source": [
        "config = {\n",
        "    \"exp_desc\" : \"perfection\", #실험명\n",
        "    \"sub_desc\" : \"exp1\", #하위실험명\n",
        "    \"image_dir\" : \"/content/images\", #이미지경로\n",
        "    \"coco_api\" : \"/home/dan/prj/PythonAPI\",\n",
        "    \"annotation_dir\" : \"/content/\", #어노테이션 경로\n",
        "    \"label_set\" : [\"head\",\"helmet\"], # 분류할 오브젝트 집합\n",
        "    \"input_shape\" : [160, 160, 3], #모델입력영상 크기\n",
        "    \"arch\" : \"ssd160\",\n",
        "    \"backbone\" : \"mobilenet\",\n",
        "    \"anchor_param\" : {\"ratios\": [[2], [2, 3], [2, 3], [2]],\n",
        "                           \"scales\": [0.1, 0.3, 0.6, 0.9, 1.05],\n",
        "                           \"fm_sizes\": [10, 5, 3, 1],\n",
        "                           \"image_size\": 160}, #anchor parameters\n",
        "    \"ckpt\":\n",
        "    {\n",
        "        \"save_type\" : \"best\",\n",
        "        \"max_to_keep\" : 10,\n",
        "        \"pretrained_type\" : \"init\",\n",
        "        \"model_path\" : None\n",
        "    },\n",
        "    \"inference_mode\" : \"train\", # train or mAP\n",
        "    \"train\" :\n",
        "    {\n",
        "        \"num_examples\" : -1,\n",
        "        \"batch_size\" : 16,\n",
        "        \"augmentation\" : True,\n",
        "        \"random_crop_rate\" : 0.3,\n",
        "        \"neg_ratio\" : 3,\n",
        "        \"initial_lr\" : 1e-3,\n",
        "        \"momentum\" : 0.9,\n",
        "        \"weight_decay\" : 5e-5,\n",
        "        \"num_epochs\" : 300\n",
        "    },\n",
        "    \"val\":\n",
        "    {\n",
        "        \"num_examples\" : -1,\n",
        "        \"batch_size\" : 64\n",
        "    },\n",
        "    \"test\":\n",
        "    {\n",
        "        \"num_examples\" : -1,\n",
        "        \"batch_size\" : 1\n",
        "    }\n",
        "\n",
        "}\n",
        "num_classes = len(config['label_set'])\n",
        "log_dir = os.path.join('logs', 'perfection', 'exp1')\n",
        "# if os.path.isdir(ckpt_dir):\n",
        "#     raise ValueError(\"checkpoint directory exists. checkout your experiment name in configure file.\")\n",
        "# if os.path.isdir(log_dir):\n",
        "#     raise ValueError(\"log directory exists. checkout your experiment name in configure file.\")\n"
      ],
      "execution_count": 30,
      "outputs": []
    },
    {
      "cell_type": "markdown",
      "metadata": {
        "id": "yDoar-g5E1uV"
      },
      "source": [
        "# Dataset load"
      ]
    },
    {
      "cell_type": "code",
      "metadata": {
        "id": "ROvJG8yqFqzh"
      },
      "source": [
        "from pycocotools.coco import COCO\n",
        "# test COCO api can load my json file\n",
        "json = COCO(\"/content/GDUT_HWD.json\")"
      ],
      "execution_count": 6,
      "outputs": []
    },
    {
      "cell_type": "code",
      "metadata": {
        "id": "9ySIR56NFrn7",
        "outputId": "01741945-51f4-4c2e-9240-2a052929c5ca",
        "colab": {
          "base_uri": "https://localhost:8080/"
        }
      },
      "source": [
        "!ls images.zip\n",
        "!unzip images.zip"
      ],
      "execution_count": 16,
      "outputs": [
        {
          "output_type": "stream",
          "text": [
            "loading annotations into memory...\n",
            "Done (t=0.01s)\n",
            "creating index...\n",
            "index created!\n"
          ],
          "name": "stdout"
        }
      ]
    },
    {
      "cell_type": "code",
      "metadata": {
        "id": "OVY19wH2E1uW"
      },
      "source": [
        "from coco import Dataset\n",
        "ds_obj = Dataset(config, COCO)"
      ],
      "execution_count": 33,
      "outputs": []
    },
    {
      "cell_type": "code",
      "metadata": {
        "id": "zWqPM4ZWE1uW",
        "outputId": "472e2c5a-8149-444d-9040-f97e9318eb9f",
        "colab": {
          "base_uri": "https://localhost:8080/"
        }
      },
      "source": [
        "batch_generator, train_length = ds_obj.load_data_generator('train', config)"
      ],
      "execution_count": 34,
      "outputs": [
        {
          "output_type": "stream",
          "text": [
            "loading annotations into memory...\n",
            "Done (t=0.01s)\n",
            "creating index...\n",
            "index created!\n"
          ],
          "name": "stdout"
        }
      ]
    },
    {
      "cell_type": "code",
      "metadata": {
        "id": "151hK-4lE1uX",
        "outputId": "17fc07a5-6ea5-46e4-85ec-779c3e2c3107",
        "colab": {
          "base_uri": "https://localhost:8080/"
        }
      },
      "source": [
        "for i, (_, imgs, gt_confs, gt_locs) in enumerate(batch_generator.take(1)):\n",
        "    print(imgs.shape, gt_confs.shape, gt_locs.shape)"
      ],
      "execution_count": 35,
      "outputs": [
        {
          "output_type": "stream",
          "text": [
            "(16, 160, 160, 3) (16, 608) (16, 608, 4)\n"
          ],
          "name": "stdout"
        }
      ]
    },
    {
      "cell_type": "markdown",
      "metadata": {
        "id": "as7WRt3SE1uY"
      },
      "source": [
        "# Model load"
      ]
    },
    {
      "cell_type": "code",
      "metadata": {
        "id": "YaSAOnflE1uY",
        "outputId": "4c1c7403-ca12-4af2-b405-cb512de8d31a",
        "colab": {
          "base_uri": "https://localhost:8080/"
        }
      },
      "source": [
        "model = tf.keras.models.load_model(\"ssd160-mobilenet.h5\")"
      ],
      "execution_count": 37,
      "outputs": [
        {
          "output_type": "stream",
          "text": [
            "WARNING:tensorflow:No training configuration found in the save file, so the model was *not* compiled. Compile it manually.\n"
          ],
          "name": "stdout"
        }
      ]
    },
    {
      "cell_type": "code",
      "metadata": {
        "id": "xFRRmnIiE1uY",
        "outputId": "68336eef-989c-464d-a208-44fcbf3c91a5",
        "colab": {
          "base_uri": "https://localhost:8080/"
        }
      },
      "source": [
        "model.layers[1].trainable = False\n",
        "model.summary()"
      ],
      "execution_count": 38,
      "outputs": [
        {
          "output_type": "stream",
          "text": [
            "Model: \"model_14\"\n",
            "__________________________________________________________________________________________________\n",
            "Layer (type)                    Output Shape         Param #     Connected to                     \n",
            "==================================================================================================\n",
            "input_11 (InputLayer)           [(None, 160, 160, 3) 0                                            \n",
            "__________________________________________________________________________________________________\n",
            "model_13 (Functional)           (None, 10, 10, 576)  616256      input_11[0][0]                   \n",
            "__________________________________________________________________________________________________\n",
            "sequential_12 (Sequential)      (None, 5, 5, 512)    569344      model_13[0][0]                   \n",
            "__________________________________________________________________________________________________\n",
            "sequential_13 (Sequential)      (None, 3, 3, 512)    536576      sequential_12[0][0]              \n",
            "__________________________________________________________________________________________________\n",
            "sequential_14 (Sequential)      (None, 1, 1, 512)    536576      sequential_13[0][0]              \n",
            "__________________________________________________________________________________________________\n",
            "conv2d_139 (Conv2D)             (None, 10, 10, 12)   62220       model_13[0][0]                   \n",
            "__________________________________________________________________________________________________\n",
            "conv2d_140 (Conv2D)             (None, 5, 5, 18)     82962       sequential_12[0][0]              \n",
            "__________________________________________________________________________________________________\n",
            "conv2d_141 (Conv2D)             (None, 3, 3, 18)     82962       sequential_13[0][0]              \n",
            "__________________________________________________________________________________________________\n",
            "conv2d_142 (Conv2D)             (None, 1, 1, 12)     6156        sequential_14[0][0]              \n",
            "__________________________________________________________________________________________________\n",
            "conv2d_143 (Conv2D)             (None, 10, 10, 16)   82960       model_13[0][0]                   \n",
            "__________________________________________________________________________________________________\n",
            "conv2d_144 (Conv2D)             (None, 5, 5, 24)     110616      sequential_12[0][0]              \n",
            "__________________________________________________________________________________________________\n",
            "conv2d_145 (Conv2D)             (None, 3, 3, 24)     110616      sequential_13[0][0]              \n",
            "__________________________________________________________________________________________________\n",
            "conv2d_146 (Conv2D)             (None, 1, 1, 16)     8208        sequential_14[0][0]              \n",
            "__________________________________________________________________________________________________\n",
            "tf.reshape_109 (TFOpLambda)     (None, 400, 3)       0           conv2d_139[0][0]                 \n",
            "__________________________________________________________________________________________________\n",
            "tf.reshape_110 (TFOpLambda)     (None, 150, 3)       0           conv2d_140[0][0]                 \n",
            "__________________________________________________________________________________________________\n",
            "tf.reshape_111 (TFOpLambda)     (None, 54, 3)        0           conv2d_141[0][0]                 \n",
            "__________________________________________________________________________________________________\n",
            "tf.reshape_112 (TFOpLambda)     (None, 4, 3)         0           conv2d_142[0][0]                 \n",
            "__________________________________________________________________________________________________\n",
            "tf.reshape_113 (TFOpLambda)     (None, 400, 4)       0           conv2d_143[0][0]                 \n",
            "__________________________________________________________________________________________________\n",
            "tf.reshape_114 (TFOpLambda)     (None, 150, 4)       0           conv2d_144[0][0]                 \n",
            "__________________________________________________________________________________________________\n",
            "tf.reshape_115 (TFOpLambda)     (None, 54, 4)        0           conv2d_145[0][0]                 \n",
            "__________________________________________________________________________________________________\n",
            "tf.reshape_116 (TFOpLambda)     (None, 4, 4)         0           conv2d_146[0][0]                 \n",
            "__________________________________________________________________________________________________\n",
            "tf.concat_18 (TFOpLambda)       (None, 608, 3)       0           tf.reshape_109[0][0]             \n",
            "                                                                 tf.reshape_110[0][0]             \n",
            "                                                                 tf.reshape_111[0][0]             \n",
            "                                                                 tf.reshape_112[0][0]             \n",
            "__________________________________________________________________________________________________\n",
            "tf.concat_19 (TFOpLambda)       (None, 608, 4)       0           tf.reshape_113[0][0]             \n",
            "                                                                 tf.reshape_114[0][0]             \n",
            "                                                                 tf.reshape_115[0][0]             \n",
            "                                                                 tf.reshape_116[0][0]             \n",
            "==================================================================================================\n",
            "Total params: 2,805,452\n",
            "Trainable params: 2,179,980\n",
            "Non-trainable params: 625,472\n",
            "__________________________________________________________________________________________________\n"
          ],
          "name": "stdout"
        }
      ]
    },
    {
      "cell_type": "code",
      "metadata": {
        "id": "UDZLNBScPZ7S",
        "outputId": "32d2b54c-d59e-435e-cfaa-58c5c03a8838",
        "colab": {
          "base_uri": "https://localhost:8080/"
        }
      },
      "source": [
        "model(imgs)"
      ],
      "execution_count": 39,
      "outputs": [
        {
          "output_type": "execute_result",
          "data": {
            "text/plain": [
              "[<tf.Tensor: shape=(16, 608, 3), dtype=float32, numpy=\n",
              " array([[[ 7.85903931e-01, -6.54461861e-01,  5.73911130e-01],\n",
              "         [-9.75549400e-01, -8.22570026e-02,  1.09906983e+00],\n",
              "         [ 2.65728593e-01,  3.77192736e-01,  1.92717433e-01],\n",
              "         ...,\n",
              "         [-3.61195873e-07, -4.01300122e-06, -1.50403068e-07],\n",
              "         [ 1.45957051e-06,  2.76056653e-06,  8.38467713e-06],\n",
              "         [-6.34445632e-06, -2.42983333e-06, -3.37804704e-06]],\n",
              " \n",
              "        [[ 2.97688603e-01, -9.72911298e-01,  4.49492902e-01],\n",
              "         [-1.11551595e+00,  1.35816336e-01,  3.16954851e-01],\n",
              "         [ 1.76708102e-02,  2.03252077e-01,  2.05680132e-02],\n",
              "         ...,\n",
              "         [ 5.57828253e-06, -3.94437120e-06, -9.78202706e-07],\n",
              "         [ 2.60399634e-06,  2.86339059e-06,  1.08349823e-05],\n",
              "         [-6.21935396e-06, -1.16752813e-06, -4.16094736e-06]],\n",
              " \n",
              "        [[ 3.50150347e-01, -4.94881630e-01,  1.28381565e-01],\n",
              "         [-3.65332305e-01,  2.40958273e-01, -5.23854792e-02],\n",
              "         [ 1.62983239e-01,  3.74725580e-01,  3.66991520e-01],\n",
              "         ...,\n",
              "         [ 2.99446242e-06, -3.68530436e-06, -2.84169482e-06],\n",
              "         [ 3.48755520e-06,  2.56122416e-06,  7.67607526e-06],\n",
              "         [-6.89362741e-06,  8.57872919e-07, -2.66810184e-06]],\n",
              " \n",
              "        ...,\n",
              " \n",
              "        [[ 8.79519224e-01, -4.95205641e-01,  2.33720213e-01],\n",
              "         [-1.18367720e+00, -1.17413664e+00, -2.56889731e-01],\n",
              "         [ 3.25480223e-01,  1.09188151e+00,  4.13197666e-01],\n",
              "         ...,\n",
              "         [ 1.35957509e-06, -5.56919167e-06, -1.67930381e-07],\n",
              "         [ 4.22983931e-06,  4.01217358e-06,  8.27265558e-06],\n",
              "         [-6.99850034e-06,  6.63314438e-07, -3.54789699e-06]],\n",
              " \n",
              "        [[ 5.13023496e-01, -2.49926448e-02,  1.17193386e-01],\n",
              "         [-4.18461978e-01, -2.30302811e-02, -1.94419026e-02],\n",
              "         [ 7.45698094e-01,  2.34451860e-01,  7.05036283e-01],\n",
              "         ...,\n",
              "         [ 5.53571863e-06, -3.24960956e-06,  2.23130456e-07],\n",
              "         [ 8.51661468e-07,  3.86790816e-06,  1.10560486e-05],\n",
              "         [-4.91124547e-06,  4.96632708e-08, -3.69160534e-06]],\n",
              " \n",
              "        [[ 7.06387341e-01, -3.91158253e-01,  5.03751040e-02],\n",
              "         [-7.39339411e-01, -5.16488552e-02, -1.79555222e-01],\n",
              "         [ 1.75465927e-01,  1.57303214e-02,  4.52213913e-01],\n",
              "         ...,\n",
              "         [ 2.64933260e-06, -5.77919081e-06, -8.52323751e-07],\n",
              "         [ 5.50618552e-06,  5.01498926e-06,  8.75472142e-06],\n",
              "         [-5.45367038e-06, -5.12463998e-07, -9.70961423e-07]]],\n",
              "       dtype=float32)>, <tf.Tensor: shape=(16, 608, 4), dtype=float32, numpy=\n",
              " array([[[ 9.97625172e-01,  5.11329651e-01, -5.77236950e-01,\n",
              "          -2.80763507e-01],\n",
              "         [-1.10817894e-01, -1.75354779e-01, -6.24254882e-01,\n",
              "           5.41404247e-01],\n",
              "         [ 7.77565479e-01,  3.95594120e-01,  2.56041944e-01,\n",
              "          -5.65771222e-01],\n",
              "         ...,\n",
              "         [ 5.01119030e-06, -6.98480108e-07, -5.70646762e-06,\n",
              "           9.67050823e-07],\n",
              "         [-2.51468032e-06, -3.43504530e-06,  2.94253368e-06,\n",
              "           7.11109578e-06],\n",
              "         [-2.59916237e-06,  4.51152437e-06,  3.85835301e-06,\n",
              "           2.57303077e-06]],\n",
              " \n",
              "        [[ 9.27581429e-01,  1.75960362e-01, -1.20508933e+00,\n",
              "          -6.38882279e-01],\n",
              "         [-5.09567261e-02, -1.14310384e-01, -9.39588189e-01,\n",
              "           4.03559446e-01],\n",
              "         [ 1.10857475e+00,  1.40717328e-01, -2.27834582e-01,\n",
              "           2.79507577e-01],\n",
              "         ...,\n",
              "         [ 6.57336295e-06,  9.71584313e-07, -4.80185281e-06,\n",
              "          -1.94056088e-06],\n",
              "         [-1.83884288e-06, -3.06245920e-06,  4.08209758e-07,\n",
              "           6.38729671e-06],\n",
              "         [-3.66109634e-06,  3.23329186e-06,  5.70398470e-06,\n",
              "           1.49684763e-06]],\n",
              " \n",
              "        [[ 8.84030223e-01, -1.84848666e-01, -3.14393729e-01,\n",
              "          -2.63749301e-01],\n",
              "         [-1.37576640e-01,  9.45447087e-02, -2.12368011e-01,\n",
              "           2.84368038e-01],\n",
              "         [-2.48862863e-01,  3.38126421e-02, -1.85227394e-03,\n",
              "           3.03573549e-01],\n",
              "         ...,\n",
              "         [ 7.79670154e-06, -3.09390475e-06, -7.43046076e-06,\n",
              "           7.11384814e-07],\n",
              "         [-2.30904561e-06, -3.26184136e-06,  2.80022095e-06,\n",
              "           7.00055716e-06],\n",
              "         [ 7.71448754e-07,  6.57184137e-06,  5.79836933e-06,\n",
              "           1.00312991e-06]],\n",
              " \n",
              "        ...,\n",
              " \n",
              "        [[ 1.37687349e+00, -3.81066144e-01, -8.39083433e-01,\n",
              "          -1.04884768e+00],\n",
              "         [-5.73715866e-02,  1.15588471e-01, -3.61362100e-01,\n",
              "           5.86368084e-01],\n",
              "         [ 7.04586506e-01,  4.12369609e-01,  2.70287275e-01,\n",
              "           1.12421751e-01],\n",
              "         ...,\n",
              "         [ 5.06272318e-06, -3.20800791e-06, -7.71207306e-06,\n",
              "           3.03570829e-07],\n",
              "         [-1.62489073e-06, -8.06818719e-07, -2.21444907e-08,\n",
              "           5.86082297e-06],\n",
              "         [-1.51672475e-06,  8.53511392e-06,  4.72502234e-06,\n",
              "           4.50691869e-06]],\n",
              " \n",
              "        [[ 1.72008324e+00,  3.69082764e-02, -1.44185662e-01,\n",
              "          -6.41414165e-01],\n",
              "         [ 1.89128578e-01, -9.79937315e-02, -4.26768512e-01,\n",
              "          -1.35987520e-01],\n",
              "         [-6.32854581e-01, -3.44411492e-01,  1.19345784e-02,\n",
              "          -3.79366696e-01],\n",
              "         ...,\n",
              "         [ 5.49314063e-06, -6.34280241e-07, -5.90686705e-06,\n",
              "          -1.20740117e-06],\n",
              "         [-3.52379379e-06, -4.41305474e-06,  2.68725239e-06,\n",
              "           7.79410766e-06],\n",
              "         [-2.63109814e-06,  5.52071288e-06,  5.29579484e-06,\n",
              "           2.79589403e-06]],\n",
              " \n",
              "        [[ 7.04084814e-01,  1.38264656e-01, -5.34442663e-02,\n",
              "          -4.27085161e-01],\n",
              "         [ 7.69975781e-03,  3.47623348e-01, -2.80723512e-01,\n",
              "           4.05834854e-01],\n",
              "         [ 1.51425362e-01,  1.88946754e-01,  1.30245864e-01,\n",
              "           1.28412485e-01],\n",
              "         ...,\n",
              "         [ 5.75912554e-06,  6.80305561e-07, -4.77192634e-06,\n",
              "           1.20940786e-06],\n",
              "         [-3.85663770e-06, -4.35527170e-08,  1.80009874e-06,\n",
              "           5.72279851e-06],\n",
              "         [-2.65450785e-06,  6.41782617e-06,  4.15354907e-06,\n",
              "           1.71480224e-06]]], dtype=float32)>]"
            ]
          },
          "metadata": {
            "tags": []
          },
          "execution_count": 39
        }
      ]
    },
    {
      "cell_type": "markdown",
      "metadata": {
        "id": "xE2VgOQpE1uZ"
      },
      "source": [
        "# Training loop"
      ]
    },
    {
      "cell_type": "code",
      "metadata": {
        "id": "IqW_LO49E1uZ"
      },
      "source": [
        "@tf.function\n",
        "def train_step(imgs, gt_confs, gt_locs, ssd, criterion, optimizer, config):\n",
        "    with tf.GradientTape() as tape:\n",
        "        confs, locs = ssd(imgs)\n",
        "\n",
        "        conf_loss, loc_loss = criterion(\n",
        "            confs, locs, gt_confs, gt_locs)\n",
        "\n",
        "        loss = conf_loss + loc_loss\n",
        "        l2_loss = [tf.nn.l2_loss(t) for t in ssd.trainable_variables]\n",
        "        l2_loss = config['train']['weight_decay'] * tf.math.reduce_sum(l2_loss)\n",
        "        loss += l2_loss\n",
        "\n",
        "    gradients = tape.gradient(loss, ssd.trainable_variables)\n",
        "    optimizer.apply_gradients(zip(gradients, ssd.trainable_variables))\n",
        "\n",
        "    return loss, conf_loss, loc_loss, l2_loss\n",
        "\n",
        "criterion = losses.create_losses(config['train']['neg_ratio'], num_classes)"
      ],
      "execution_count": 40,
      "outputs": []
    },
    {
      "cell_type": "code",
      "metadata": {
        "id": "LeedJXZ3E1uZ",
        "outputId": "dff81cd5-c4e7-43bb-c3fb-89a7b2893d0f",
        "colab": {
          "base_uri": "https://localhost:8080/",
          "height": 1000
        }
      },
      "source": [
        "summary_writer = tf.summary.create_file_writer(log_dir)\n",
        "\n",
        "t_loss = tf.metrics.Mean(name='train_loss')\n",
        "t_conf_loss = tf.metrics.Mean(name='train_conf_loss')\n",
        "t_loc_loss = tf.metrics.Mean(name='train_loc_loss')\n",
        "# v_loss = tf.metrics.Mean(name='val_loss')\n",
        "# v_conf_loss = tf.metrics.Mean(name='val_conf_loss')\n",
        "# v_loc_loss = tf.metrics.Mean(name='val_loc_loss')\n",
        "\n",
        "learning_rate = 1E-3\n",
        "EPOCH = 50\n",
        "START = 0\n",
        "optimizer = tf.keras.optimizers.Adam(learning_rate)\n",
        "for epoch in range(START+1, START+EPOCH+1):\n",
        "    start = time.time()\n",
        "    for i, (_, imgs, gt_confs, gt_locs) in enumerate(batch_generator):\n",
        "        imgs = preprocess_input(imgs)\n",
        "        loss, conf_loss, loc_loss, l2_loss = train_step(imgs, gt_confs, gt_locs, model, criterion, optimizer, config)\n",
        "        t_loss(loss)\n",
        "        t_conf_loss(conf_loss)\n",
        "        t_loc_loss(loc_loss)\n",
        "        \n",
        "        print(\"Epoch {} iteration {} loss : {}\".format(epoch, i, t_loss.result()))\n",
        "    \n",
        "    '''\n",
        "    you can add the validation part\n",
        "    \n",
        "    for i, (_, imgs, gt_confs, gt_locs) in enumerate(val_generator):\n",
        "        imgs = preprocess_input(imgs)\n",
        "        val_confs, val_locs = model(imgs)\n",
        "        val_conf_loss, val_loc_loss = criterion(val_confs, val_locs, gt_confs, gt_locs)\n",
        "        v_loss(val_conf_loss+val_loc_loss)\n",
        "        v_conf_loss(val_conf_loss)\n",
        "        v_loc_loss(val_loc_loss)\n",
        "    '''\n",
        "    # Save checkpoint with a strategy.\n",
        "    if epoch%10 == 0:\n",
        "        model.save(\"{}.h5\".format(epoch))\n",
        "\n",
        "    with summary_writer.as_default():\n",
        "        tf.summary.scalar('train_loss', t_loss.result(), step=epoch)\n",
        "        tf.summary.scalar('train_conf_loss', t_conf_loss.result(), step=epoch)\n",
        "        tf.summary.scalar('train_loc_loss', t_loc_loss.result(), step=epoch)\n",
        "        #tf.summary.scalar('val_loss', v_loss.result(), step=epoch)\n",
        "        #tf.summary.scalar('val_conf_loss', v_conf_loss.result(), step=epoch)\n",
        "        #tf.summary.scalar('val_loc_loss', v_loc_loss.result(), step=epoch)\n",
        "        tf.summary.scalar('learning_rate', learning_rate, step=epoch)\n",
        "        \n",
        "    t_loss.reset_states()\n",
        "    t_conf_loss.reset_states()\n",
        "    t_loc_loss.reset_states()\n",
        "    #v_loss.reset_states()\n",
        "    #v_conf_loss.reset_states()\n",
        "    #v_loc_loss.reset_states()   "
      ],
      "execution_count": 41,
      "outputs": [
        {
          "output_type": "stream",
          "text": [
            "Epoch 1 iteration 0 loss : 12.138065338134766\n",
            "Epoch 1 iteration 1 loss : 10.540584564208984\n",
            "Epoch 1 iteration 2 loss : 9.416193962097168\n",
            "Epoch 1 iteration 3 loss : 9.12147045135498\n",
            "Epoch 1 iteration 4 loss : 8.641573905944824\n",
            "Epoch 1 iteration 5 loss : 8.301690101623535\n",
            "Epoch 1 iteration 6 loss : 8.065224647521973\n",
            "Epoch 1 iteration 7 loss : 7.990416526794434\n",
            "Epoch 1 iteration 8 loss : 7.959733963012695\n",
            "Epoch 1 iteration 9 loss : 7.814990997314453\n",
            "Epoch 2 iteration 0 loss : 5.855602741241455\n",
            "Epoch 2 iteration 1 loss : 6.279521465301514\n",
            "Epoch 2 iteration 2 loss : 6.455644130706787\n",
            "Epoch 2 iteration 3 loss : 6.094285011291504\n",
            "Epoch 2 iteration 4 loss : 5.8418989181518555\n",
            "Epoch 2 iteration 5 loss : 5.655609130859375\n",
            "Epoch 2 iteration 6 loss : 5.518134117126465\n",
            "Epoch 2 iteration 7 loss : 5.443604469299316\n",
            "Epoch 2 iteration 8 loss : 5.35369873046875\n",
            "Epoch 2 iteration 9 loss : 5.297483444213867\n",
            "Epoch 3 iteration 0 loss : 3.9310946464538574\n",
            "Epoch 3 iteration 1 loss : 4.00526237487793\n",
            "Epoch 3 iteration 2 loss : 3.8637540340423584\n",
            "Epoch 3 iteration 3 loss : 3.878357172012329\n",
            "Epoch 3 iteration 4 loss : 3.93597149848938\n",
            "Epoch 3 iteration 5 loss : 3.914942741394043\n",
            "Epoch 3 iteration 6 loss : 3.8637404441833496\n",
            "Epoch 3 iteration 7 loss : 3.8456196784973145\n",
            "Epoch 3 iteration 8 loss : 3.908400297164917\n",
            "Epoch 3 iteration 9 loss : 3.8887314796447754\n",
            "Epoch 4 iteration 0 loss : 3.91827654838562\n",
            "Epoch 4 iteration 1 loss : 3.969153881072998\n",
            "Epoch 4 iteration 2 loss : 3.8119747638702393\n",
            "Epoch 4 iteration 3 loss : 3.6773452758789062\n",
            "Epoch 4 iteration 4 loss : 3.5796265602111816\n",
            "Epoch 4 iteration 5 loss : 3.5134570598602295\n",
            "Epoch 4 iteration 6 loss : 3.507997751235962\n",
            "Epoch 4 iteration 7 loss : 3.477872371673584\n",
            "Epoch 4 iteration 8 loss : 3.4407479763031006\n",
            "Epoch 4 iteration 9 loss : 3.431149959564209\n",
            "Epoch 5 iteration 0 loss : 3.0506999492645264\n",
            "Epoch 5 iteration 1 loss : 3.0703248977661133\n",
            "Epoch 5 iteration 2 loss : 3.0642080307006836\n",
            "Epoch 5 iteration 3 loss : 2.968369483947754\n",
            "Epoch 5 iteration 4 loss : 2.93296480178833\n",
            "Epoch 5 iteration 5 loss : 2.9256131649017334\n",
            "Epoch 5 iteration 6 loss : 2.925917148590088\n",
            "Epoch 5 iteration 7 loss : 2.9457569122314453\n",
            "Epoch 5 iteration 8 loss : 2.9321279525756836\n",
            "Epoch 5 iteration 9 loss : 2.93792462348938\n",
            "Epoch 6 iteration 0 loss : 2.752195358276367\n",
            "Epoch 6 iteration 1 loss : 2.8341922760009766\n",
            "Epoch 6 iteration 2 loss : 2.695237398147583\n",
            "Epoch 6 iteration 3 loss : 2.7063350677490234\n",
            "Epoch 6 iteration 4 loss : 2.6596274375915527\n"
          ],
          "name": "stdout"
        },
        {
          "output_type": "error",
          "ename": "KeyboardInterrupt",
          "evalue": "ignored",
          "traceback": [
            "\u001b[0;31m---------------------------------------------------------------------------\u001b[0m",
            "\u001b[0;31mKeyboardInterrupt\u001b[0m                         Traceback (most recent call last)",
            "\u001b[0;32m<ipython-input-41-00901c653428>\u001b[0m in \u001b[0;36m<module>\u001b[0;34m()\u001b[0m\n\u001b[1;32m     18\u001b[0m         \u001b[0mloss\u001b[0m\u001b[0;34m,\u001b[0m \u001b[0mconf_loss\u001b[0m\u001b[0;34m,\u001b[0m \u001b[0mloc_loss\u001b[0m\u001b[0;34m,\u001b[0m \u001b[0ml2_loss\u001b[0m \u001b[0;34m=\u001b[0m \u001b[0mtrain_step\u001b[0m\u001b[0;34m(\u001b[0m\u001b[0mimgs\u001b[0m\u001b[0;34m,\u001b[0m \u001b[0mgt_confs\u001b[0m\u001b[0;34m,\u001b[0m \u001b[0mgt_locs\u001b[0m\u001b[0;34m,\u001b[0m \u001b[0mmodel\u001b[0m\u001b[0;34m,\u001b[0m \u001b[0mcriterion\u001b[0m\u001b[0;34m,\u001b[0m \u001b[0moptimizer\u001b[0m\u001b[0;34m,\u001b[0m \u001b[0mconfig\u001b[0m\u001b[0;34m)\u001b[0m\u001b[0;34m\u001b[0m\u001b[0;34m\u001b[0m\u001b[0m\n\u001b[1;32m     19\u001b[0m         \u001b[0mt_loss\u001b[0m\u001b[0;34m(\u001b[0m\u001b[0mloss\u001b[0m\u001b[0;34m)\u001b[0m\u001b[0;34m\u001b[0m\u001b[0;34m\u001b[0m\u001b[0m\n\u001b[0;32m---> 20\u001b[0;31m         \u001b[0mt_conf_loss\u001b[0m\u001b[0;34m(\u001b[0m\u001b[0mconf_loss\u001b[0m\u001b[0;34m)\u001b[0m\u001b[0;34m\u001b[0m\u001b[0;34m\u001b[0m\u001b[0m\n\u001b[0m\u001b[1;32m     21\u001b[0m         \u001b[0mt_loc_loss\u001b[0m\u001b[0;34m(\u001b[0m\u001b[0mloc_loss\u001b[0m\u001b[0;34m)\u001b[0m\u001b[0;34m\u001b[0m\u001b[0;34m\u001b[0m\u001b[0m\n\u001b[1;32m     22\u001b[0m \u001b[0;34m\u001b[0m\u001b[0m\n",
            "\u001b[0;32m/usr/local/lib/python3.7/dist-packages/tensorflow/python/keras/metrics.py\u001b[0m in \u001b[0;36m__call__\u001b[0;34m(self, *args, **kwargs)\u001b[0m\n\u001b[1;32m    235\u001b[0m     \u001b[0;32mfrom\u001b[0m \u001b[0mtensorflow\u001b[0m\u001b[0;34m.\u001b[0m\u001b[0mpython\u001b[0m\u001b[0;34m.\u001b[0m\u001b[0mkeras\u001b[0m\u001b[0;34m.\u001b[0m\u001b[0mdistribute\u001b[0m \u001b[0;32mimport\u001b[0m \u001b[0mdistributed_training_utils\u001b[0m  \u001b[0;31m# pylint:disable=g-import-not-at-top\u001b[0m\u001b[0;34m\u001b[0m\u001b[0;34m\u001b[0m\u001b[0m\n\u001b[1;32m    236\u001b[0m     return distributed_training_utils.call_replica_local_fn(\n\u001b[0;32m--> 237\u001b[0;31m         replica_local_fn, *args, **kwargs)\n\u001b[0m\u001b[1;32m    238\u001b[0m \u001b[0;34m\u001b[0m\u001b[0m\n\u001b[1;32m    239\u001b[0m   \u001b[0;34m@\u001b[0m\u001b[0mproperty\u001b[0m\u001b[0;34m\u001b[0m\u001b[0;34m\u001b[0m\u001b[0m\n",
            "\u001b[0;32m/usr/local/lib/python3.7/dist-packages/tensorflow/python/keras/distribute/distributed_training_utils.py\u001b[0m in \u001b[0;36mcall_replica_local_fn\u001b[0;34m(fn, *args, **kwargs)\u001b[0m\n\u001b[1;32m     64\u001b[0m     \u001b[0;32mwith\u001b[0m \u001b[0mstrategy\u001b[0m\u001b[0;34m.\u001b[0m\u001b[0mscope\u001b[0m\u001b[0;34m(\u001b[0m\u001b[0;34m)\u001b[0m\u001b[0;34m:\u001b[0m\u001b[0;34m\u001b[0m\u001b[0;34m\u001b[0m\u001b[0m\n\u001b[1;32m     65\u001b[0m       \u001b[0;32mreturn\u001b[0m \u001b[0mstrategy\u001b[0m\u001b[0;34m.\u001b[0m\u001b[0mextended\u001b[0m\u001b[0;34m.\u001b[0m\u001b[0mcall_for_each_replica\u001b[0m\u001b[0;34m(\u001b[0m\u001b[0mfn\u001b[0m\u001b[0;34m,\u001b[0m \u001b[0margs\u001b[0m\u001b[0;34m,\u001b[0m \u001b[0mkwargs\u001b[0m\u001b[0;34m)\u001b[0m\u001b[0;34m\u001b[0m\u001b[0;34m\u001b[0m\u001b[0m\n\u001b[0;32m---> 66\u001b[0;31m   \u001b[0;32mreturn\u001b[0m \u001b[0mfn\u001b[0m\u001b[0;34m(\u001b[0m\u001b[0;34m*\u001b[0m\u001b[0margs\u001b[0m\u001b[0;34m,\u001b[0m \u001b[0;34m**\u001b[0m\u001b[0mkwargs\u001b[0m\u001b[0;34m)\u001b[0m\u001b[0;34m\u001b[0m\u001b[0;34m\u001b[0m\u001b[0m\n\u001b[0m",
            "\u001b[0;32m/usr/local/lib/python3.7/dist-packages/tensorflow/python/keras/metrics.py\u001b[0m in \u001b[0;36mreplica_local_fn\u001b[0;34m(*args, **kwargs)\u001b[0m\n\u001b[1;32m    215\u001b[0m         \u001b[0mupdate_op\u001b[0m \u001b[0;34m=\u001b[0m \u001b[0;32mNone\u001b[0m\u001b[0;34m\u001b[0m\u001b[0;34m\u001b[0m\u001b[0m\n\u001b[1;32m    216\u001b[0m       \u001b[0;32melse\u001b[0m\u001b[0;34m:\u001b[0m\u001b[0;34m\u001b[0m\u001b[0;34m\u001b[0m\u001b[0m\n\u001b[0;32m--> 217\u001b[0;31m         \u001b[0mupdate_op\u001b[0m \u001b[0;34m=\u001b[0m \u001b[0mself\u001b[0m\u001b[0;34m.\u001b[0m\u001b[0mupdate_state\u001b[0m\u001b[0;34m(\u001b[0m\u001b[0;34m*\u001b[0m\u001b[0margs\u001b[0m\u001b[0;34m,\u001b[0m \u001b[0;34m**\u001b[0m\u001b[0mkwargs\u001b[0m\u001b[0;34m)\u001b[0m  \u001b[0;31m# pylint: disable=not-callable\u001b[0m\u001b[0;34m\u001b[0m\u001b[0;34m\u001b[0m\u001b[0m\n\u001b[0m\u001b[1;32m    218\u001b[0m       \u001b[0mupdate_ops\u001b[0m \u001b[0;34m=\u001b[0m \u001b[0;34m[\u001b[0m\u001b[0;34m]\u001b[0m\u001b[0;34m\u001b[0m\u001b[0;34m\u001b[0m\u001b[0m\n\u001b[1;32m    219\u001b[0m       \u001b[0;32mif\u001b[0m \u001b[0mupdate_op\u001b[0m \u001b[0;32mis\u001b[0m \u001b[0;32mnot\u001b[0m \u001b[0;32mNone\u001b[0m\u001b[0;34m:\u001b[0m\u001b[0;34m\u001b[0m\u001b[0;34m\u001b[0m\u001b[0m\n",
            "\u001b[0;32m/usr/local/lib/python3.7/dist-packages/tensorflow/python/keras/utils/metrics_utils.py\u001b[0m in \u001b[0;36mdecorated\u001b[0;34m(metric_obj, *args, **kwargs)\u001b[0m\n\u001b[1;32m     88\u001b[0m \u001b[0;34m\u001b[0m\u001b[0m\n\u001b[1;32m     89\u001b[0m     \u001b[0;32mwith\u001b[0m \u001b[0mtf_utils\u001b[0m\u001b[0;34m.\u001b[0m\u001b[0mgraph_context_for_symbolic_tensors\u001b[0m\u001b[0;34m(\u001b[0m\u001b[0;34m*\u001b[0m\u001b[0margs\u001b[0m\u001b[0;34m,\u001b[0m \u001b[0;34m**\u001b[0m\u001b[0mkwargs\u001b[0m\u001b[0;34m)\u001b[0m\u001b[0;34m:\u001b[0m\u001b[0;34m\u001b[0m\u001b[0;34m\u001b[0m\u001b[0m\n\u001b[0;32m---> 90\u001b[0;31m       \u001b[0mupdate_op\u001b[0m \u001b[0;34m=\u001b[0m \u001b[0mupdate_state_fn\u001b[0m\u001b[0;34m(\u001b[0m\u001b[0;34m*\u001b[0m\u001b[0margs\u001b[0m\u001b[0;34m,\u001b[0m \u001b[0;34m**\u001b[0m\u001b[0mkwargs\u001b[0m\u001b[0;34m)\u001b[0m\u001b[0;34m\u001b[0m\u001b[0;34m\u001b[0m\u001b[0m\n\u001b[0m\u001b[1;32m     91\u001b[0m     \u001b[0;32mif\u001b[0m \u001b[0mupdate_op\u001b[0m \u001b[0;32mis\u001b[0m \u001b[0;32mnot\u001b[0m \u001b[0;32mNone\u001b[0m\u001b[0;34m:\u001b[0m  \u001b[0;31m# update_op will be None in eager execution.\u001b[0m\u001b[0;34m\u001b[0m\u001b[0;34m\u001b[0m\u001b[0m\n\u001b[1;32m     92\u001b[0m       \u001b[0mmetric_obj\u001b[0m\u001b[0;34m.\u001b[0m\u001b[0madd_update\u001b[0m\u001b[0;34m(\u001b[0m\u001b[0mupdate_op\u001b[0m\u001b[0;34m)\u001b[0m\u001b[0;34m\u001b[0m\u001b[0;34m\u001b[0m\u001b[0m\n",
            "\u001b[0;32m/usr/local/lib/python3.7/dist-packages/tensorflow/python/keras/metrics.py\u001b[0m in \u001b[0;36mupdate_state_fn\u001b[0;34m(*args, **kwargs)\u001b[0m\n\u001b[1;32m    175\u001b[0m         \u001b[0mcontrol_status\u001b[0m \u001b[0;34m=\u001b[0m \u001b[0mag_ctx\u001b[0m\u001b[0;34m.\u001b[0m\u001b[0mcontrol_status_ctx\u001b[0m\u001b[0;34m(\u001b[0m\u001b[0;34m)\u001b[0m\u001b[0;34m\u001b[0m\u001b[0;34m\u001b[0m\u001b[0m\n\u001b[1;32m    176\u001b[0m         \u001b[0mag_update_state\u001b[0m \u001b[0;34m=\u001b[0m \u001b[0mautograph\u001b[0m\u001b[0;34m.\u001b[0m\u001b[0mtf_convert\u001b[0m\u001b[0;34m(\u001b[0m\u001b[0mobj_update_state\u001b[0m\u001b[0;34m,\u001b[0m \u001b[0mcontrol_status\u001b[0m\u001b[0;34m)\u001b[0m\u001b[0;34m\u001b[0m\u001b[0;34m\u001b[0m\u001b[0m\n\u001b[0;32m--> 177\u001b[0;31m         \u001b[0;32mreturn\u001b[0m \u001b[0mag_update_state\u001b[0m\u001b[0;34m(\u001b[0m\u001b[0;34m*\u001b[0m\u001b[0margs\u001b[0m\u001b[0;34m,\u001b[0m \u001b[0;34m**\u001b[0m\u001b[0mkwargs\u001b[0m\u001b[0;34m)\u001b[0m\u001b[0;34m\u001b[0m\u001b[0;34m\u001b[0m\u001b[0m\n\u001b[0m\u001b[1;32m    178\u001b[0m     \u001b[0;32melse\u001b[0m\u001b[0;34m:\u001b[0m\u001b[0;34m\u001b[0m\u001b[0;34m\u001b[0m\u001b[0m\n\u001b[1;32m    179\u001b[0m       \u001b[0;32mif\u001b[0m \u001b[0misinstance\u001b[0m\u001b[0;34m(\u001b[0m\u001b[0mobj\u001b[0m\u001b[0;34m.\u001b[0m\u001b[0mupdate_state\u001b[0m\u001b[0;34m,\u001b[0m \u001b[0mdef_function\u001b[0m\u001b[0;34m.\u001b[0m\u001b[0mFunction\u001b[0m\u001b[0;34m)\u001b[0m\u001b[0;34m:\u001b[0m\u001b[0;34m\u001b[0m\u001b[0;34m\u001b[0m\u001b[0m\n",
            "\u001b[0;32m/usr/local/lib/python3.7/dist-packages/tensorflow/python/autograph/impl/api.py\u001b[0m in \u001b[0;36mwrapper\u001b[0;34m(*args, **kwargs)\u001b[0m\n\u001b[1;32m    665\u001b[0m       \u001b[0;32mtry\u001b[0m\u001b[0;34m:\u001b[0m\u001b[0;34m\u001b[0m\u001b[0;34m\u001b[0m\u001b[0m\n\u001b[1;32m    666\u001b[0m         \u001b[0;32mwith\u001b[0m \u001b[0mconversion_ctx\u001b[0m\u001b[0;34m:\u001b[0m\u001b[0;34m\u001b[0m\u001b[0;34m\u001b[0m\u001b[0m\n\u001b[0;32m--> 667\u001b[0;31m           \u001b[0;32mreturn\u001b[0m \u001b[0mconverted_call\u001b[0m\u001b[0;34m(\u001b[0m\u001b[0mf\u001b[0m\u001b[0;34m,\u001b[0m \u001b[0margs\u001b[0m\u001b[0;34m,\u001b[0m \u001b[0mkwargs\u001b[0m\u001b[0;34m,\u001b[0m \u001b[0moptions\u001b[0m\u001b[0;34m=\u001b[0m\u001b[0moptions\u001b[0m\u001b[0;34m)\u001b[0m\u001b[0;34m\u001b[0m\u001b[0;34m\u001b[0m\u001b[0m\n\u001b[0m\u001b[1;32m    668\u001b[0m       \u001b[0;32mexcept\u001b[0m \u001b[0mException\u001b[0m \u001b[0;32mas\u001b[0m \u001b[0me\u001b[0m\u001b[0;34m:\u001b[0m  \u001b[0;31m# pylint:disable=broad-except\u001b[0m\u001b[0;34m\u001b[0m\u001b[0;34m\u001b[0m\u001b[0m\n\u001b[1;32m    669\u001b[0m         \u001b[0;32mif\u001b[0m \u001b[0mhasattr\u001b[0m\u001b[0;34m(\u001b[0m\u001b[0me\u001b[0m\u001b[0;34m,\u001b[0m \u001b[0;34m'ag_error_metadata'\u001b[0m\u001b[0;34m)\u001b[0m\u001b[0;34m:\u001b[0m\u001b[0;34m\u001b[0m\u001b[0;34m\u001b[0m\u001b[0m\n",
            "\u001b[0;32m/usr/local/lib/python3.7/dist-packages/tensorflow/python/autograph/impl/api.py\u001b[0m in \u001b[0;36mconverted_call\u001b[0;34m(f, args, kwargs, caller_fn_scope, options)\u001b[0m\n\u001b[1;32m    348\u001b[0m   \u001b[0;32mif\u001b[0m \u001b[0mconversion\u001b[0m\u001b[0;34m.\u001b[0m\u001b[0mis_in_allowlist_cache\u001b[0m\u001b[0;34m(\u001b[0m\u001b[0mf\u001b[0m\u001b[0;34m,\u001b[0m \u001b[0moptions\u001b[0m\u001b[0;34m)\u001b[0m\u001b[0;34m:\u001b[0m\u001b[0;34m\u001b[0m\u001b[0;34m\u001b[0m\u001b[0m\n\u001b[1;32m    349\u001b[0m     \u001b[0mlogging\u001b[0m\u001b[0;34m.\u001b[0m\u001b[0mlog\u001b[0m\u001b[0;34m(\u001b[0m\u001b[0;36m2\u001b[0m\u001b[0;34m,\u001b[0m \u001b[0;34m'Allowlisted %s: from cache'\u001b[0m\u001b[0;34m,\u001b[0m \u001b[0mf\u001b[0m\u001b[0;34m)\u001b[0m\u001b[0;34m\u001b[0m\u001b[0;34m\u001b[0m\u001b[0m\n\u001b[0;32m--> 350\u001b[0;31m     \u001b[0;32mreturn\u001b[0m \u001b[0m_call_unconverted\u001b[0m\u001b[0;34m(\u001b[0m\u001b[0mf\u001b[0m\u001b[0;34m,\u001b[0m \u001b[0margs\u001b[0m\u001b[0;34m,\u001b[0m \u001b[0mkwargs\u001b[0m\u001b[0;34m,\u001b[0m \u001b[0moptions\u001b[0m\u001b[0;34m,\u001b[0m \u001b[0;32mFalse\u001b[0m\u001b[0;34m)\u001b[0m\u001b[0;34m\u001b[0m\u001b[0;34m\u001b[0m\u001b[0m\n\u001b[0m\u001b[1;32m    351\u001b[0m \u001b[0;34m\u001b[0m\u001b[0m\n\u001b[1;32m    352\u001b[0m   \u001b[0;32mif\u001b[0m \u001b[0mag_ctx\u001b[0m\u001b[0;34m.\u001b[0m\u001b[0mcontrol_status_ctx\u001b[0m\u001b[0;34m(\u001b[0m\u001b[0;34m)\u001b[0m\u001b[0;34m.\u001b[0m\u001b[0mstatus\u001b[0m \u001b[0;34m==\u001b[0m \u001b[0mag_ctx\u001b[0m\u001b[0;34m.\u001b[0m\u001b[0mStatus\u001b[0m\u001b[0;34m.\u001b[0m\u001b[0mDISABLED\u001b[0m\u001b[0;34m:\u001b[0m\u001b[0;34m\u001b[0m\u001b[0;34m\u001b[0m\u001b[0m\n",
            "\u001b[0;32m/usr/local/lib/python3.7/dist-packages/tensorflow/python/autograph/impl/api.py\u001b[0m in \u001b[0;36m_call_unconverted\u001b[0;34m(f, args, kwargs, options, update_cache)\u001b[0m\n\u001b[1;32m    476\u001b[0m \u001b[0;34m\u001b[0m\u001b[0m\n\u001b[1;32m    477\u001b[0m   \u001b[0;32mif\u001b[0m \u001b[0mkwargs\u001b[0m \u001b[0;32mis\u001b[0m \u001b[0;32mnot\u001b[0m \u001b[0;32mNone\u001b[0m\u001b[0;34m:\u001b[0m\u001b[0;34m\u001b[0m\u001b[0;34m\u001b[0m\u001b[0m\n\u001b[0;32m--> 478\u001b[0;31m     \u001b[0;32mreturn\u001b[0m \u001b[0mf\u001b[0m\u001b[0;34m(\u001b[0m\u001b[0;34m*\u001b[0m\u001b[0margs\u001b[0m\u001b[0;34m,\u001b[0m \u001b[0;34m**\u001b[0m\u001b[0mkwargs\u001b[0m\u001b[0;34m)\u001b[0m\u001b[0;34m\u001b[0m\u001b[0;34m\u001b[0m\u001b[0m\n\u001b[0m\u001b[1;32m    479\u001b[0m   \u001b[0;32mreturn\u001b[0m \u001b[0mf\u001b[0m\u001b[0;34m(\u001b[0m\u001b[0;34m*\u001b[0m\u001b[0margs\u001b[0m\u001b[0;34m)\u001b[0m\u001b[0;34m\u001b[0m\u001b[0;34m\u001b[0m\u001b[0m\n\u001b[1;32m    480\u001b[0m \u001b[0;34m\u001b[0m\u001b[0m\n",
            "\u001b[0;32m/usr/local/lib/python3.7/dist-packages/tensorflow/python/keras/metrics.py\u001b[0m in \u001b[0;36mupdate_state\u001b[0;34m(self, values, sample_weight)\u001b[0m\n\u001b[1;32m    396\u001b[0m \u001b[0;34m\u001b[0m\u001b[0m\n\u001b[1;32m    397\u001b[0m     \u001b[0;32mwith\u001b[0m \u001b[0mops\u001b[0m\u001b[0;34m.\u001b[0m\u001b[0mcontrol_dependencies\u001b[0m\u001b[0;34m(\u001b[0m\u001b[0;34m[\u001b[0m\u001b[0mupdate_total_op\u001b[0m\u001b[0;34m]\u001b[0m\u001b[0;34m)\u001b[0m\u001b[0;34m:\u001b[0m\u001b[0;34m\u001b[0m\u001b[0;34m\u001b[0m\u001b[0m\n\u001b[0;32m--> 398\u001b[0;31m       \u001b[0;32mreturn\u001b[0m \u001b[0mself\u001b[0m\u001b[0;34m.\u001b[0m\u001b[0mcount\u001b[0m\u001b[0;34m.\u001b[0m\u001b[0massign_add\u001b[0m\u001b[0;34m(\u001b[0m\u001b[0mnum_values\u001b[0m\u001b[0;34m)\u001b[0m\u001b[0;34m\u001b[0m\u001b[0;34m\u001b[0m\u001b[0m\n\u001b[0m\u001b[1;32m    399\u001b[0m \u001b[0;34m\u001b[0m\u001b[0m\n\u001b[1;32m    400\u001b[0m   \u001b[0;32mdef\u001b[0m \u001b[0mresult\u001b[0m\u001b[0;34m(\u001b[0m\u001b[0mself\u001b[0m\u001b[0;34m)\u001b[0m\u001b[0;34m:\u001b[0m\u001b[0;34m\u001b[0m\u001b[0;34m\u001b[0m\u001b[0m\n",
            "\u001b[0;32m/usr/local/lib/python3.7/dist-packages/tensorflow/python/ops/resource_variable_ops.py\u001b[0m in \u001b[0;36massign_add\u001b[0;34m(self, delta, use_locking, name, read_value)\u001b[0m\n\u001b[1;32m    845\u001b[0m           \u001b[0mself\u001b[0m\u001b[0;34m.\u001b[0m\u001b[0mhandle\u001b[0m\u001b[0;34m,\u001b[0m\u001b[0;34m\u001b[0m\u001b[0;34m\u001b[0m\u001b[0m\n\u001b[1;32m    846\u001b[0m           \u001b[0mops\u001b[0m\u001b[0;34m.\u001b[0m\u001b[0mconvert_to_tensor\u001b[0m\u001b[0;34m(\u001b[0m\u001b[0mdelta\u001b[0m\u001b[0;34m,\u001b[0m \u001b[0mdtype\u001b[0m\u001b[0;34m=\u001b[0m\u001b[0mself\u001b[0m\u001b[0;34m.\u001b[0m\u001b[0mdtype\u001b[0m\u001b[0;34m)\u001b[0m\u001b[0;34m,\u001b[0m\u001b[0;34m\u001b[0m\u001b[0;34m\u001b[0m\u001b[0m\n\u001b[0;32m--> 847\u001b[0;31m           name=name)\n\u001b[0m\u001b[1;32m    848\u001b[0m     \u001b[0;32mif\u001b[0m \u001b[0mread_value\u001b[0m\u001b[0;34m:\u001b[0m\u001b[0;34m\u001b[0m\u001b[0;34m\u001b[0m\u001b[0m\n\u001b[1;32m    849\u001b[0m       \u001b[0;32mreturn\u001b[0m \u001b[0mself\u001b[0m\u001b[0;34m.\u001b[0m\u001b[0m_lazy_read\u001b[0m\u001b[0;34m(\u001b[0m\u001b[0massign_add_op\u001b[0m\u001b[0;34m)\u001b[0m\u001b[0;34m\u001b[0m\u001b[0;34m\u001b[0m\u001b[0m\n",
            "\u001b[0;32m/usr/local/lib/python3.7/dist-packages/tensorflow/python/ops/gen_resource_variable_ops.py\u001b[0m in \u001b[0;36massign_add_variable_op\u001b[0;34m(resource, value, name)\u001b[0m\n\u001b[1;32m     42\u001b[0m     \u001b[0;32mtry\u001b[0m\u001b[0;34m:\u001b[0m\u001b[0;34m\u001b[0m\u001b[0;34m\u001b[0m\u001b[0m\n\u001b[1;32m     43\u001b[0m       _result = pywrap_tfe.TFE_Py_FastPathExecute(\n\u001b[0;32m---> 44\u001b[0;31m         _ctx, \"AssignAddVariableOp\", name, resource, value)\n\u001b[0m\u001b[1;32m     45\u001b[0m       \u001b[0;32mreturn\u001b[0m \u001b[0m_result\u001b[0m\u001b[0;34m\u001b[0m\u001b[0;34m\u001b[0m\u001b[0m\n\u001b[1;32m     46\u001b[0m     \u001b[0;32mexcept\u001b[0m \u001b[0m_core\u001b[0m\u001b[0;34m.\u001b[0m\u001b[0m_NotOkStatusException\u001b[0m \u001b[0;32mas\u001b[0m \u001b[0me\u001b[0m\u001b[0;34m:\u001b[0m\u001b[0;34m\u001b[0m\u001b[0;34m\u001b[0m\u001b[0m\n",
            "\u001b[0;31mKeyboardInterrupt\u001b[0m: "
          ]
        }
      ]
    },
    {
      "cell_type": "code",
      "metadata": {
        "id": "iCvZLovSPTK1"
      },
      "source": [
        ""
      ],
      "execution_count": null,
      "outputs": []
    }
  ]
}