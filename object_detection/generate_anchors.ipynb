{
  "nbformat": 4,
  "nbformat_minor": 0,
  "metadata": {
    "colab": {
      "name": "generate anchors.ipynb",
      "provenance": [],
      "authorship_tag": "ABX9TyP5SKskpwNcmAr3mpKHRkyF",
      "include_colab_link": true
    },
    "kernelspec": {
      "name": "python3",
      "display_name": "Python 3"
    },
    "language_info": {
      "name": "python"
    }
  },
  "cells": [
    {
      "cell_type": "markdown",
      "metadata": {
        "id": "view-in-github",
        "colab_type": "text"
      },
      "source": [
        "<a href=\"https://colab.research.google.com/github/hukim1112/MLDL/blob/master/object_detection/generate_anchors.ipynb\" target=\"_parent\"><img src=\"https://colab.research.google.com/assets/colab-badge.svg\" alt=\"Open In Colab\"/></a>"
      ]
    },
    {
      "cell_type": "code",
      "metadata": {
        "id": "xwcfReyk11K2"
      },
      "source": [
        "import itertools\n",
        "import math\n",
        "import tensorflow as tf\n",
        "\n",
        "def generate_default_boxes(param):\n",
        "    \"\"\" Generate default boxes for all feature maps\n",
        "\n",
        "    Args:\n",
        "        config: information of feature maps\n",
        "            scales: boxes' size relative to image's size\n",
        "            fm_sizes: sizes of feature maps\n",
        "            ratios: box ratios used in each feature maps\n",
        "\n",
        "    Returns:\n",
        "        default_boxes: tensor of shape (num_default, 4)\n",
        "                       with format (cx, cy, w, h)\n",
        "    \"\"\"\n",
        "\n",
        "    default_boxes = []\n",
        "    scales = param['scales']\n",
        "    fm_sizes = param['fm_sizes']\n",
        "    ratios = param['ratios']\n",
        "\n",
        "    for m, fm_size in enumerate(fm_sizes):\n",
        "        for i, j in itertools.product(range(fm_size), repeat=2):\n",
        "            cx = (j + 0.5) / fm_size\n",
        "            cy = (i + 0.5) / fm_size\n",
        "            default_boxes.append([\n",
        "                cx,\n",
        "                cy,\n",
        "                scales[m],\n",
        "                scales[m]\n",
        "            ])\n",
        "\n",
        "            default_boxes.append([\n",
        "                cx,\n",
        "                cy,\n",
        "                math.sqrt(scales[m] * scales[m + 1]),\n",
        "                math.sqrt(scales[m] * scales[m + 1])\n",
        "            ])\n",
        "\n",
        "            for ratio in ratios[m]:\n",
        "                r = math.sqrt(ratio)\n",
        "                default_boxes.append([\n",
        "                    cx,\n",
        "                    cy,\n",
        "                    scales[m] * r,\n",
        "                    scales[m] / r\n",
        "                ])\n",
        "\n",
        "                default_boxes.append([\n",
        "                    cx,\n",
        "                    cy,\n",
        "                    scales[m] / r,\n",
        "                    scales[m] * r\n",
        "                ])\n",
        "\n",
        "    default_boxes = tf.constant(default_boxes)\n",
        "    default_boxes = tf.clip_by_value(default_boxes, 0.0, 1.0)\n",
        "\n",
        "    return default_boxes\n"
      ],
      "execution_count": 2,
      "outputs": []
    },
    {
      "cell_type": "code",
      "metadata": {
        "id": "lP848J5W13hH"
      },
      "source": [
        "anchor_param = {\"ratios\": [[2], [2, 3], [2, 3], [2, 3], [2]],\n",
        "                           \"scales\": [0.1, 0.3, 0.5, 0.7, 0.9, 1.075],\n",
        "                           \"fm_sizes\": [28, 14, 7, 3, 1],\n",
        "                           \"image_size\": 224} #anchor parameters"
      ],
      "execution_count": 5,
      "outputs": []
    },
    {
      "cell_type": "code",
      "metadata": {
        "id": "cMBS6rua18Vf"
      },
      "source": [
        "anchors = generate_default_boxes(anchor_param)"
      ],
      "execution_count": 6,
      "outputs": []
    },
    {
      "cell_type": "code",
      "metadata": {
        "colab": {
          "base_uri": "https://localhost:8080/"
        },
        "id": "nFEv4DDc2CJh",
        "outputId": "4a15391c-1cdc-46f5-8290-13b7b9ab6886"
      },
      "source": [
        "print(anchors.shape)\n",
        "# the number of reference boxes is 4664.\n",
        "# 정규화(0~1.0)된 좌표 cx, cy, w, h로 구성되어 있다."
      ],
      "execution_count": 8,
      "outputs": [
        {
          "output_type": "stream",
          "text": [
            "(4664, 4)\n"
          ],
          "name": "stdout"
        }
      ]
    },
    {
      "cell_type": "code",
      "metadata": {
        "id": "1arJ9mrB2MNL"
      },
      "source": [
        ""
      ],
      "execution_count": null,
      "outputs": []
    }
  ]
}