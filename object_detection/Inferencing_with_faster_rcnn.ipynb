{
  "nbformat": 4,
  "nbformat_minor": 0,
  "metadata": {
    "colab": {
      "name": "Inferencing with faster_rcnn.ipynb",
      "provenance": [],
      "collapsed_sections": [],
      "mount_file_id": "1Z04LMvbUbdDANikbxNxJLNVe_tlUTGVP",
      "authorship_tag": "ABX9TyP6iSJmcqpYDdNK5teTN+pb",
      "include_colab_link": true
    },
    "kernelspec": {
      "name": "python3",
      "display_name": "Python 3"
    },
    "language_info": {
      "name": "python"
    }
  },
  "cells": [
    {
      "cell_type": "markdown",
      "metadata": {
        "id": "view-in-github",
        "colab_type": "text"
      },
      "source": [
        "<a href=\"https://colab.research.google.com/github/hukim1112/MLDL/blob/master/object_detection/Inferencing_with_faster_rcnn.ipynb\" target=\"_parent\"><img src=\"https://colab.research.google.com/assets/colab-badge.svg\" alt=\"Open In Colab\"/></a>"
      ]
    },
    {
      "cell_type": "code",
      "execution_count": null,
      "metadata": {
        "id": "_OLwR8ipzdGN"
      },
      "outputs": [],
      "source": [
        "# pycocotools : library to handle your coco style json\n",
        "#!pip install pycocotools\n",
        "# colab에는 pycocotools가 이미 설치되어 있음."
      ]
    },
    {
      "cell_type": "markdown",
      "source": [
        "# 1. 구글 드라이브에서 MS COCO 데이터셋 마운트해 로컬 드라이브로 복사해오기"
      ],
      "metadata": {
        "id": "-SxCTlBPDLUP"
      }
    },
    {
      "cell_type": "code",
      "source": [
        "!cp /content/drive/MyDrive/4.teaching/3.롯데정보통신/데이터/coco/val2017.zip ./val2017.zip\n",
        "!cp /content/drive/MyDrive/4.teaching/3.롯데정보통신/데이터/coco/instances_val2017.json ./instances_val2017.json"
      ],
      "metadata": {
        "id": "JZd87ieN08Hn"
      },
      "execution_count": null,
      "outputs": []
    },
    {
      "cell_type": "code",
      "source": [
        "!unzip /content/val2017.zip #압축해제"
      ],
      "metadata": {
        "id": "Ck6NjlUp1Eot"
      },
      "execution_count": null,
      "outputs": []
    },
    {
      "cell_type": "markdown",
      "source": [
        "# 2. 이미지 준비하기"
      ],
      "metadata": {
        "id": "r6EBRsa8DXAx"
      }
    },
    {
      "cell_type": "code",
      "source": [
        "from pycocotools.coco import COCO\n",
        "import os\n",
        "import cv2\n",
        "from matplotlib import pyplot as plt"
      ],
      "metadata": {
        "id": "1t5AqYmJ7Gtn"
      },
      "execution_count": null,
      "outputs": []
    },
    {
      "cell_type": "code",
      "source": [
        "coco=COCO(\"/content/instances_val2017.json\") #create COCO object from your .json\n",
        "\n",
        "ids = coco.getImgIds()\n",
        "id = ids[0]"
      ],
      "metadata": {
        "id": "ZCsZDRAi1SQ3"
      },
      "execution_count": null,
      "outputs": []
    },
    {
      "cell_type": "code",
      "source": [
        "label_set = [\"person\",\"bicycle\",\"car\",\"motorcycle\",\"airplane\",\"bus\",\"train\",\"truck\",\"boat\",\"traffic light\",\"fire hydrant\",\"street sign\",\"stop sign\",\"parking meter\",\"bench\",\"bird\",\"cat\",\"dog\",\"horse\",\"sheep\",\"cow\",\"elephant\",\"bear\",\"zebra\",\"giraffe\",\"hat\",\"backpack\",\"umbrella\",\"shoe\",\"eye glasses\",\"handbag\",\"tie\",\"suitcase\",\"frisbee\",\"skis\",\"snowboard\",\"sports ball\",\"kite\",\"baseball bat\",\"baseball glove\",\"skateboard\",\"surfboard\",\"tennis racket\",\"bottle\",\"plate\",\"wine glass\",\"cup\",\"fork\",\"knife\",\"spoon\",\"bowl\",\"banana\",\"apple\",\"sandwich\",\"orange\",\"broccoli\",\"carrot\",\"hot dog\",\"pizza\",\"donut\",\"cake\",\"chair\",\"couch\",\"potted plant\",\"bed\",\"mirror\",\"dining table\",\"window\",\"desk\",\"toilet\",\"door\",\"tv\",\"laptop\",\"mouse\",\"remote\",\"keyboard\",\"cell phone\",\"microwave\",\"oven\",\"toaster\",\"sink\",\"refrigerator\",\"blender\",\"book\",\"clock\",\"vase\",\"scissors\",\"teddy bear\",\"hair drier\",\"toothbrush\",\"hair brush\"]"
      ],
      "metadata": {
        "id": "gyWZyBbpHJ-i"
      },
      "execution_count": null,
      "outputs": []
    },
    {
      "cell_type": "code",
      "source": [
        "print(len(label_set))"
      ],
      "metadata": {
        "id": "XLHW91pfHQM9"
      },
      "execution_count": null,
      "outputs": []
    },
    {
      "cell_type": "code",
      "source": [
        "coco.loadImgs(id) #id로 이미지 정보 가져오기."
      ],
      "metadata": {
        "id": "kFGgkVGvCiuH"
      },
      "execution_count": null,
      "outputs": []
    },
    {
      "cell_type": "code",
      "source": [
        "image_dir = \"/content/val2017\"\n",
        "\n",
        "def get_image(image_id, coco):\n",
        "  image_info = coco.loadImgs(image_id)[0]\n",
        "  filename = image_info['file_name']\n",
        "  original_size = (int(image_info['height']), int(image_info['width']))\n",
        "  image_path = os.path.join(image_dir, filename)\n",
        "  image = cv2.imread(image_path)\n",
        "  if image is None:\n",
        "    filename = os.path.splitext(filename)[0] + '.JPG'\n",
        "    image_path = os.path.join(image_dir, filename)\n",
        "    image = cv2.imread(image_path)\n",
        "    if image is None:\n",
        "      raise FileNotFoundError(\"Can't not find correct filepath\", filename)\n",
        "      print(filename)\n",
        "  image = image[:,:,::-1]\n",
        "  return image\n",
        "\n",
        "image = get_image(ids[0], coco)"
      ],
      "metadata": {
        "id": "TYJSHexNBirR"
      },
      "execution_count": null,
      "outputs": []
    },
    {
      "cell_type": "code",
      "source": [
        "plt.imshow(image)\n",
        "plt.show()"
      ],
      "metadata": {
        "id": "cd8r3SAtChlQ"
      },
      "execution_count": null,
      "outputs": []
    },
    {
      "cell_type": "markdown",
      "source": [
        "# 3. Load faster rcnn model"
      ],
      "metadata": {
        "id": "-uWWcb-KCycI"
      }
    },
    {
      "cell_type": "code",
      "source": [
        "import tensorflow_hub as hub\n",
        "\n",
        "# Apply image detector on a single image.\n",
        "detector = hub.load(\"https://tfhub.dev/tensorflow/faster_rcnn/resnet152_v1_640x640/1\")"
      ],
      "metadata": {
        "id": "pvyRL90NChoP"
      },
      "execution_count": null,
      "outputs": []
    },
    {
      "cell_type": "code",
      "source": [
        "image_tensor = tf.expand_dims(image, axis=0)\n",
        "print(image_tensor.shape)"
      ],
      "metadata": {
        "id": "2Ki_IqHjC7kM"
      },
      "execution_count": null,
      "outputs": []
    },
    {
      "cell_type": "markdown",
      "source": [
        "# 4. Faster RCNN의 결과값.\n"
      ],
      "metadata": {
        "id": "Sug0eBAFD-fm"
      }
    },
    {
      "cell_type": "code",
      "source": [
        "detector_output = detector(image_tensor)"
      ],
      "metadata": {
        "id": "0awadyeTCvlL"
      },
      "execution_count": null,
      "outputs": []
    },
    {
      "cell_type": "markdown",
      "source": [
        "Outputs\n",
        "The output dictionary contains:\n",
        "\n",
        "- num_detections: a tf.int tensor with only one value, the number of detections [N].\n",
        "- detection_boxes: a tf.float32 tensor of shape [N, 4] containing bounding box coordinates in the following order: [ymin, xmin, ymax, xmax].\n",
        "- detection_classes: a tf.int tensor of shape [N] containing - - detection class index from the label file.\n",
        "- detection_scores: a tf.float32 tensor of shape [N] containing detection scores.\n",
        "- raw_detection_boxes: a tf.float32 tensor of shape [1, M, 4] containing decoded detection boxes without Non-Max suppression. M is the number of raw detections.\n",
        "- raw_detection_scores: a tf.float32 tensor of shape [1, M, 90] and contains class score logits for raw detection boxes. M is the number of raw detections.\n",
        "- detection_anchor_indices: a tf.float32 tensor of shape [N] and contains the anchor indices of the detections after NMS.\n",
        "- detection_multiclass_scores: a tf.float32 tensor of shape [1, N, 90] and contains class score distribution (including background) for detection boxes in the image including background class."
      ],
      "metadata": {
        "id": "pKTe8UicDos5"
      }
    },
    {
      "cell_type": "code",
      "source": [
        "detector_output[\"num_detections\"] # 300개의 positive anchor를 사용(Non-Maximum Suppression 이후)"
      ],
      "metadata": {
        "id": "HPZTU_K8EA7P"
      },
      "execution_count": null,
      "outputs": []
    },
    {
      "cell_type": "code",
      "source": [
        "detector_output[\"detection_boxes\"] # 300개의 positive anchor들에 대한 수정좌표"
      ],
      "metadata": {
        "id": "qE1c6b5dEFIH"
      },
      "execution_count": null,
      "outputs": []
    },
    {
      "cell_type": "code",
      "source": [
        "detector_output[\"detection_classes\"] # 300개의 positive anchor들의 클래스 예측"
      ],
      "metadata": {
        "id": "AQkEkd7ICvnn"
      },
      "execution_count": null,
      "outputs": []
    },
    {
      "cell_type": "code",
      "source": [
        "detector_output[\"detection_scores\"] # 300개의 positive anchor들에 대한 확신도(confidence score)"
      ],
      "metadata": {
        "id": "hAcTkE6DChqd"
      },
      "execution_count": null,
      "outputs": []
    },
    {
      "cell_type": "code",
      "source": [
        "detector_output['detection_multiclass_scores'] # 300개의 positive anchor들에 대한 클래스 확률 예측"
      ],
      "metadata": {
        "id": "VyEDz2Yw1VaH"
      },
      "execution_count": null,
      "outputs": []
    },
    {
      "cell_type": "code",
      "source": [
        "tf.reduce_sum(detector_output['detection_multiclass_scores'], axis=-1) #softmax 확률 분포인 것 확인"
      ],
      "metadata": {
        "id": "ifNHb_Dw2nr_"
      },
      "execution_count": null,
      "outputs": []
    },
    {
      "cell_type": "markdown",
      "source": [
        "# 5. 결과값 시각화"
      ],
      "metadata": {
        "id": "04bSmEY1FSOs"
      }
    },
    {
      "cell_type": "code",
      "source": [
        "confidence = detector_output[\"detection_scores\"]\n",
        "true_mask = confidence>0.5\n",
        "true_scores = confidence[true_mask].numpy()\n",
        "true_labels = detector_output[\"detection_classes\"][true_mask].numpy().astype(np.int32)\n",
        "true_boxes = detector_output[\"detection_boxes\"][true_mask].numpy()"
      ],
      "metadata": {
        "id": "yDMk73En2nwR"
      },
      "execution_count": null,
      "outputs": []
    },
    {
      "cell_type": "code",
      "source": [
        "print(\"num boxes :\", len(true_boxes), true_boxes)\n",
        "print(\"num labels :\", len(true_labels), true_labels)"
      ],
      "metadata": {
        "id": "-dv-XE84G-pZ"
      },
      "execution_count": null,
      "outputs": []
    },
    {
      "cell_type": "code",
      "source": [
        ""
      ],
      "metadata": {
        "id": "YcPdKQTiHDVP"
      },
      "execution_count": null,
      "outputs": []
    },
    {
      "cell_type": "code",
      "source": [
        "a = np.array([[10, 20, 30, 40, 50],\n",
        "              [6,  7,  8,  9,  10]])\n",
        "print(a[:, [0, 2, 4, 3, 1]])"
      ],
      "metadata": {
        "id": "OnueUBgBHDaH"
      },
      "execution_count": null,
      "outputs": []
    },
    {
      "cell_type": "code",
      "source": [
        "true_boxes = true_boxes[:,[1,0,3,2]].copy() #y1,x1,y2,x2 => x1,y1,x2,y2"
      ],
      "metadata": {
        "id": "PXK1ltgIL-TH"
      },
      "execution_count": null,
      "outputs": []
    },
    {
      "cell_type": "code",
      "source": [
        "import cv2\n",
        "import numpy as np\n",
        "\n",
        "class Visualizer():\n",
        "    def __init__(self, label_set, show_score=True, class_color=None):\n",
        "        self.label_set = label_set\n",
        "        self.show_score = show_score\n",
        "        self.font_args = {'font':cv2.FONT_HERSHEY_SIMPLEX, 'font_scale':1,\n",
        "                    'font_color':(0,200,200), 'line_type':2,\n",
        "                    'box_thickness':2, 'box_color':(0, 0, 255),\n",
        "                    'pred_box_color' :(0, 0, 255)}\n",
        "        self.class_color = class_color\n",
        "    def draw_label_and_box(self, img, label, box, visual_arg):\n",
        "        cv2.rectangle(img, tuple( (int(box[0]), int(box[1])) ), tuple( (int(box[2]), int(box[3])) ),\n",
        "                visual_arg['box_color'], visual_arg['box_thickness'] )\n",
        "        cv2.putText(img, label, tuple( (int(box[0]), int(box[3])) ),\n",
        "                visual_arg['font'], visual_arg['font_scale'],\n",
        "                visual_arg['font_color'], visual_arg['line_type'])\n",
        "        return img\n",
        "    def visualize_one_image(self, img, boxes, classes, scores):\n",
        "        height, width = img.shape[0], img.shape[1]\n",
        "        visual_arg = self.font_args.copy()\n",
        "        if len(boxes) != 0:\n",
        "            detected = True\n",
        "        else:\n",
        "            detected = False\n",
        "        for _box, _class, _score in zip(boxes, classes, scores):\n",
        "            _label = self.label_set[_class-1]\n",
        "            if self.show_score==True:\n",
        "                template = \"{} : {:2.2}\".format(_label, _score)\n",
        "            else:\n",
        "                template = \"{}\".format(_label)\n",
        "            if self.class_color is not None:\n",
        "                visual_arg['box_color'] = self.class_color[_class-1]\n",
        "                visual_arg['font_color'] = self.class_color[_class-1]\n",
        "            _box = _box * np.array([width, height, width, height])\n",
        "            img = self.draw_label_and_box(img, template, _box, visual_arg)\n",
        "        return img, detected\n",
        "\n",
        "    def __call__(self, _input, boxes, classes, scores):\n",
        "        _input = np.array(_input, np.float32)\n",
        "        if len(_input.shape) == 3:\n",
        "            output = self.visualize_one_image(_input, boxes, classes, scores)\n",
        "        else:\n",
        "            raise ValueError(\"Wrong input shape : {}\".format(_input.shape))\n",
        "        return output"
      ],
      "metadata": {
        "id": "PsJmpH0h2ny6"
      },
      "execution_count": null,
      "outputs": []
    },
    {
      "cell_type": "code",
      "source": [
        "visualizer = Visualizer(label_set, show_score=False)\n",
        "\n",
        "output, detected = visualizer(image, true_boxes, true_labels, true_scores)\n",
        "print(output.shape, detected)"
      ],
      "metadata": {
        "id": "IhoDSxzP2n1j"
      },
      "execution_count": null,
      "outputs": []
    },
    {
      "cell_type": "code",
      "source": [
        "plt.imshow(output/255.)"
      ],
      "metadata": {
        "id": "m7XcC7RSMgoO"
      },
      "execution_count": null,
      "outputs": []
    },
    {
      "cell_type": "code",
      "source": [
        "def inference(image):\n",
        "  image_tensor = tf.expand_dims(image, axis=0)\n",
        "  detector_output = detector(image_tensor)\n",
        "  confidence = detector_output[\"detection_scores\"]\n",
        "  true_mask = confidence>0.5\n",
        "  true_scores = confidence[true_mask].numpy()\n",
        "  true_labels = detector_output[\"detection_classes\"][true_mask].numpy().astype(np.int32)\n",
        "  true_boxes = detector_output[\"detection_boxes\"][true_mask].numpy()\n",
        "  true_boxes = true_boxes[:,[1,0,3,2]].copy()\n",
        "  output, detected = visualizer(image, true_boxes, true_labels, true_scores)\n",
        "  if detected:\n",
        "    plt.imshow(output/255.)\n",
        "    plt.show()"
      ],
      "metadata": {
        "id": "7zo-mSVnMhzE"
      },
      "execution_count": null,
      "outputs": []
    },
    {
      "cell_type": "code",
      "source": [
        "inference(image)"
      ],
      "metadata": {
        "id": "CdqnvSNuMjEl"
      },
      "execution_count": null,
      "outputs": []
    },
    {
      "cell_type": "code",
      "source": [
        "ids = coco.getImgIds()\n",
        "for _id in ids[:5]:\n",
        "  image = get_image(_id, coco)\n",
        "  inference(image)"
      ],
      "metadata": {
        "id": "GoUrBGzjOKod"
      },
      "execution_count": null,
      "outputs": []
    },
    {
      "cell_type": "code",
      "source": [
        ""
      ],
      "metadata": {
        "id": "j3Hg8pQgOUqN"
      },
      "execution_count": null,
      "outputs": []
    }
  ]
}