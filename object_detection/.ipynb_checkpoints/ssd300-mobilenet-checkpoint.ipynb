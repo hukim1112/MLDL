{
 "cells": [
  {
   "cell_type": "code",
   "execution_count": null,
   "metadata": {},
   "outputs": [],
   "source": [
    "from tensorflow.keras import Model\n",
    "from tensorflow.keras.applications import MobileNetV2\n",
    "import tensorflow.keras.layers as layers\n",
    "import tensorflow as tf\n",
    "import numpy as np\n",
    "import os"
   ]
  },
  {
   "cell_type": "code",
   "execution_count": null,
   "metadata": {},
   "outputs": [],
   "source": [
    "block1 = tf.keras.Sequential([tf.keras.layers.Conv2D(512, 1, padding='same'),\n",
    "                     tf.keras.layers.BatchNormalization(),\n",
    "                     tf.keras.layers.ReLU(),\n",
    "\n",
    "                     tf.keras.layers.DepthwiseConv2D(3, strides=(2,2), padding='same'),\n",
    "                     tf.keras.layers.BatchNormalization(),\n",
    "                     tf.keras.layers.ReLU(),\n",
    "\n",
    "                     tf.keras.layers.Conv2D(512, 1, padding='same'),\n",
    "                     tf.keras.layers.BatchNormalization(),\n",
    "                     tf.keras.layers.ReLU()])\n",
    "                    # **** conv => depthwise-conv => conv ****\n",
    "                    #output1 [BN,10,10,512]\n",
    "\n",
    "block2 = tf.keras.Sequential([tf.keras.layers.Conv2D(512, 1, padding='same'),\n",
    "                    tf.keras.layers.BatchNormalization(),\n",
    "                    tf.keras.layers.ReLU(),\n",
    "\n",
    "                    tf.keras.layers.DepthwiseConv2D(3, strides=(2,2), padding='same'),\n",
    "                    tf.keras.layers.BatchNormalization(),\n",
    "                    tf.keras.layers.ReLU(),\n",
    "\n",
    "                    tf.keras.layers.Conv2D(512, 1, padding='same'),\n",
    "                    tf.keras.layers.BatchNormalization(),\n",
    "                    tf.keras.layers.ReLU(),])\n",
    "                    # **** conv => depthwise-conv => conv ****\n",
    "                    #output1 [BN,5,5,512]\n",
    "        \n",
    "block3 = tf.keras.Sequential([tf.keras.layers.Conv2D(512, 1, padding='same'),\n",
    "                    tf.keras.layers.BatchNormalization(),\n",
    "                    tf.keras.layers.ReLU(),\n",
    "\n",
    "                    tf.keras.layers.DepthwiseConv2D(3),\n",
    "                    tf.keras.layers.BatchNormalization(),\n",
    "                    tf.keras.layers.ReLU(),\n",
    "\n",
    "                    tf.keras.layers.Conv2D(512, 1, padding='same'),\n",
    "                    tf.keras.layers.BatchNormalization(),\n",
    "                    tf.keras.layers.ReLU()])\n",
    "                    # **** conv => depthwise-conv => conv ****\n",
    "                    #output1 [BN,3,3,512]\n",
    "        \n",
    "block4 = tf.keras.Sequential([tf.keras.layers.Conv2D(512, 1, padding='same'),\n",
    "                    tf.keras.layers.BatchNormalization(),\n",
    "                    tf.keras.layers.ReLU(),\n",
    "\n",
    "                    tf.keras.layers.DepthwiseConv2D(3),\n",
    "                    tf.keras.layers.BatchNormalization(),\n",
    "                    tf.keras.layers.ReLU(),\n",
    "\n",
    "                    tf.keras.layers.Conv2D(512, 1, padding='same'),\n",
    "                    tf.keras.layers.BatchNormalization(),\n",
    "                    tf.keras.layers.ReLU()])\n",
    "                    # **** conv => depthwise-conv => conv ****\n",
    "                    #output1 [BN,1,1,512]"
   ]
  },
  {
   "cell_type": "code",
   "execution_count": null,
   "metadata": {},
   "outputs": [],
   "source": [
    "mobilenet_v2 = MobileNetV2(input_shape=(300,300,3), weights=\"imagenet\", include_top=False)"
   ]
  },
  {
   "cell_type": "code",
   "execution_count": null,
   "metadata": {},
   "outputs": [],
   "source": [
    "tf.keras.utils.plot_model(mobilenet_v2, show_shapes=True, expand_nested=True)"
   ]
  },
  {
   "cell_type": "markdown",
   "metadata": {},
   "source": [
    "# Build feature extractor"
   ]
  },
  {
   "cell_type": "code",
   "execution_count": null,
   "metadata": {},
   "outputs": [],
   "source": [
    "# feature extractor\n",
    "fmap38x38 = mobilenet_v2.get_layer(mobilenet_v2.layers[57].name).output #[BN,38,38,128]\n",
    "fmap19x19 = mobilenet_v2.get_layer(mobilenet_v2.layers[119].name).output #[BN,19,19,576]\n",
    "feature_extractor = tf.keras.Model(inputs=[mobilenet_v2.input], outputs=[fmap38x38, fmap19x19])"
   ]
  },
  {
   "cell_type": "markdown",
   "metadata": {},
   "source": [
    "# Build extra convolutional layers"
   ]
  },
  {
   "cell_type": "code",
   "execution_count": null,
   "metadata": {},
   "outputs": [],
   "source": [
    "input_layer = tf.keras.Input(shape=(300,300,3))\n",
    "y1, y2 = feature_extractor(input_layer)\n",
    "y3 = block1(y2)\n",
    "y4 = block2(y3)\n",
    "y5 = block3(y4)\n",
    "y6 = block3(y5)"
   ]
  },
  {
   "cell_type": "code",
   "execution_count": null,
   "metadata": {},
   "outputs": [],
   "source": [
    "print(y1.shape)\n",
    "print(y2.shape)\n",
    "print(y3.shape)\n",
    "print(y4.shape)\n",
    "print(y5.shape)\n",
    "print(y6.shape)"
   ]
  },
  {
   "cell_type": "code",
   "execution_count": null,
   "metadata": {},
   "outputs": [],
   "source": [
    "num_classes = 3"
   ]
  },
  {
   "cell_type": "code",
   "execution_count": null,
   "metadata": {},
   "outputs": [],
   "source": [
    "#conf header\n",
    "confs = []\n",
    "conf = layers.Conv2D(4 * num_classes, kernel_size=3, padding='same')(y1)\n",
    "conf = tf.reshape(conf, [-1, 38*38*4,num_classes])\n",
    "confs.append(conf)\n",
    "conf = layers.Conv2D(6 * num_classes, kernel_size=3, padding='same')(y2)\n",
    "conf = tf.reshape(conf, [-1, 19*19*6,num_classes])\n",
    "confs.append(conf)\n",
    "conf = layers.Conv2D(6 * num_classes, kernel_size=3, padding='same')(y3)\n",
    "conf = tf.reshape(conf, [-1, 10*10*6,num_classes])\n",
    "confs.append(conf)\n",
    "conf = layers.Conv2D(6 * num_classes, kernel_size=3, padding='same')(y4)\n",
    "conf = tf.reshape(conf, [-1, 5*5*6,num_classes])\n",
    "confs.append(conf)\n",
    "conf = layers.Conv2D(6 * num_classes, kernel_size=3, padding='same')(y5)\n",
    "conf = tf.reshape(conf, [-1, 3*3*4,num_classes])\n",
    "confs.append(conf)\n",
    "conf = layers.Conv2D(4 * num_classes, kernel_size=1)(y6)\n",
    "conf = tf.reshape(conf, [-1, 1*1*4,num_classes])\n",
    "confs.append(conf)\n",
    "\n",
    "#location header\n",
    "locs = []\n",
    "loc = layers.Conv2D(4 * 4, kernel_size=3, padding='same')(y1)\n",
    "loc = tf.reshape(loc, [-1, 38*38*4,4])\n",
    "locs.append(loc)\n",
    "loc = layers.Conv2D(6 * 4, kernel_size=3, padding='same')(y2)\n",
    "loc = tf.reshape(loc, [-1, 19*19*6,4])\n",
    "locs.append(loc)\n",
    "loc = layers.Conv2D(6 * 4, kernel_size=3, padding='same')(y3)\n",
    "loc = tf.reshape(loc, [-1, 10*10*6,4])\n",
    "locs.append(loc)\n",
    "loc = layers.Conv2D(6 * 4, kernel_size=3, padding='same')(y4)\n",
    "loc = tf.reshape(loc, [-1, 5*5*6,4])\n",
    "locs.append(loc)\n",
    "loc = layers.Conv2D(6 * 4, kernel_size=3, padding='same')(y5)\n",
    "loc = tf.reshape(loc, [-1, 3*3*4,4])\n",
    "locs.append(loc)\n",
    "loc = layers.Conv2D(4 * 4, kernel_size=1)(y6)\n",
    "loc = tf.reshape(loc, [-1, 1*1*4,4])\n",
    "locs.append(loc)\n",
    "\n",
    "confs = tf.concat(confs, axis=-2)\n",
    "locs = tf.concat(locs, axis=-2)"
   ]
  },
  {
   "cell_type": "code",
   "execution_count": null,
   "metadata": {},
   "outputs": [],
   "source": [
    "mobilenet_ssd = tf.keras.Model(inputs=[input_layer], outputs=[confs,locs])"
   ]
  },
  {
   "cell_type": "code",
   "execution_count": null,
   "metadata": {},
   "outputs": [],
   "source": [
    "tf.keras.utils.plot_model(mobilenet_ssd, show_shapes=True, expand_nested=False)"
   ]
  },
  {
   "cell_type": "code",
   "execution_count": null,
   "metadata": {},
   "outputs": [],
   "source": [
    "mobilenet_ssd.summary()"
   ]
  },
  {
   "cell_type": "code",
   "execution_count": null,
   "metadata": {},
   "outputs": [],
   "source": [
    "mobilenet_ssd.save(\"ssd300-mobilenet.h5\")"
   ]
  },
  {
   "cell_type": "code",
   "execution_count": null,
   "metadata": {},
   "outputs": [],
   "source": []
  }
 ],
 "metadata": {
  "kernelspec": {
   "display_name": "tf",
   "language": "python",
   "name": "tf"
  },
  "language_info": {
   "codemirror_mode": {
    "name": "ipython",
    "version": 3
   },
   "file_extension": ".py",
   "mimetype": "text/x-python",
   "name": "python",
   "nbconvert_exporter": "python",
   "pygments_lexer": "ipython3",
   "version": "3.6.9"
  }
 },
 "nbformat": 4,
 "nbformat_minor": 2
}
