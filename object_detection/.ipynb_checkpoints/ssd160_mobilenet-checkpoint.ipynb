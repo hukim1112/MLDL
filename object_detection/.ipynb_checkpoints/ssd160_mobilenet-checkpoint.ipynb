{
 "cells": [
  {
   "cell_type": "code",
   "execution_count": null,
   "metadata": {
    "id": "5lbbBn1MHuc-"
   },
   "outputs": [],
   "source": [
    "from tensorflow.keras import Model\n",
    "from tensorflow.keras.applications import MobileNetV2\n",
    "import tensorflow.keras.layers as layers\n",
    "import tensorflow as tf\n",
    "import numpy as np\n",
    "import os"
   ]
  },
  {
   "cell_type": "code",
   "execution_count": null,
   "metadata": {
    "id": "O0hashI0Huc-"
   },
   "outputs": [],
   "source": [
    "block1 = tf.keras.Sequential([tf.keras.layers.Conv2D(512, 1, padding='same'),\n",
    "                     tf.keras.layers.BatchNormalization(),\n",
    "                     tf.keras.layers.ReLU(),\n",
    "\n",
    "                     tf.keras.layers.DepthwiseConv2D(3, strides=(2,2), padding='same'),\n",
    "                     tf.keras.layers.BatchNormalization(),\n",
    "                     tf.keras.layers.ReLU(),\n",
    "\n",
    "                     tf.keras.layers.Conv2D(512, 1, padding='same'),\n",
    "                     tf.keras.layers.BatchNormalization(),\n",
    "                     tf.keras.layers.ReLU()])\n",
    "                    # **** conv => depthwise-conv => conv ****\n",
    "                    #output1 [BN,6,6,512]\n",
    "\n",
    "block2 = tf.keras.Sequential([tf.keras.layers.Conv2D(512, 1, padding='same'),\n",
    "                    tf.keras.layers.BatchNormalization(),\n",
    "                    tf.keras.layers.ReLU(),\n",
    "\n",
    "                    tf.keras.layers.DepthwiseConv2D(3, strides=(2,2), padding='same'),\n",
    "                    tf.keras.layers.BatchNormalization(),\n",
    "                    tf.keras.layers.ReLU(),\n",
    "\n",
    "                    tf.keras.layers.Conv2D(512, 1, padding='same'),\n",
    "                    tf.keras.layers.BatchNormalization(),\n",
    "                    tf.keras.layers.ReLU(),])\n",
    "                    # **** conv => depthwise-conv => conv ****\n",
    "                    #output1 [BN,3,3,512]\n",
    "        \n",
    "block3 = tf.keras.Sequential([tf.keras.layers.Conv2D(512, 1, padding='same'),\n",
    "                    tf.keras.layers.BatchNormalization(),\n",
    "                    tf.keras.layers.ReLU(),\n",
    "\n",
    "                    tf.keras.layers.DepthwiseConv2D(3),\n",
    "                    tf.keras.layers.BatchNormalization(),\n",
    "                    tf.keras.layers.ReLU(),\n",
    "\n",
    "                    tf.keras.layers.Conv2D(512, 1, padding='same'),\n",
    "                    tf.keras.layers.BatchNormalization(),\n",
    "                    tf.keras.layers.ReLU()])\n",
    "                    # **** conv => depthwise-conv => conv ****\n",
    "                    #output1 [BN,1,1,512]"
   ]
  },
  {
   "cell_type": "code",
   "execution_count": null,
   "metadata": {
    "colab": {
     "base_uri": "https://localhost:8080/"
    },
    "id": "B-mriXrFHudA",
    "outputId": "948c3fda-bb52-4d2d-c92f-3b8cc606e7cc"
   },
   "outputs": [],
   "source": [
    "mobilenet_v2 = MobileNetV2(input_shape=(160,160,3), weights=\"imagenet\", include_top=False)"
   ]
  },
  {
   "cell_type": "code",
   "execution_count": null,
   "metadata": {
    "colab": {
     "base_uri": "https://localhost:8080/",
     "height": 1000
    },
    "id": "2e3zxNguHudA",
    "outputId": "1ccd7717-5c1e-49af-b4e6-292898fa89ab"
   },
   "outputs": [],
   "source": [
    "tf.keras.utils.plot_model(mobilenet_v2, show_shapes=True, expand_nested=True)"
   ]
  },
  {
   "cell_type": "markdown",
   "metadata": {
    "id": "RRB9BOnBHudB"
   },
   "source": [
    "# Build feature extractor"
   ]
  },
  {
   "cell_type": "code",
   "execution_count": null,
   "metadata": {
    "id": "LBxbGFEDHudB"
   },
   "outputs": [],
   "source": [
    "mobilenet_v2 = MobileNetV2(input_shape=(160,160,3), weights=\"imagenet\", include_top=False)\n",
    "# feature extractor\n",
    "fmap10x10 = mobilenet_v2.get_layer(\"block_13_expand_relu\")\n",
    "feature_extractor = tf.keras.Model(inputs=[mobilenet_v2.input], outputs=[fmap10x10.output])\n",
    "\n"
   ]
  },
  {
   "cell_type": "markdown",
   "metadata": {
    "id": "1QEjzh2PHudC"
   },
   "source": [
    "# Build extra convolutional layers"
   ]
  },
  {
   "cell_type": "code",
   "execution_count": null,
   "metadata": {
    "id": "UgWGuph3HudC"
   },
   "outputs": [],
   "source": [
    "input_layer = tf.keras.Input(shape=(160,160,3))\n",
    "x = feature_extractor(input_layer)\n",
    "y1 = block1(x)\n",
    "y2 = block2(y1)\n",
    "y3 = block3(y2)"
   ]
  },
  {
   "cell_type": "code",
   "execution_count": null,
   "metadata": {
    "colab": {
     "base_uri": "https://localhost:8080/"
    },
    "id": "uLXo8am_HudC",
    "outputId": "1fc58303-b768-409e-ee02-6e07bf1dd0e8"
   },
   "outputs": [],
   "source": [
    "print(x.shape)\n",
    "print(y1.shape)\n",
    "print(y2.shape)\n",
    "print(y3.shape)"
   ]
  },
  {
   "cell_type": "code",
   "execution_count": null,
   "metadata": {
    "id": "_3_o1KzEHudD"
   },
   "outputs": [],
   "source": [
    "num_classes = 3"
   ]
  },
  {
   "cell_type": "code",
   "execution_count": null,
   "metadata": {
    "id": "QktXc579HudD"
   },
   "outputs": [],
   "source": [
    "#conf header\n",
    "confs = []\n",
    "conf = layers.Conv2D(4 * num_classes, kernel_size=3, padding='same')(x)\n",
    "conf = tf.reshape(conf, [-1, 10*10*4,num_classes])\n",
    "confs.append(conf)\n",
    "conf = layers.Conv2D(6 * num_classes, kernel_size=3, padding='same')(y1)\n",
    "conf = tf.reshape(conf, [-1, 5*5*6,num_classes])\n",
    "confs.append(conf)\n",
    "conf = layers.Conv2D(6 * num_classes, kernel_size=3, padding='same')(y2)\n",
    "conf = tf.reshape(conf, [-1, 3*3*6,num_classes])\n",
    "confs.append(conf)\n",
    "conf = layers.Conv2D(4 * num_classes, kernel_size=1)(y3)\n",
    "conf = tf.reshape(conf, [-1, 1*1*4,num_classes])\n",
    "confs.append(conf)\n",
    "\n",
    "\n",
    "#location header\n",
    "locs = []\n",
    "loc = layers.Conv2D(4 * 4, kernel_size=3, padding='same')(x)\n",
    "loc = tf.reshape(loc, [-1, 10*10*4,4])\n",
    "locs.append(loc)\n",
    "loc = layers.Conv2D(6 * 4, kernel_size=3, padding='same')(y1)\n",
    "loc = tf.reshape(loc, [-1, 5*5*6,4])\n",
    "locs.append(loc)\n",
    "loc = layers.Conv2D(6 * 4, kernel_size=3, padding='same')(y2)\n",
    "loc = tf.reshape(loc, [-1, 3*3*6,4])\n",
    "locs.append(loc)\n",
    "loc = layers.Conv2D(4 * 4, kernel_size=1)(y3)\n",
    "loc = tf.reshape(loc, [-1, 1*1*4,4])\n",
    "locs.append(loc)\n",
    "\n",
    "confs = tf.concat(confs, axis=-2)\n",
    "locs = tf.concat(locs, axis=-2)"
   ]
  },
  {
   "cell_type": "code",
   "execution_count": null,
   "metadata": {
    "id": "szRYkoNaHudE"
   },
   "outputs": [],
   "source": [
    "mobilenet_ssd = tf.keras.Model(inputs=[input_layer], outputs=[confs,locs])"
   ]
  },
  {
   "cell_type": "code",
   "execution_count": null,
   "metadata": {
    "colab": {
     "base_uri": "https://localhost:8080/",
     "height": 370
    },
    "id": "kU8REVSMHudF",
    "outputId": "cfaf3812-d6c1-475b-891a-aa2e4c2e9baa"
   },
   "outputs": [],
   "source": [
    "tf.keras.utils.plot_model(mobilenet_ssd, show_shapes=True, expand_nested=False)"
   ]
  },
  {
   "cell_type": "code",
   "execution_count": null,
   "metadata": {
    "colab": {
     "base_uri": "https://localhost:8080/"
    },
    "id": "ZakQSHeIHudF",
    "outputId": "ab6101ea-3905-4e87-8daf-b7068405d9e2"
   },
   "outputs": [],
   "source": [
    "mobilenet_ssd.summary()"
   ]
  },
  {
   "cell_type": "code",
   "execution_count": null,
   "metadata": {
    "colab": {
     "base_uri": "https://localhost:8080/"
    },
    "id": "B1OBbUEcR6lx",
    "outputId": "7578e79e-ff70-48b0-eb7f-286fc8e07eb4"
   },
   "outputs": [],
   "source": [
    "mobilenet_ssd(np.ones([1, 160,160,3]))"
   ]
  },
  {
   "cell_type": "code",
   "execution_count": null,
   "metadata": {
    "id": "1Yz-ks5yHudF"
   },
   "outputs": [],
   "source": [
    "mobilenet_ssd.save(\"ssd160-mobilenet.h5\")"
   ]
  },
  {
   "cell_type": "code",
   "execution_count": null,
   "metadata": {
    "id": "ImAzTg7CTr60"
   },
   "outputs": [],
   "source": []
  }
 ],
 "metadata": {
  "colab": {
   "name": "ssd300-mobilenet.ipynb",
   "provenance": [],
   "toc_visible": true
  },
  "kernelspec": {
   "display_name": "tf",
   "language": "python",
   "name": "tf"
  },
  "language_info": {
   "codemirror_mode": {
    "name": "ipython",
    "version": 3
   },
   "file_extension": ".py",
   "mimetype": "text/x-python",
   "name": "python",
   "nbconvert_exporter": "python",
   "pygments_lexer": "ipython3",
   "version": "3.6.9"
  }
 },
 "nbformat": 4,
 "nbformat_minor": 1
}
