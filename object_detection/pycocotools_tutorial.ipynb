{
  "nbformat": 4,
  "nbformat_minor": 0,
  "metadata": {
    "colab": {
      "name": "pycocotools tutorial.ipynb",
      "provenance": [],
      "mount_file_id": "1JDgaj0IkdxJhLuzkWZyzAMn0OrzrJFFz",
      "authorship_tag": "ABX9TyODvXLqE51je5DBwsmIL2gE",
      "include_colab_link": true
    },
    "kernelspec": {
      "name": "python3",
      "display_name": "Python 3"
    },
    "language_info": {
      "name": "python"
    }
  },
  "cells": [
    {
      "cell_type": "markdown",
      "metadata": {
        "id": "view-in-github",
        "colab_type": "text"
      },
      "source": [
        "<a href=\"https://colab.research.google.com/github/hukim1112/MLDL/blob/master/object_detection/pycocotools_tutorial.ipynb\" target=\"_parent\"><img src=\"https://colab.research.google.com/assets/colab-badge.svg\" alt=\"Open In Colab\"/></a>"
      ]
    },
    {
      "cell_type": "code",
      "execution_count": null,
      "metadata": {
        "id": "NAE5KGjidHGH"
      },
      "outputs": [],
      "source": [
        "# pycocotools : library to handle your coco style json\n",
        "!pip install pycocotools"
      ]
    },
    {
      "cell_type": "code",
      "source": [
        "!cp /content/drive/MyDrive/4.teaching/3.롯데정보통신/데이터/val2017.zip ./val2017.zip\n",
        "!cp /content/drive/MyDrive/4.teaching/3.롯데정보통신/데이터/coco/instances_val2017.json ./instances_val2017.json\n",
        "!cp /content/drive/MyDrive/4.teaching/3.롯데정보통신/데이터/coco/instances_val2017.json ./captions_val2017.json\n",
        "!cp /content/drive/MyDrive/4.teaching/3.롯데정보통신/데이터/coco/instances_val2017.json ./person_keypoints_val2017.json\n"
      ],
      "metadata": {
        "id": "9EnMjeoDnYRL"
      },
      "execution_count": null,
      "outputs": []
    },
    {
      "cell_type": "code",
      "source": [
        "!unzip /content/val2017.zip"
      ],
      "metadata": {
        "id": "GcTOq50unkz-"
      },
      "execution_count": null,
      "outputs": []
    },
    {
      "cell_type": "code",
      "source": [
        "from pycocotools.coco import COCO\n",
        "\n",
        "coco=COCO(\"/content/instances_val2017.json\") #create COCO object from your .json"
      ],
      "metadata": {
        "id": "rskmWk1Tdmaj"
      },
      "execution_count": null,
      "outputs": []
    },
    {
      "cell_type": "markdown",
      "source": [
        "Each image may have multiple annotations.\n",
        "\n",
        "image 1\n",
        "- annotation 1\n",
        "- annotation 2\n",
        "- annotation 3\n",
        "\n",
        "image 2\n",
        "- annotation 4\n",
        "- annotation 5\n",
        "\n",
        "image 3\n",
        "- annotation 6\n",
        "- annotation 7 "
      ],
      "metadata": {
        "id": "aTsI7Jry2FcV"
      }
    },
    {
      "cell_type": "code",
      "source": [
        "# display COCO categories and supercategories\n",
        "cats = coco.loadCats(coco.getCatIds())\n",
        "nms=[cat['name'] for cat in cats]\n",
        "print('COCO categories: \\n{}\\n'.format(' '.join(nms)))\n",
        "\n",
        "nms = set([cat['supercategory'] for cat in cats])\n",
        "print('COCO supercategories: \\n{}'.format(' '.join(nms)))"
      ],
      "metadata": {
        "id": "kTgWzcZCd3sr"
      },
      "execution_count": null,
      "outputs": []
    },
    {
      "cell_type": "code",
      "source": [
        "import numpy as np\n",
        "\n",
        "# get all images containing given categories, select one at random\n",
        "catIds = coco.getCatIds(catNms=['person','dog','skateboard']);\n",
        "imgIds = coco.getImgIds(catIds=catIds );\n",
        "imgIds = coco.getImgIds(imgIds = [324158])\n",
        "img = coco.loadImgs(imgIds[np.random.randint(0,len(imgIds))])[0]"
      ],
      "metadata": {
        "id": "hhbyV6Fid3vE"
      },
      "execution_count": null,
      "outputs": []
    },
    {
      "cell_type": "code",
      "source": [
        "img"
      ],
      "metadata": {
        "id": "IizLAtWXoNK9"
      },
      "execution_count": null,
      "outputs": []
    },
    {
      "cell_type": "code",
      "source": [
        "import cv2\n",
        "import os\n",
        "from matplotlib import pyplot as plt\n",
        "\n",
        "# load and display image\n",
        "# I = io.imread('%s/images/%s/%s'%(dataDir,dataType,img['file_name']))\n",
        "# use url to load image\n",
        "path = os.path.join(\"/content/val2017\", img['file_name'])\n",
        "I = cv2.imread(path)[:,:,::-1]\n",
        "plt.axis('off')\n",
        "plt.imshow(I)\n",
        "plt.show()"
      ],
      "metadata": {
        "id": "rha0QgruoPGm"
      },
      "execution_count": null,
      "outputs": []
    },
    {
      "cell_type": "code",
      "source": [
        "# load and display instance annotations\n",
        "plt.imshow(I); plt.axis('off')\n",
        "annIds = coco.getAnnIds(imgIds=img['id'], catIds=catIds, iscrowd=None)\n",
        "anns = coco.loadAnns(annIds)\n",
        "coco.showAnns(anns)\n",
        "print(\"annotation id \", annIds)\n",
        "for anno_id, anno in zip(annIds, anns):\n",
        "  print(\"annotation id : \", anno_id)\n",
        "  print(anno)"
      ],
      "metadata": {
        "id": "KWMZDpcIoAo3"
      },
      "execution_count": null,
      "outputs": []
    },
    {
      "cell_type": "code",
      "source": [
        "# initialize COCO api for person keypoints annotations\n",
        "annFile = '/content/person_keypoints_val2017.json'\n",
        "coco_kps=COCO(annFile)"
      ],
      "metadata": {
        "id": "XQ9Rrv4rokWh"
      },
      "execution_count": null,
      "outputs": []
    },
    {
      "cell_type": "code",
      "source": [
        "# load and display keypoints annotations\n",
        "plt.imshow(I); plt.axis('off')\n",
        "ax = plt.gca()\n",
        "annIds = coco_kps.getAnnIds(imgIds=img['id'], catIds=catIds, iscrowd=None)\n",
        "anns = coco_kps.loadAnns(annIds)\n",
        "coco_kps.showAnns(anns)"
      ],
      "metadata": {
        "id": "a5zMt3jro0Xm"
      },
      "execution_count": null,
      "outputs": []
    },
    {
      "cell_type": "code",
      "source": [
        "# initialize COCO api for caption annotations\n",
        "annFile = '/content/captions_val2017.json'\n",
        "coco_caps=COCO(annFile)"
      ],
      "metadata": {
        "id": "WwkALfF7pHvT"
      },
      "execution_count": null,
      "outputs": []
    },
    {
      "cell_type": "code",
      "source": [
        "# load and display caption annotations\n",
        "annIds = coco_caps.getAnnIds(imgIds=img['id']);\n",
        "anns = coco_caps.loadAnns(annIds)\n",
        "coco_caps.showAnns(anns)\n",
        "plt.imshow(I); plt.axis('off'); plt.show()"
      ],
      "metadata": {
        "id": "s7D9PTSjo2zK"
      },
      "execution_count": null,
      "outputs": []
    },
    {
      "cell_type": "code",
      "source": [
        ""
      ],
      "metadata": {
        "id": "PMfFW7lLpK5W"
      },
      "execution_count": null,
      "outputs": []
    }
  ]
}