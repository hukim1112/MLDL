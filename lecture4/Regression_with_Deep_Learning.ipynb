{
 "cells": [
  {
   "cell_type": "code",
   "execution_count": null,
   "metadata": {
    "id": "46zaerf4Wtgi"
   },
   "outputs": [],
   "source": [
    "import tensorflow as tf\n",
    "import numpy as np\n",
    "from matplotlib import pyplot as plt"
   ]
  },
  {
   "cell_type": "markdown",
   "metadata": {
    "id": "mBETAzy1Wtgl"
   },
   "source": [
    "# 1. Create non-linear data distribution"
   ]
  },
  {
   "cell_type": "code",
   "execution_count": null,
   "metadata": {
    "id": "Sy3b9vEoWtgm"
   },
   "outputs": [],
   "source": [
    "m = 500\n",
    "nonlinear_distribution = np.random.normal(0, 1, [m, 2])"
   ]
  },
  {
   "cell_type": "code",
   "execution_count": null,
   "metadata": {
    "id": "rDrgHclRWtgm"
   },
   "outputs": [],
   "source": [
    "nonlinear_distribution.shape"
   ]
  },
  {
   "cell_type": "code",
   "execution_count": null,
   "metadata": {
    "id": "8kNZowsGWtgm"
   },
   "outputs": [],
   "source": [
    "fig = plt.figure()\n",
    "ax1 = fig.add_subplot(111)\n",
    "\n",
    "ax1.set_title('nonlinear distribution')\n",
    "ax1.set_xlabel('x1')\n",
    "ax1.set_ylabel('x2')\n",
    "\n",
    "ax1.set_xlim([-4,4])\n",
    "ax1.set_ylim([-4,4])\n",
    "\n",
    "y = nonlinear_distribution[:, 0]**2 + nonlinear_distribution[:,1]**2\n",
    "#y = norm/norm.max()\n",
    "\n",
    "ax1.scatter(nonlinear_distribution[:,0], nonlinear_distribution[:,1], c=y, cmap='gray')\n",
    "plt.show()"
   ]
  },
  {
   "cell_type": "code",
   "execution_count": null,
   "metadata": {
    "id": "zxB1c9INWtgn"
   },
   "outputs": [],
   "source": [
    "import plotly.graph_objects as go\n",
    "# 독립변수입력) x1, x2 => 종속변수(정답) y \n",
    "fig = go.Figure(data=[go.Scatter3d(x=nonlinear_distribution[:,0], y=nonlinear_distribution[:,1], z=y,\n",
    "                                   mode='markers',\n",
    "                                  marker=dict(  size=4,\n",
    "                                                colorscale='blues',   # choose a colorscale\n",
    "                                                opacity=0.8\n",
    "                                            ))])\n",
    "\n",
    "fig.update_layout(\n",
    "    title='Data distribution', \n",
    "    autosize=True,\n",
    "    width=500, \n",
    "    height=500,\n",
    "    xaxis=dict(range=[0.,10.]),\n",
    "    margin=dict(l=65, r=50, b=65, t=90),\n",
    "    scene_aspectmode='manual',\n",
    "    scene_aspectratio=dict(x=1, y=1, z=1),\n",
    "    scene=dict(\n",
    "        xaxis= dict(range=[-5,5], nticks=20),\n",
    "        yaxis= dict(range=[-5,5], nticks=20),\n",
    "        zaxis= dict(range=[0,20]),\n",
    "        xaxis_title='X1',\n",
    "        yaxis_title='X2',\n",
    "        zaxis_title='Y',\n",
    "    ))\n",
    "\n",
    "fig.show()"
   ]
  },
  {
   "cell_type": "markdown",
   "metadata": {
    "id": "ODMuPbRcWtgn"
   },
   "source": [
    "# 2. Build your regression model with Neural Network"
   ]
  },
  {
   "cell_type": "code",
   "execution_count": null,
   "metadata": {
    "id": "TSaUzWWxWtgo"
   },
   "outputs": [],
   "source": [
    "from tensorflow.keras import layers"
   ]
  },
  {
   "cell_type": "code",
   "execution_count": null,
   "metadata": {},
   "outputs": [],
   "source": [
    "model = tf.keras.Sequential([layers.Dense(32, activation='relu', input_shape=[2]),\n",
    "                            layers.Dense(16, activation='relu'),\n",
    "                            layers.Dense(2, activation='relu'),\n",
    "                            layers.Dense(1)\n",
    "                            ])\n",
    "\n",
    "optimizer = tf.keras.optimizers.RMSprop(0.001)\n",
    "\n",
    "model.compile(loss='mse',\n",
    "            optimizer=optimizer,\n",
    "            metrics=['mae', 'mse'])"
   ]
  },
  {
   "cell_type": "markdown",
   "metadata": {
    "id": "2fPq_anmWtgp"
   },
   "source": [
    "# 3. Train your model"
   ]
  },
  {
   "cell_type": "code",
   "execution_count": null,
   "metadata": {
    "id": "7P221ByAWtgq"
   },
   "outputs": [],
   "source": [
    "model.fit(nonlinear_distribution, y, epochs=1000)"
   ]
  },
  {
   "cell_type": "code",
   "execution_count": null,
   "metadata": {
    "id": "IhrbqH6WWtgq"
   },
   "outputs": [],
   "source": [
    "model.summary()"
   ]
  },
  {
   "cell_type": "markdown",
   "metadata": {
    "id": "DXJq8xe1Wtgq"
   },
   "source": [
    "# 4. Observe your new representation of dataset transformed by network"
   ]
  },
  {
   "cell_type": "code",
   "execution_count": null,
   "metadata": {
    "id": "81DD61mrWtgr"
   },
   "outputs": [],
   "source": [
    "# 입력값에 대한 hidden layer의 출력값들을 얻어냅니다.\n",
    "last_hidden_output_model = tf.keras.Sequential()\n",
    "\n",
    "for layer in model.layers[:-1]:\n",
    "    last_hidden_output_model.add(layer)\n",
    "transformed = last_hidden_output_model.predict(nonlinear_distribution)"
   ]
  },
  {
   "cell_type": "code",
   "execution_count": null,
   "metadata": {
    "id": "BZy5Xb9_Wtgr"
   },
   "outputs": [],
   "source": [
    "last_hidden_output_model.summary()"
   ]
  },
  {
   "cell_type": "code",
   "execution_count": null,
   "metadata": {
    "id": "d16iFaUAWtgs"
   },
   "outputs": [],
   "source": []
  },
  {
   "cell_type": "code",
   "execution_count": null,
   "metadata": {
    "id": "Iihz23taWtgs"
   },
   "outputs": [],
   "source": [
    "# 새로운 데이터값의 분포를 그려봅시다.\n",
    "\n",
    "fig = plt.figure()\n",
    "ax1 = fig.add_subplot(111)\n",
    "\n",
    "ax1.set_title('nonlinear distribution')\n",
    "ax1.set_xlabel('hidden x1')\n",
    "ax1.set_ylabel('hidden x2')\n",
    "y = nonlinear_distribution[:, 0]**2 + nonlinear_distribution[:,1]**2\n",
    "#y = norm/norm.max()\n",
    "\n",
    "ax1.scatter(transformed[:,0], transformed[:,1], c=y, cmap='gray')\n",
    "plt.show()"
   ]
  },
  {
   "cell_type": "code",
   "execution_count": null,
   "metadata": {
    "id": "W4qj8x95Wtgt"
   },
   "outputs": [],
   "source": [
    "import plotly.graph_objects as go\n",
    "# 독립변수입력) x1, x2 => 종속변수(정답) y \n",
    "fig = go.Figure(data=[go.Scatter3d(x=transformed[:,0], y=transformed[:,1], z=y,\n",
    "                                   mode='markers',\n",
    "                                  marker=dict(  size=8,\n",
    "                                                colorscale='blues',   # choose a colorscale\n",
    "                                                opacity=0.8\n",
    "                                            ))])\n",
    "fig.update_layout(scene = dict(\n",
    "                    xaxis_title='X1',\n",
    "                    yaxis_title='X2',\n",
    "                    zaxis_title='Y (Answer)'),\n",
    "                    width=700,\n",
    "                    margin=dict(r=20, b=10, l=10, t=10))\n",
    "\n",
    "fig.show()"
   ]
  },
  {
   "cell_type": "code",
   "execution_count": null,
   "metadata": {
    "id": "lczFoTH9Wtgt"
   },
   "outputs": [],
   "source": []
  }
 ],
 "metadata": {
  "colab": {
   "name": "Regression with Deep Learning.ipynb",
   "provenance": []
  },
  "kernelspec": {
   "display_name": "tf",
   "language": "python",
   "name": "tf"
  },
  "language_info": {
   "codemirror_mode": {
    "name": "ipython",
    "version": 3
   },
   "file_extension": ".py",
   "mimetype": "text/x-python",
   "name": "python",
   "nbconvert_exporter": "python",
   "pygments_lexer": "ipython3",
   "version": "3.6.9"
  }
 },
 "nbformat": 4,
 "nbformat_minor": 1
}
