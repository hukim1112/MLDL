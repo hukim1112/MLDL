{
 "cells": [
  {
   "cell_type": "code",
   "execution_count": null,
   "metadata": {
    "id": "dbPOXqrpDVYO"
   },
   "outputs": [],
   "source": [
    "import tensorflow as tf\n",
    "import numpy as np\n",
    "from matplotlib import pyplot as plt"
   ]
  },
  {
   "cell_type": "code",
   "execution_count": null,
   "metadata": {
    "id": "HKW2QTk_Qktq"
   },
   "outputs": [],
   "source": []
  },
  {
   "cell_type": "markdown",
   "metadata": {
    "id": "c0584DTtDVYc"
   },
   "source": [
    "# 1. Create non-linear data distribution"
   ]
  },
  {
   "cell_type": "code",
   "execution_count": null,
   "metadata": {
    "id": "PeJaL5fpDVYg"
   },
   "outputs": [],
   "source": [
    "# 임의의 클래스 A와 클래스 B를 생성함.\n",
    "m = 200\n",
    "class_A = np.random.normal(0, 1, [m, 2])\n",
    "label_A = np.ones([m, 1])\n",
    "\n",
    "class_B_x = np.random.normal(0, 2, [m, 1])\n",
    "class_B_y = 0.5*class_B_x**2 - 3\n",
    "\n",
    "class_B = np.concatenate([class_B_x, class_B_y], axis = 1)\n",
    "label_B = np.zeros([m, 1])"
   ]
  },
  {
   "cell_type": "code",
   "execution_count": null,
   "metadata": {
    "colab": {
     "base_uri": "https://localhost:8080/"
    },
    "id": "qhBMwmKSEwtY",
    "outputId": "5f0d8a95-9e20-4ddb-aaa9-1b3e7659e3f7"
   },
   "outputs": [],
   "source": [
    "#각 클래스의 데이터 shape은 다음과 같습니다. \n",
    "class_B.shape"
   ]
  },
  {
   "cell_type": "code",
   "execution_count": null,
   "metadata": {
    "colab": {
     "base_uri": "https://localhost:8080/"
    },
    "id": "tO4Ce0voG7DI",
    "outputId": "98d5c2b5-3d99-4eee-bc56-7464ae338abb"
   },
   "outputs": [],
   "source": [
    "#레이블은 A가 1, B가 0입니다.\n",
    "print(label_A[:5])\n",
    "print(label_B[:5])"
   ]
  },
  {
   "cell_type": "code",
   "execution_count": null,
   "metadata": {
    "colab": {
     "base_uri": "https://localhost:8080/",
     "height": 295
    },
    "id": "yKluzYByD8Kq",
    "outputId": "fb138f85-cbde-42a6-9dbc-d8e42663ba2b"
   },
   "outputs": [],
   "source": [
    "#데이터 분포를 볼까요?\n",
    "\n",
    "fig = plt.figure()\n",
    "ax1 = fig.add_subplot(111)\n",
    "\n",
    "ax1.set_title('nonlinear distribution')\n",
    "ax1.set_xlabel('x1')\n",
    "ax1.set_ylabel('x2')\n",
    "\n",
    "ax1.set_xlim([-4,4])\n",
    "ax1.set_ylim([-4,4])\n",
    "\n",
    "ax1.scatter(class_A[:,0], class_A[:,1], c='red')\n",
    "\n",
    "ax1.scatter(class_B[:,0], class_B[:,1])\n",
    "plt.show()"
   ]
  },
  {
   "cell_type": "code",
   "execution_count": null,
   "metadata": {
    "colab": {
     "base_uri": "https://localhost:8080/"
    },
    "id": "jumr5HBPD8HU",
    "outputId": "bf4de1ac-c392-4b52-da2c-0bff0f7ad70a"
   },
   "outputs": [],
   "source": [
    "#데이터를 통합해주겠습니다.\n",
    "dataset = np.concatenate([class_A, class_B])\n",
    "dataset.shape"
   ]
  },
  {
   "cell_type": "code",
   "execution_count": null,
   "metadata": {
    "colab": {
     "base_uri": "https://localhost:8080/"
    },
    "id": "G_PK34sjHD5y",
    "outputId": "ac867221-ebed-4ca7-cb7e-ec91db54350a"
   },
   "outputs": [],
   "source": [
    "#레이블도 통합해줍니다.\n",
    "label = np.concatenate([label_A, label_B])\n",
    "label.shape"
   ]
  },
  {
   "cell_type": "markdown",
   "metadata": {
    "id": "dvuAHDtEDVYq"
   },
   "source": [
    "# 2. Build your classification model with Neural Network"
   ]
  },
  {
   "cell_type": "code",
   "execution_count": null,
   "metadata": {
    "id": "QLBpkBSpRVB9"
   },
   "outputs": [],
   "source": [
    "from tensorflow.keras import layers\n",
    "\n",
    "model = tf.keras.Sequential([layers.Dense(32, activation='relu', input_shape=[2]),\n",
    "                             layers.Dense(16, activation='relu'),\n",
    "                             layers.Dense(2, activation='relu'), #last hidden layer. data representation before decision makeing\n",
    "                             layers.Dense(1, activation='sigmoid')\n",
    "                          ])"
   ]
  },
  {
   "cell_type": "code",
   "execution_count": null,
   "metadata": {
    "id": "bXI4SJ6vDVY1"
   },
   "outputs": [],
   "source": [
    "model.compile(optimizer=optimizer,\n",
    "              loss='binary_crossentropy',\n",
    "              metrics=['accuracy'])"
   ]
  },
  {
   "cell_type": "code",
   "execution_count": null,
   "metadata": {
    "colab": {
     "base_uri": "https://localhost:8080/"
    },
    "id": "xNKqW9MfIb0D",
    "outputId": "d1a05cd8-9a33-40e6-c3d7-bf60c271f53a"
   },
   "outputs": [],
   "source": [
    "model.summary()"
   ]
  },
  {
   "cell_type": "markdown",
   "metadata": {
    "id": "nZiRW2HbDVY7"
   },
   "source": [
    "# 3. Train your model"
   ]
  },
  {
   "cell_type": "code",
   "execution_count": null,
   "metadata": {
    "colab": {
     "base_uri": "https://localhost:8080/"
    },
    "id": "FV7ESjdPDVY8",
    "outputId": "9c64f88d-b003-4edb-c0f7-36228e46a83b"
   },
   "outputs": [],
   "source": [
    "model.fit(dataset, label, epochs=500)"
   ]
  },
  {
   "cell_type": "code",
   "execution_count": null,
   "metadata": {
    "id": "qE_WE7T7DVZF"
   },
   "outputs": [],
   "source": []
  },
  {
   "cell_type": "markdown",
   "metadata": {
    "id": "qeYvWgu4DVZO"
   },
   "source": [
    "# 4. Observe your new representation of dataset transformed by network"
   ]
  },
  {
   "cell_type": "code",
   "execution_count": null,
   "metadata": {
    "colab": {
     "base_uri": "https://localhost:8080/"
    },
    "id": "YwH-yet2S8pQ",
    "outputId": "98960626-25f9-4e16-91ce-1927c9217f89"
   },
   "outputs": [],
   "source": [
    "last_hidden_output_model = tf.keras.Sequential() #create a new sequential model \n",
    "for layer in model.layers[:-1]:\n",
    "  last_hidden_output_model.add(layer) # add each hidden layer\n",
    "last_hidden_output_model.summary()"
   ]
  },
  {
   "cell_type": "code",
   "execution_count": null,
   "metadata": {
    "colab": {
     "base_uri": "https://localhost:8080/"
    },
    "id": "BiOIXgjgT_vI",
    "outputId": "b7c02e17-be42-4fc8-9de0-70f84df26f05"
   },
   "outputs": [],
   "source": [
    "# 마지막 hidden layer에서 나오는 class A에 대한 새로운 데이터값들을 뽑아냅니다.\n",
    "new_rep_A = last_hidden_output_model.predict(class_A)\n",
    "new_rep_A.shape\n",
    "# 마지막 hidden layer에서 나오는 class B에 대한 새로운 데이터값들을 뽑아냅니다.\n",
    "new_rep_B = last_hidden_output_model.predict(class_B)\n",
    "new_rep_B.shape"
   ]
  },
  {
   "cell_type": "code",
   "execution_count": null,
   "metadata": {
    "colab": {
     "base_uri": "https://localhost:8080/",
     "height": 295
    },
    "id": "yraCNpSvHy-6",
    "outputId": "009071b7-b78d-440d-ce7c-3535a219e6f7"
   },
   "outputs": [],
   "source": [
    "# 각각의 데이터들의 분포를 그려봅니다.\n",
    "\n",
    "fig = plt.figure()\n",
    "ax1 = fig.add_subplot(111)\n",
    "\n",
    "ax1.set_title('new_representation')\n",
    "ax1.set_xlabel('x1')\n",
    "ax1.set_ylabel('x2')\n",
    "\n",
    "ax1.scatter(new_rep_A[:,0], new_rep_A[:,1], c='red')\n",
    "\n",
    "ax1.scatter(new_rep_B[:,0], new_rep_B[:,1], c='blue')\n",
    "plt.show()"
   ]
  },
  {
   "cell_type": "code",
   "execution_count": null,
   "metadata": {
    "id": "b2ObkEoNH1Hq"
   },
   "outputs": [],
   "source": []
  },
  {
   "cell_type": "code",
   "execution_count": null,
   "metadata": {
    "id": "sAELfY3hIIUT"
   },
   "outputs": [],
   "source": []
  },
  {
   "cell_type": "code",
   "execution_count": null,
   "metadata": {
    "id": "5sAQWj2BH4-3"
   },
   "outputs": [],
   "source": []
  },
  {
   "cell_type": "code",
   "execution_count": null,
   "metadata": {
    "id": "ZoV1L9wiMqIK"
   },
   "outputs": [],
   "source": []
  }
 ],
 "metadata": {
  "accelerator": "GPU",
  "colab": {
   "name": "Classification with Deep Learning.ipynb",
   "provenance": []
  },
  "kernelspec": {
   "display_name": "tf",
   "language": "python",
   "name": "tf"
  },
  "language_info": {
   "codemirror_mode": {
    "name": "ipython",
    "version": 3
   },
   "file_extension": ".py",
   "mimetype": "text/x-python",
   "name": "python",
   "nbconvert_exporter": "python",
   "pygments_lexer": "ipython3",
   "version": "3.6.9"
  }
 },
 "nbformat": 4,
 "nbformat_minor": 1
}
