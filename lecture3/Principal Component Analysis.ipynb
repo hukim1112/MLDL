{
  "nbformat": 4,
  "nbformat_minor": 0,
  "metadata": {
    "kernelspec": {
      "display_name": "Python 3",
      "language": "python",
      "name": "python3"
    },
    "language_info": {
      "codemirror_mode": {
        "name": "ipython",
        "version": 3
      },
      "file_extension": ".py",
      "mimetype": "text/x-python",
      "name": "python",
      "nbconvert_exporter": "python",
      "pygments_lexer": "ipython3",
      "version": "3.6.9"
    },
    "colab": {
      "name": "Principal Component Analysis.ipynb",
      "provenance": []
    }
  },
  "cells": [
    {
      "cell_type": "markdown",
      "metadata": {
        "id": "ScQ3X7pKhbyQ"
      },
      "source": [
        "# Principal Component Analysis (PCA)"
      ]
    },
    {
      "cell_type": "code",
      "metadata": {
        "id": "neK3eVjthbyX"
      },
      "source": [
        "import numpy as np\n",
        "import pandas as pd\n",
        "import matplotlib.pyplot as plt\n",
        "%matplotlib inline"
      ],
      "execution_count": null,
      "outputs": []
    },
    {
      "cell_type": "markdown",
      "metadata": {
        "id": "vU5DBCsehbya"
      },
      "source": [
        "## Read in the data and perform basic exploratory analysis"
      ]
    },
    {
      "cell_type": "code",
      "metadata": {
        "id": "FveW-m8Khbyb"
      },
      "source": [
        "df = pd.read_csv('https://raw.githubusercontent.com/hukim1112/MLDL/master/lecture3/wine.data.csv')\n",
        "df.head(10)"
      ],
      "execution_count": null,
      "outputs": []
    },
    {
      "cell_type": "markdown",
      "metadata": {
        "id": "N1pE092Shbyb"
      },
      "source": [
        "#### Basic statistics"
      ]
    },
    {
      "cell_type": "code",
      "metadata": {
        "id": "sJjtBkPwhbyc"
      },
      "source": [
        "df.iloc[:,1:].describe()"
      ],
      "execution_count": null,
      "outputs": []
    },
    {
      "cell_type": "markdown",
      "metadata": {
        "id": "r2lgcduzhbyd"
      },
      "source": [
        "#### Boxplots by output labels/classes"
      ]
    },
    {
      "cell_type": "code",
      "metadata": {
        "scrolled": false,
        "id": "ewXSP3Hchbye"
      },
      "source": [
        "for c in df.columns[1:]:\n",
        "    df.boxplot(c,by='Class',figsize=(7,4),fontsize=14)\n",
        "    plt.title(\"{}\\n\".format(c),fontsize=16)\n",
        "    plt.xlabel(\"Wine Class\", fontsize=16)"
      ],
      "execution_count": null,
      "outputs": []
    },
    {
      "cell_type": "markdown",
      "metadata": {
        "id": "AHXOi7b0hbye"
      },
      "source": [
        "**It can be seen that some features classify the wine labels pretty clearly.** For example, Alcalinity, Total Phenols, or Flavonoids produce boxplots with well-separated medians, which are clearly indicative of wine classes.\n",
        "\n",
        "Below is an example of class seperation using two variables"
      ]
    },
    {
      "cell_type": "code",
      "metadata": {
        "id": "EpHs0lO1hbyf"
      },
      "source": [
        "plt.figure(figsize=(10,6))\n",
        "plt.scatter(df['OD280/OD315 of diluted wines'],df['Flavanoids'],c=df['Class'],edgecolors='k',alpha=0.75,s=150)\n",
        "plt.grid(True)\n",
        "plt.title(\"Scatter plot of two features showing the \\ncorrelation and class seperation\",fontsize=15)\n",
        "plt.xlabel(\"OD280/OD315 of diluted wines\",fontsize=15)\n",
        "plt.ylabel(\"Flavanoids\",fontsize=15)\n",
        "plt.show()"
      ],
      "execution_count": null,
      "outputs": []
    },
    {
      "cell_type": "markdown",
      "metadata": {
        "id": "uykPmAePhbyf"
      },
      "source": [
        "#### Are the features independent? Plot co-variance matrix\n",
        "\n",
        "It can be seen that there are some good amount of correlation between features i.e. they are not independent of each other, as assumed in Naive Bayes technique. However, we will still go ahead and apply yhe classifier to see its performance."
      ]
    },
    {
      "cell_type": "code",
      "metadata": {
        "id": "QLKoTvfAhbyf"
      },
      "source": [
        "def correlation_matrix(df):\n",
        "    from matplotlib import pyplot as plt\n",
        "    from matplotlib import cm as cm\n",
        "\n",
        "    fig = plt.figure(figsize=(16,12))\n",
        "    ax1 = fig.add_subplot(111)\n",
        "    cmap = cm.get_cmap('jet', 30)\n",
        "    cax = ax1.imshow(df.corr(), interpolation=\"nearest\", cmap=cmap)\n",
        "    ax1.grid(True)\n",
        "    plt.title('Wine data set features correlation\\n',fontsize=15)\n",
        "    labels=df.columns\n",
        "    ax1.set_xticklabels(labels,fontsize=9)\n",
        "    ax1.set_yticklabels(labels,fontsize=9)\n",
        "    # Add colorbar, make sure to specify tick locations to match desired ticklabels\n",
        "    fig.colorbar(cax, ticks=[0.1*i for i in range(-11,11)])\n",
        "    plt.show()\n",
        "\n",
        "correlation_matrix(df)"
      ],
      "execution_count": null,
      "outputs": []
    },
    {
      "cell_type": "markdown",
      "metadata": {
        "id": "ayY73puihbyg"
      },
      "source": [
        "## Principal Component Analysis"
      ]
    },
    {
      "cell_type": "markdown",
      "metadata": {
        "id": "2kSrFkYFhbyg"
      },
      "source": [
        "### Data scaling\n",
        "PCA requires scaling/normalization of the data to work properly"
      ]
    },
    {
      "cell_type": "code",
      "metadata": {
        "id": "KKruoOxzhbyh"
      },
      "source": [
        "from sklearn.preprocessing import StandardScaler"
      ],
      "execution_count": null,
      "outputs": []
    },
    {
      "cell_type": "code",
      "metadata": {
        "id": "Nrm98V_1hbyh"
      },
      "source": [
        "scaler = StandardScaler()"
      ],
      "execution_count": null,
      "outputs": []
    },
    {
      "cell_type": "code",
      "metadata": {
        "id": "5ssBeJ7zhbyh"
      },
      "source": [
        "X = df.drop('Class',axis=1)\n",
        "y = df['Class']"
      ],
      "execution_count": null,
      "outputs": []
    },
    {
      "cell_type": "code",
      "metadata": {
        "id": "AE2uU9BGhbyh"
      },
      "source": [
        "X = scaler.fit_transform(X)"
      ],
      "execution_count": null,
      "outputs": []
    },
    {
      "cell_type": "code",
      "metadata": {
        "id": "Z4CLS5ZLhbyh"
      },
      "source": [
        "dfx = pd.DataFrame(data=X,columns=df.columns[1:])"
      ],
      "execution_count": null,
      "outputs": []
    },
    {
      "cell_type": "code",
      "metadata": {
        "id": "RJrVyka3hbyi"
      },
      "source": [
        "dfx.head(10)"
      ],
      "execution_count": null,
      "outputs": []
    },
    {
      "cell_type": "code",
      "metadata": {
        "id": "jBzGgM6lhbyi"
      },
      "source": [
        "dfx.describe()"
      ],
      "execution_count": null,
      "outputs": []
    },
    {
      "cell_type": "markdown",
      "metadata": {
        "id": "bob32JZehbyi"
      },
      "source": [
        "### PCA class import and analysis"
      ]
    },
    {
      "cell_type": "code",
      "metadata": {
        "id": "Zuuk1qMWhbyi"
      },
      "source": [
        "from sklearn.decomposition import PCA"
      ],
      "execution_count": null,
      "outputs": []
    },
    {
      "cell_type": "code",
      "metadata": {
        "id": "ZY5cfrmAhbyi"
      },
      "source": [
        "pca = PCA(n_components=None)"
      ],
      "execution_count": null,
      "outputs": []
    },
    {
      "cell_type": "code",
      "metadata": {
        "id": "oRPOhExOhbyj"
      },
      "source": [
        "dfx_pca = pca.fit(dfx)"
      ],
      "execution_count": null,
      "outputs": []
    },
    {
      "cell_type": "markdown",
      "metadata": {
        "id": "bkUMm4J5hbyj"
      },
      "source": [
        "#### Plot the _explained variance ratio_"
      ]
    },
    {
      "cell_type": "code",
      "metadata": {
        "id": "v5xYO7CJhbyj"
      },
      "source": [
        "plt.figure(figsize=(10,6))\n",
        "plt.scatter(x=[i+1 for i in range(len(dfx_pca.explained_variance_ratio_))],\n",
        "            y=dfx_pca.explained_variance_ratio_,\n",
        "           s=200, alpha=0.75,c='orange',edgecolor='k')\n",
        "plt.grid(True)\n",
        "plt.title(\"Explained variance ratio of the \\nfitted principal component vector\\n\",fontsize=25)\n",
        "plt.xlabel(\"Principal components\",fontsize=15)\n",
        "plt.xticks([i+1 for i in range(len(dfx_pca.explained_variance_ratio_))],fontsize=15)\n",
        "plt.yticks(fontsize=15)\n",
        "plt.ylabel(\"Explained variance ratio\",fontsize=15)\n",
        "plt.show()"
      ],
      "execution_count": null,
      "outputs": []
    },
    {
      "cell_type": "code",
      "metadata": {
        "id": "ZUPLvETVnAT4"
      },
      "source": [
        "sums = []\n",
        "\n",
        "for idx, value in enumerate(pca.explained_variance_ratio_) :\n",
        "    if idx == 0 :\n",
        "        temp = value\n",
        "    else :\n",
        "        temp = value + sums[-1]\n",
        "    sums.append( temp )\n",
        "\n",
        "plt.figure(figsize=(10, 6))\n",
        "plt.hlines(0.8, xmin=0, xmax=14)\n",
        "plt.bar(x = range(1,14), height = sums)\n",
        "\n",
        "plt.show()"
      ],
      "execution_count": null,
      "outputs": []
    },
    {
      "cell_type": "markdown",
      "metadata": {
        "id": "pzsz6NDohbyj"
      },
      "source": [
        "**The above plot means that the $1^{st}$ principal component explains about 36% of the total variance in the data and the $2^{nd}$ component explians further 20%. Therefore, if we just consider first two components, they together explain 56% of the total variance.**"
      ]
    },
    {
      "cell_type": "markdown",
      "metadata": {
        "id": "rEKIosHchbyj"
      },
      "source": [
        "### Showing better class separation using principal components"
      ]
    },
    {
      "cell_type": "markdown",
      "metadata": {
        "id": "LVxlbmJ3hbyj"
      },
      "source": [
        "#### Transform the scaled data set using the fitted PCA object"
      ]
    },
    {
      "cell_type": "code",
      "metadata": {
        "id": "luvbkWrchbyj"
      },
      "source": [
        "dfx_trans = pca.transform(dfx)"
      ],
      "execution_count": null,
      "outputs": []
    },
    {
      "cell_type": "markdown",
      "metadata": {
        "id": "-3x5eT1Hhbyk"
      },
      "source": [
        "#### Put it in a data frame"
      ]
    },
    {
      "cell_type": "code",
      "metadata": {
        "id": "Mmmv3vtyhbyk"
      },
      "source": [
        "dfx_trans = pd.DataFrame(data=dfx_trans)\n",
        "dfx_trans.head(10)"
      ],
      "execution_count": null,
      "outputs": []
    },
    {
      "cell_type": "markdown",
      "metadata": {
        "id": "50AYa_8Xhbyk"
      },
      "source": [
        "#### Plot the first two columns of this transformed data set with the color set to original ground truth class label"
      ]
    },
    {
      "cell_type": "code",
      "metadata": {
        "id": "9s5cgXEEhbyk"
      },
      "source": [
        "plt.figure(figsize=(10,6))\n",
        "plt.scatter(dfx_trans[0],dfx_trans[1],c=df['Class'],edgecolors='k',alpha=0.75,s=150)\n",
        "plt.grid(True)\n",
        "plt.title(\"Class separation using first two principal components\\n\",fontsize=20)\n",
        "plt.xlabel(\"Principal component-1\",fontsize=15)\n",
        "plt.ylabel(\"Principal component-2\",fontsize=15)\n",
        "plt.show()"
      ],
      "execution_count": null,
      "outputs": []
    },
    {
      "cell_type": "code",
      "metadata": {
        "id": "HakOLj1UnvvU"
      },
      "source": [
        ""
      ],
      "execution_count": null,
      "outputs": []
    },
    {
      "cell_type": "markdown",
      "metadata": {
        "id": "dVHIRPaxpRW0"
      },
      "source": [
        "# K-means clustering"
      ]
    },
    {
      "cell_type": "code",
      "metadata": {
        "id": "nn-QfTlvn1V_"
      },
      "source": [
        "from sklearn.cluster import KMeans\n",
        "\n",
        "kms = KMeans(3, random_state = 2021).fit(dfx_trans.loc[:,:4])"
      ],
      "execution_count": null,
      "outputs": []
    },
    {
      "cell_type": "code",
      "metadata": {
        "id": "nNnnCOxbpUN_"
      },
      "source": [
        "cluster = kms.predict(dfx_trans.loc[:,:4])\n",
        "cluster"
      ],
      "execution_count": null,
      "outputs": []
    },
    {
      "cell_type": "code",
      "metadata": {
        "id": "xQNuVpB7qRRq"
      },
      "source": [
        "cluster[y==1]"
      ],
      "execution_count": null,
      "outputs": []
    },
    {
      "cell_type": "code",
      "metadata": {
        "id": "YKsI-6JfqRUX"
      },
      "source": [
        "cluster[y==2]"
      ],
      "execution_count": null,
      "outputs": []
    },
    {
      "cell_type": "code",
      "metadata": {
        "id": "6w7b6_tNqZPm"
      },
      "source": [
        "cluster[y==3]"
      ],
      "execution_count": null,
      "outputs": []
    },
    {
      "cell_type": "code",
      "metadata": {
        "id": "km0VjarzrMtI"
      },
      "source": [
        ""
      ],
      "execution_count": null,
      "outputs": []
    }
  ]
}