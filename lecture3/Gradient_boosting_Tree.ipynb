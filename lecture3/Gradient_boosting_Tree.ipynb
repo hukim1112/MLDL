{
  "nbformat": 4,
  "nbformat_minor": 0,
  "metadata": {
    "colab": {
      "name": "Gradient boosting Tree.ipynb",
      "provenance": [],
      "authorship_tag": "ABX9TyPHsd+coa8DUlQeLhxbhrCi",
      "include_colab_link": true
    },
    "kernelspec": {
      "name": "python3",
      "display_name": "Python 3"
    },
    "language_info": {
      "name": "python"
    }
  },
  "cells": [
    {
      "cell_type": "markdown",
      "metadata": {
        "id": "view-in-github",
        "colab_type": "text"
      },
      "source": [
        "<a href=\"https://colab.research.google.com/github/hukim1112/MLDL/blob/master/lecture3/Gradient_boosting_Tree.ipynb\" target=\"_parent\"><img src=\"https://colab.research.google.com/assets/colab-badge.svg\" alt=\"Open In Colab\"/></a>"
      ]
    },
    {
      "cell_type": "markdown",
      "source": [
        "## import library"
      ],
      "metadata": {
        "id": "QrDjhdp1eO0a"
      }
    },
    {
      "cell_type": "code",
      "source": [
        "from sklearn.datasets import load_iris\n",
        "import pandas as pd\n",
        "\n",
        "iris_dataset = load_iris()\n",
        "\n",
        "X, y = iris_dataset.data, iris_dataset.target"
      ],
      "metadata": {
        "id": "4I0K7c4jePJh"
      },
      "execution_count": null,
      "outputs": []
    },
    {
      "cell_type": "code",
      "source": [
        "iris_df = pd.DataFrame(data=X, columns=iris_dataset['feature_names'])\n",
        "iris_df['target'] = y"
      ],
      "metadata": {
        "id": "7KjpDgjqfP8D"
      },
      "execution_count": null,
      "outputs": []
    },
    {
      "cell_type": "code",
      "source": [
        "iris_df"
      ],
      "metadata": {
        "id": "6A8ynb7gfrwO"
      },
      "execution_count": null,
      "outputs": []
    },
    {
      "cell_type": "markdown",
      "source": [
        "## Let us split this data into training and testing set."
      ],
      "metadata": {
        "id": "jhL3_VjleWMk"
      }
    },
    {
      "cell_type": "code",
      "source": [
        "from sklearn.model_selection import train_test_split\n",
        "X_train, X_test, y_train, y_test = train_test_split(\n",
        "    X, y, test_size=0.2, random_state=0)"
      ],
      "metadata": {
        "id": "l6XER7SmTBJx"
      },
      "execution_count": null,
      "outputs": []
    },
    {
      "cell_type": "markdown",
      "source": [
        "## Instantiate a GradientBoostingClassifier model using the default params."
      ],
      "metadata": {
        "id": "hInV0kGLeZEh"
      }
    },
    {
      "cell_type": "code",
      "source": [
        "from sklearn.ensemble import GradientBoostingClassifier\n",
        "\n",
        "gbc = GradientBoostingClassifier()\n",
        "gbc.fit(X_train, y_train)"
      ],
      "metadata": {
        "id": "4f_7i0g2TWzo"
      },
      "execution_count": null,
      "outputs": []
    },
    {
      "cell_type": "code",
      "source": [
        "gbc.score(X_test, y_test) #Let us score it on the test set"
      ],
      "metadata": {
        "id": "Molid9fofCov"
      },
      "execution_count": null,
      "outputs": []
    },
    {
      "cell_type": "code",
      "source": [
        "gbc.n_estimators\n",
        "#This can be controlled by setting n_estimators to a different value during the initialization time."
      ],
      "metadata": {
        "id": "Yxoky0NMfFJ7"
      },
      "execution_count": null,
      "outputs": []
    },
    {
      "cell_type": "code",
      "source": [
        ""
      ],
      "metadata": {
        "id": "K12JlbIofLAT"
      },
      "execution_count": null,
      "outputs": []
    }
  ]
}