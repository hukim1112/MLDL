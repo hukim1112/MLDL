{
  "nbformat": 4,
  "nbformat_minor": 0,
  "metadata": {
    "colab": {
      "name": "(sol)Problem_03(머신러닝).ipynb",
      "provenance": [],
      "collapsed_sections": []
    },
    "kernelspec": {
      "display_name": "Python 3",
      "language": "python",
      "name": "python3"
    },
    "language_info": {
      "codemirror_mode": {
        "name": "ipython",
        "version": 3
      },
      "file_extension": ".py",
      "mimetype": "text/x-python",
      "name": "python",
      "nbconvert_exporter": "python",
      "pygments_lexer": "ipython3",
      "version": "3.6.9"
    }
  },
  "cells": [
    {
      "cell_type": "markdown",
      "metadata": {
        "id": "QFu6BpI3ImCg"
      },
      "source": [
        "# **Autoprice 데이터를 이용한 <span style=\"color:darkgreen\">선형회귀</span> 문제**\n",
        "---"
      ]
    },
    {
      "cell_type": "markdown",
      "metadata": {
        "id": "YjQkc3VKsho0"
      },
      "source": [
        "> **<span style=\"color:red\">다음 문항을 풀기 전에 </span>아래 코드를 실행하시오.**<br>\n",
        "> 반드시 코드와 주석을 읽고 문제를 푸시오. <br>\n",
        "> 반드시 출력된 데이터 설명을 읽고 문제를 푸시오.<br>\n",
        "> [데이터 출처 & 설명](https://archive.ics.uci.edu/ml/datasets/automobile)도 읽고 문제를 푸시오.\n",
        "---\n",
        "\n"
      ]
    },
    {
      "cell_type": "code",
      "metadata": {
        "id": "xHA7TccJTIa6"
      },
      "source": [
        "import numpy as np\n",
        "import pandas as pd\n",
        "import matplotlib.pyplot as plt\n",
        "\n",
        "cols = ['symboling', 'normalized_losses', 'make', 'fuel_type', 'aspiration', 'num_of_doors',\n",
        "        'body_style', 'drive_wheels', 'engine_location', 'wheel_base', 'length', 'width', 'height',\n",
        "        'curb_weight', 'engine_type', 'num_of_cylinders', 'engine_size', 'fuel_system', 'bore', 'stroke',\n",
        "        'compression_ratio', 'horse_power', 'peak_rpm', 'city_mpg', 'highway_mpg', 'price']\n",
        "data = pd.read_csv('https://archive.ics.uci.edu/ml/machine-learning-databases/autos/imports-85.data', header=None, names=cols)\n",
        "\n",
        "data.head()"
      ],
      "execution_count": null,
      "outputs": []
    },
    {
      "cell_type": "code",
      "metadata": {
        "id": "km0oPGzlfuxB"
      },
      "source": [
        "data.shape"
      ],
      "execution_count": null,
      "outputs": []
    },
    {
      "cell_type": "markdown",
      "metadata": {
        "id": "nyvpvXRNXE6A"
      },
      "source": [
        "# Q1. data안의 모든 결측치는 '?'로 되어 있다. 모든 ?를 np.nan으로 바꾸시오.\n",
        "-----------------------------"
      ]
    },
    {
      "cell_type": "code",
      "metadata": {
        "id": "8fhyRNM2VZyW"
      },
      "source": [
        "####################\n",
        "## your code here ##\n",
        "####################\n",
        "\n",
        "data.replace(\"?\", np.nan, inplace = True)\n",
        "data.head()"
      ],
      "execution_count": null,
      "outputs": []
    },
    {
      "cell_type": "markdown",
      "metadata": {
        "id": "UVYWjRBVW5VV"
      },
      "source": [
        "# Q2. data의 컬럼들을 다음 조건에 맞추어 변환하시오.\n",
        "-------------------------\n",
        "* 대상 컬럼 : price, peak_rpm, horse_power, stroke, bore, normalized_losses \n",
        "* float64로 데이터 타입을 바꾼다.\n",
        "--------------------------"
      ]
    },
    {
      "cell_type": "code",
      "metadata": {
        "id": "cs74s6QnX47s"
      },
      "source": [
        "####################\n",
        "## your code here ##\n",
        "####################\n",
        "\n",
        "data[['normalized_losses', 'bore', 'stroke', 'horse_power', 'peak_rpm', 'price']] = data[['normalized_losses', 'bore', 'stroke', 'horse_power', 'peak_rpm', 'price']].astype(np.float64)"
      ],
      "execution_count": null,
      "outputs": []
    },
    {
      "cell_type": "code",
      "metadata": {
        "id": "7rvw3fwLfuxE"
      },
      "source": [
        "data.head(15)"
      ],
      "execution_count": null,
      "outputs": []
    },
    {
      "cell_type": "markdown",
      "metadata": {
        "id": "mOumdKHWZgvI"
      },
      "source": [
        "# Q3. data에서 price컬럼이 NaN인 row를 제거하고, 인덱스를 reset하시오.\n",
        "----------------"
      ]
    },
    {
      "cell_type": "code",
      "metadata": {
        "id": "usHfLvBcZ42B"
      },
      "source": [
        "####################\n",
        "## your code here ##\n",
        "####################\n",
        "\n",
        "data.drop(data[data['price'].isna()].index, inplace=True)\n",
        "data.reset_index(drop=True, inplace=True)\n",
        "\n",
        "'''\n",
        "x = data['price'].dropna(axis=0)\n",
        "data = data.loc[x.index]\n",
        "data.reset_index(drop=True, inplace=True)\n",
        "\n",
        "'''\n"
      ],
      "execution_count": null,
      "outputs": []
    },
    {
      "cell_type": "markdown",
      "metadata": {
        "id": "-cDCodvfacIp"
      },
      "source": [
        "# Q4. data를 트레이닝셋과 테스트셋으로 분할하시오.\n",
        "------------------\n",
        "* price 컬럼이 y, 나머지 컬럼이 x가 된다.\n",
        "* 변수명 규칙 :\n",
        "    - x_train, x_test, y_train, y_test\n",
        "* train : test = 8 : 2\n",
        "* random state, seed 등은 2021로 고정\n",
        "--------------------"
      ]
    },
    {
      "cell_type": "code",
      "metadata": {
        "id": "KAy9-35VaBPQ"
      },
      "source": [
        "####################\n",
        "## your code here ##\n",
        "####################\n",
        "\n",
        "from sklearn.model_selection import train_test_split as tts\n",
        "\n",
        "x_train, x_test, y_train, y_test = tts(data.drop(['price'], axis=1), data['price'], test_size=0.2, random_state=2021)"
      ],
      "execution_count": null,
      "outputs": []
    },
    {
      "cell_type": "markdown",
      "metadata": {
        "id": "JBU259uFbUAB"
      },
      "source": [
        "# Q5. data.info()를 확인하여 x안에 빈값이 있는 곳을 Imputing 하시오.\n",
        "----------------------\n",
        "* 모든 전처리 규칙은 트레이닝셋을 기준으로 찾는다.\n",
        "    - x_train, x_test 전부 imputing한다.\n",
        "* 데이터 타입이 object라면\n",
        "    - 카테고리 데이터 취급을 한다.\n",
        "    - 최빈값으로 imputing 한다.\n",
        "* 데이터 타입이 object가 아니라면\n",
        "    - 연속형 데이터 취급을 한다.\n",
        "    - 평균값으로 imputing 한다.\n",
        "-----------------------"
      ]
    },
    {
      "cell_type": "code",
      "metadata": {
        "id": "AV6ef8YHbYe9"
      },
      "source": [
        "####################\n",
        "## your code here ##\n",
        "####################\n",
        "\n",
        "from sklearn.impute import SimpleImputer\n",
        "\n",
        "imputer_num = SimpleImputer(strategy='mean')\n",
        "imputer_ca = SimpleImputer(strategy='most_frequent')\n",
        "\n",
        "num_cols = ['normalized_losses', 'bore', 'stroke', 'horse_power', 'peak_rpm']\n",
        "ca_cols = ['num_of_doors']\n",
        "\n",
        "x_train[ca_cols] = imputer_ca.fit_transform(x_train[ca_cols])\n",
        "x_train[num_cols] = imputer_num.fit_transform(x_train[num_cols])\n",
        "\n",
        "x_test[ca_cols] = imputer_ca.transform(x_test[ca_cols])\n",
        "x_test[num_cols] = imputer_num.transform(x_test[num_cols])"
      ],
      "execution_count": null,
      "outputs": []
    },
    {
      "cell_type": "markdown",
      "metadata": {
        "id": "UEtoBCyhdIYS"
      },
      "source": [
        "# Q6. 모든 x안의 카테고리 데이터를 더미변수들로 바꾸시오.\n",
        "---------------------\n",
        "* 모든 전처리 규칙은 트레닝셋을 기준으로 찾는다.\n",
        "* x_train.info()를 확인하여 object라면 카테고리 데이터 취급한다.\n",
        "    - 단, 'symboling'변수도 더미변수로 만든다.\n",
        "* 카테고리 데이터 안에 3개 클래스가 있다면, 2개 컬럼이 만들어져야 한다.\n",
        "* 원본 컬럼은 제거한다.\n",
        "* 더미 변수 제작 후, x_test의 컬럼들은 x_train의 컬럼과 같아야 한다.\n",
        "    - x_train에 없는 x_test의 컬럼은 제거를 해야 한다.\n",
        "    - x_train에만 있는 컬럼은 x_test에도 만들어야 한다.(0으로 채운다.)\n",
        "------------------------------"
      ]
    },
    {
      "cell_type": "code",
      "metadata": {
        "id": "KS37BcEwdg9k"
      },
      "source": [
        "####################\n",
        "## your code here ##\n",
        "####################\n",
        "\n",
        "x_train = pd.get_dummies(x_train, columns = ['symboling', 'make', 'fuel_type', 'aspiration',\n",
        "       'num_of_doors', 'body_style', 'drive_wheels', 'engine_location',\n",
        "       'engine_type', 'num_of_cylinders', 'fuel_system'], drop_first=True)\n",
        "\n",
        "x_test = pd.get_dummies(x_test, columns = ['symboling', 'make', 'fuel_type', 'aspiration',\n",
        "       'num_of_doors', 'body_style', 'drive_wheels', 'engine_location',\n",
        "       'engine_type', 'num_of_cylinders', 'fuel_system'], drop_first=True)\n",
        "\n",
        "temp = pd.DataFrame()\n",
        "\n",
        "for col in x_train.columns :\n",
        "    try :\n",
        "        temp[col] = x_test[col]\n",
        "    except :\n",
        "        temp[col] = 0\n",
        "x_test = temp"
      ],
      "execution_count": null,
      "outputs": []
    },
    {
      "cell_type": "markdown",
      "metadata": {
        "id": "9y0RT02lgP5Y"
      },
      "source": [
        "# Q7. 선형회귀 모델을 학습시키시오.\n",
        "---------------------\n",
        "* 모델을 lr에 선언하시오.\n",
        "---------------------"
      ]
    },
    {
      "cell_type": "code",
      "metadata": {
        "id": "J4WwLJ9LgXOT"
      },
      "source": [
        "####################\n",
        "## your code here ##\n",
        "####################\n",
        "from sklearn.linear_model import LinearRegression\n",
        "\n",
        "lr = LinearRegression()\n",
        "lr.fit(x_train, y_train)"
      ],
      "execution_count": null,
      "outputs": []
    },
    {
      "cell_type": "markdown",
      "metadata": {
        "id": "54NCfEZLggEb"
      },
      "source": [
        "# Q8. 트레이닝셋에서, 'aspiration_turbo'가 1인 경우만을 이용하여 선형회귀 모델을 학습시키시오.\n",
        "----------------\n",
        "* 모델을 lr_turbo 에 선언하시오.\n",
        "* 전처리 방식에 따라서 aspiration_std가 0인 경우를 골라야할 수도 있다.\n",
        "--------------"
      ]
    },
    {
      "cell_type": "code",
      "metadata": {
        "id": "spoUS9ODhNgv"
      },
      "source": [
        "####################\n",
        "## your code here ##\n",
        "####################\n",
        "from sklearn.linear_model import LinearRegression\n",
        "\n",
        "lr_turbo = LinearRegression()\n",
        "\n",
        "x_train_t = x_train[x_train['aspiration_turbo']==1]\n",
        "y_train_t = y_train[x_train['aspiration_turbo']==1]\n",
        "\n",
        "lr_turbo.fit(x_train_t, y_train_t)\n"
      ],
      "execution_count": null,
      "outputs": []
    },
    {
      "cell_type": "markdown",
      "metadata": {
        "id": "NI0OnIaGh73d"
      },
      "source": [
        "# Q9. 트레이닝셋에서, 'aspiration_turbo'가 0인 경우만을 이용하여 선형회귀 모델을 학습시키시오.\n",
        "----------------\n",
        "* 모델을 lr_std 에 선언하시오.\n",
        "* 전처리 방식에 따라서 aspiration_std가 1인 경우를 골라야할 수도 있다.\n",
        "--------------"
      ]
    },
    {
      "cell_type": "code",
      "metadata": {
        "id": "EXlrpRgJh73d"
      },
      "source": [
        "####################\n",
        "## your code here ##\n",
        "####################\n",
        "from sklearn.linear_model import LinearRegression\n",
        "\n",
        "lr_std = LinearRegression()\n",
        "\n",
        "x_train_s = x_train[x_train['aspiration_turbo']==0]\n",
        "y_train_s = y_train[x_train['aspiration_turbo']==0]\n",
        "\n",
        "lr_std.fit(x_train_s, y_train_s)\n"
      ],
      "execution_count": null,
      "outputs": []
    },
    {
      "cell_type": "markdown",
      "metadata": {
        "id": "g6k9Uf4SiI9K"
      },
      "source": [
        "# Q10. lr, lr_turbo, lr_std 를 테스트셋 위에서 평가하시오.\n",
        "--------------------\n",
        "* RMSE를 출력한다.\n",
        "* lr_turbo는 테스트셋에서, aspiration_turbo가 1인 경우만을 이용하여 평가한다.\n",
        "* lr_std는 테스트셋에서, aspiration_turbo가 0인 경우만을 이용하여 평가한다.\n",
        "-----------------------------------------------"
      ]
    },
    {
      "cell_type": "code",
      "metadata": {
        "id": "mlim2nyBiYPl"
      },
      "source": [
        "####################\n",
        "## your code here ##\n",
        "####################\n",
        "from sklearn.metrics import mean_squared_error as MSE\n",
        "\n",
        "x_test_t = x_test[x_test['aspiration_turbo']==1]\n",
        "y_test_t = y_test[x_test['aspiration_turbo']==1]\n",
        "\n",
        "x_test_s = x_test[x_test['aspiration_turbo']==0]\n",
        "y_test_s = y_test[x_test['aspiration_turbo']==0]\n",
        "\n",
        "y_pred = lr.predict(x_test)\n",
        "y_pred_t = lr_turbo.predict(x_test_t)\n",
        "y_pred_s = lr_std.predict(x_test_s)\n",
        "\n",
        "rmse = MSE(y_test, y_pred)**.5\n",
        "rmse_turbo = MSE(y_test_t, y_pred_t)**.5\n",
        "rmse_std = MSE(y_test_s, y_pred_s)**.5\n",
        "\n",
        "print(f\"전체 모델의 RMSE : {rmse:.4f}\")\n",
        "print(f\"터보 모델의 RMSE : {rmse_turbo:.4f}\")\n",
        "print(f\"std 모델의 RMSE : {rmse_std:.4f}\")\n"
      ],
      "execution_count": null,
      "outputs": []
    },
    {
      "cell_type": "code",
      "metadata": {
        "id": "f1fJ5oKkfuxJ"
      },
      "source": [
        ""
      ],
      "execution_count": null,
      "outputs": []
    }
  ]
}