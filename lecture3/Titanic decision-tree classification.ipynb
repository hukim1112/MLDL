{
  "nbformat": 4,
  "nbformat_minor": 0,
  "metadata": {
    "colab": {
      "name": "(sol)Problem_02(머신러닝).ipynb",
      "provenance": [],
      "collapsed_sections": []
    },
    "kernelspec": {
      "display_name": "Python 3",
      "language": "python",
      "name": "python3"
    },
    "language_info": {
      "codemirror_mode": {
        "name": "ipython",
        "version": 3
      },
      "file_extension": ".py",
      "mimetype": "text/x-python",
      "name": "python",
      "nbconvert_exporter": "python",
      "pygments_lexer": "ipython3",
      "version": "3.6.9"
    }
  },
  "cells": [
    {
      "cell_type": "markdown",
      "metadata": {
        "id": "QFu6BpI3ImCg"
      },
      "source": [
        "# **Titanic 데이터를 이용한 <span style=\"color:darkgreen\">머신러닝</span> 문제**\n",
        "---"
      ]
    },
    {
      "cell_type": "markdown",
      "metadata": {
        "id": "YjQkc3VKsho0"
      },
      "source": [
        "> **<span style=\"color:red\">다음 문항을 풀기 전에 </span>아래 코드를 실행하시오.**<br>\n",
        "> 반드시 코드와 주석을 읽고 문제를 푸시오. <br>\n",
        "> 반드시 출력된 데이터 설명을 읽고 문제를 푸시오.\n",
        "\n",
        "---\n",
        "\n"
      ]
    },
    {
      "cell_type": "code",
      "metadata": {
        "id": "C9eLCghiKAul"
      },
      "source": [
        "import numpy as np\n",
        "import pandas as pd\n",
        "import matplotlib.pyplot as plt\n",
        "from sklearn.datasets import fetch_openml\n",
        "\n",
        "x, y = fetch_openml(\"titanic\", version=1, as_frame=True, return_X_y=True)\n",
        "\n",
        "print( x.shape, y.shape)\n",
        "print(y[:4])\n",
        "x.head()"
      ],
      "execution_count": null,
      "outputs": []
    },
    {
      "cell_type": "markdown",
      "metadata": {
        "id": "TMGU532GBerx"
      },
      "source": [
        "# **Q1. x에서 다음의 컬럼을 삭제하시오.**\n",
        "---------------------------------\n",
        "**삭제할 컬럼들**\n",
        "1. name\n",
        "2. ticket\n",
        "2. boat\n",
        "3. body\n",
        "4. home.dest\n",
        "---------------------------"
      ]
    },
    {
      "cell_type": "code",
      "metadata": {
        "id": "k6x4Hc09N1X8"
      },
      "source": [
        "####################\n",
        "## Your code here ##\n",
        "####################\n",
        "\n",
        "x.drop(['name','ticket', 'boat', 'body', 'home.dest'], axis=1, inplace=True)\n",
        "x.head(3)"
      ],
      "execution_count": null,
      "outputs": []
    },
    {
      "cell_type": "markdown",
      "metadata": {
        "id": "5gwJ-yZrpKR7"
      },
      "source": [
        "# Q2. x의 cabin 컬럼을 다음 조건에 맞추어 변형하시오.\n",
        "-------------------\n",
        "* 값의 맨 앞글자만 남긴다.\n",
        "    * 예시) C22 C26 -> C\n",
        "    * 예시) B5 -> B\n",
        "* 값이 빈값일 경우, 'N'을 남긴다.\n",
        "--------------------"
      ]
    },
    {
      "cell_type": "code",
      "metadata": {
        "id": "cAuRxyjRp2QY"
      },
      "source": [
        "####################\n",
        "## Your code here ##\n",
        "####################\n",
        "x.loc[ x['cabin'].isna(), 'cabin'] = 'N'\n",
        "temp = [ cabin[0] for cabin in x['cabin'] ]\n",
        "x['cabin'] = temp\n",
        "\n",
        "x.head(3)"
      ],
      "execution_count": null,
      "outputs": []
    },
    {
      "cell_type": "markdown",
      "metadata": {
        "id": "UTgMqQJUx_cb"
      },
      "source": [
        "# Q3. 다음 조건에 맞추어 x에 새로운 컬럼 fs를 만드시오.\n",
        "-------------------\n",
        "* sibsp와 parch의 합을 기준으로\n",
        "    - 1이하 : 'a' 를 값으로 갖는다.\n",
        "    - 1초과 4이하 : 'b' 를 값으로 갖는다.\n",
        "    - 4초과 : 'c' 를 값으로 갖는다.\n",
        "----------------"
      ]
    },
    {
      "cell_type": "code",
      "metadata": {
        "id": "VyzPE0zfx_cb"
      },
      "source": [
        "####################\n",
        "## Your code here ##\n",
        "####################\n",
        "temp = x['sibsp'] + x['parch']\n",
        "temp = pd.cut(temp, bins=[-1, 1, 4, np.inf], labels=['a','b','c'])\n",
        "x['fs'] = temp\n",
        "\n",
        "x.head(3)"
      ],
      "execution_count": null,
      "outputs": []
    },
    {
      "cell_type": "markdown",
      "metadata": {
        "id": "Fp3Zu8kUyyCJ"
      },
      "source": [
        "# Q4. x와 y를 트레이닝/벨리데이션/테스트 셋으로 분리하시오.\n",
        "----------------------\n",
        "* 변수명 규칙 :\n",
        "    - x_train, x_valid, x_test\n",
        "    - y_train, y_valid, y_test\n",
        "* train : valid : test = 6 : 2 : 2\n",
        "* random state, seed 등은 2021로 고정\n",
        "------------------------"
      ]
    },
    {
      "cell_type": "code",
      "metadata": {
        "id": "d_vv3Z8Jzim7"
      },
      "source": [
        "####################\n",
        "## Your code here ##\n",
        "####################\n",
        "from sklearn.model_selection import train_test_split as tts\n",
        "\n",
        "x_train, x_test, y_train, y_test = tts(x, y, test_size=0.2, random_state=2021)\n",
        "x_train, x_valid, y_train, y_valid = tts(x_train, y_train, test_size=2/8, random_state = 2021)"
      ],
      "execution_count": null,
      "outputs": []
    },
    {
      "cell_type": "markdown",
      "metadata": {
        "id": "HQRUm3h_z2AF"
      },
      "source": [
        "# Q5. 카테고리 데이터들에 빈값이 있다면, 최빈값을 찾아 imputing하시오.\n",
        "----------------------------\n",
        "* 모든 전처리 규칙은 트레이닝 셋을 바탕으로 찾는다.\n",
        "* 대상 컬럼 : pclass, cabin, embarked\n",
        "* 모든 x들에 대해 진행\n",
        "----------------------------"
      ]
    },
    {
      "cell_type": "code",
      "metadata": {
        "id": "rm9WsBM30DXP"
      },
      "source": [
        "####################\n",
        "## Your code here ##\n",
        "####################\n",
        "from sklearn.impute import SimpleImputer\n",
        "\n",
        "imputer = SimpleImputer(strategy='most_frequent')\n",
        "\n",
        "x_train[['pclass', 'cabin', 'embarked']] = imputer.fit_transform(x_train[['pclass', 'cabin', 'embarked']])\n",
        "x_valid[['pclass', 'cabin', 'embarked']] = imputer.transform( x_valid[['pclass', 'cabin', 'embarked']] )\n",
        "x_test[['pclass', 'cabin', 'embarked']] = imputer.transform( x_test[['pclass', 'cabin', 'embarked']] )"
      ],
      "execution_count": null,
      "outputs": []
    },
    {
      "cell_type": "markdown",
      "metadata": {
        "id": "mZHMwrc5EreJ"
      },
      "source": [
        "# Q6. 연속형 데이터들에 빈값이 있다면, 중앙값을 찾아 imputing하시오.\n",
        "----------------------------\n",
        "* 모든 전처리 규칙은 트레이닝 셋을 바탕으로 찾는다.\n",
        "* 대상 컬럼 : age, fare\n",
        "* 모든 x들에 대해 진행\n",
        "----------------------------"
      ]
    },
    {
      "cell_type": "code",
      "metadata": {
        "id": "0zQ2Yrx9EreK"
      },
      "source": [
        "####################\n",
        "## Your code here ##\n",
        "####################\n",
        "from sklearn.impute import SimpleImputer\n",
        "\n",
        "imputer2 = SimpleImputer(strategy='median')\n",
        "\n",
        "x_train[['age', 'fare']] = imputer2.fit_transform(x_train[['age', 'fare']])\n",
        "x_valid[['age', 'fare']] = imputer2.transform( x_valid[['age', 'fare']] )\n",
        "x_test[['age', 'fare']] = imputer2.transform( x_test[['age', 'fare']] )"
      ],
      "execution_count": null,
      "outputs": []
    },
    {
      "cell_type": "markdown",
      "metadata": {
        "id": "33L8AOKB6GGq"
      },
      "source": [
        "# Q7. 카테고리 데이터들을 dummy 변수화 하시오.\n",
        "-------------------------------\n",
        "* 모든 전처리 규칙은 트레이닝셋을 바탕으로 찾는다.\n",
        "* 대상 컬럼 : pclass, cabin, embarked, fs, sex\n",
        "* 더미변수를 만든 후, 원본 변수는 삭제한다.\n",
        "* 모든 x들에 대해 진행\n",
        "* 카테고리 안에 4개 클래스가 있다면, 3개 컬럼이 만들어져야 한다.\n",
        "* x_valid와 x_test의 컬럼들은 x_train의 컬럼과 종류와 순서가 같아야 한다.\n",
        "-------------------------------"
      ]
    },
    {
      "cell_type": "code",
      "metadata": {
        "id": "7pkUczKAHFMr"
      },
      "source": [
        "####################\n",
        "## Your code here ##\n",
        "####################\n",
        "x_train = pd.get_dummies(x_train, columns=['pclass', 'cabin', 'embarked', 'fs', 'sex'], drop_first= True)\n",
        "x_valid = pd.get_dummies(x_valid, columns=['pclass', 'cabin', 'embarked', 'fs', 'sex'], drop_first= True)\n",
        "x_test = pd.get_dummies(x_test, columns=['pclass', 'cabin', 'embarked', 'fs', 'sex'], drop_first= True)\n",
        "\n",
        "x_valid = x_valid[x_train.columns]\n",
        "x_test = x_test[x_train.columns]"
      ],
      "execution_count": null,
      "outputs": []
    },
    {
      "cell_type": "code",
      "metadata": {
        "id": "9ca30yjWNeWn"
      },
      "source": [
        "x_train.head()"
      ],
      "execution_count": null,
      "outputs": []
    },
    {
      "cell_type": "markdown",
      "metadata": {
        "id": "Ed8itOdVItVd"
      },
      "source": [
        "# Q8. 다음 조건에 맞추어 의사결정나무들을 학습시키시오.\n",
        "-----------------------\n",
        "* max depth는 3으로 고정한다.\n",
        "* min samples leaf 1개짜리 나무부터 1개씩 늘려서 min samples leaf가 30개인 나무까지, 총 30개의 의사결정 나무를 학습시킨다.\n",
        "* 학습된 의사결정나무들은 trees 변수에 리스트로 담아둔다.\n",
        "-----------------------"
      ]
    },
    {
      "cell_type": "code",
      "metadata": {
        "id": "3vwCdImWJFOq"
      },
      "source": [
        "####################\n",
        "## Your code here ##\n",
        "####################\n",
        "\n",
        "from sklearn.tree import DecisionTreeClassifier\n",
        "\n",
        "trees = []\n",
        "\n",
        "for i in range(1, 31):\n",
        "    dtr = DecisionTreeClassifier(max_depth=3, min_samples_leaf=i)\n",
        "    dtr.fit(x_train, y_train)\n",
        "    trees.append(dtr)"
      ],
      "execution_count": null,
      "outputs": []
    },
    {
      "cell_type": "markdown",
      "metadata": {
        "id": "U9se0W3HNZl4"
      },
      "source": [
        "# Q9. 학습된 의사결정나무들의 성능을 벨리데이션셋에서 시각화 하시오.\n",
        "-------------------\n",
        "* y가 1 (생존)일 때를 positive, 0 (사망)일 때를 negative로 둔다.\n",
        "* 벨리데이션 셋에서 sensitivity를 계산하여 시각화 한다.\n",
        "* x축은 min sample leaf의 수, y축은 sensitivity\n",
        "* line chart를 그린다.\n",
        "* grid line을 추가한다.\n",
        "--------------------"
      ]
    },
    {
      "cell_type": "code",
      "metadata": {
        "id": "H5wWaaSeOm06"
      },
      "source": [
        "####################\n",
        "## Your code here ##\n",
        "####################\n",
        "\n",
        "sensitivities = []\n",
        "\n",
        "for i in range(1, 31):\n",
        "    dtr = trees[i-1]\n",
        "    y_pred = dtr.predict(x_valid)\n",
        "\n",
        "    denominator = y_valid.astype(int).sum()\n",
        "    numerator = y_pred[y_valid == \"1\"].astype(int).sum()\n",
        "\n",
        "    sensitivities.append( numerator/denominator   )\n",
        "\n",
        "plt.figure(figsize=(10,6))\n",
        "plt.plot(range(1,31), sensitivities)\n",
        "plt.grid()\n",
        "plt.show()"
      ],
      "execution_count": null,
      "outputs": []
    },
    {
      "cell_type": "markdown",
      "metadata": {
        "id": "tId31K0HPhdh"
      },
      "source": [
        "# Q10. Q9를 참고하여 가장 성능 좋은 (동일 성능이라면 가장 min sample leaf가 큰) 나무를 골라 테스트셋 위에서 평가하시오.\n",
        "----------------\n",
        "1. accuracy를 주석으로 명시하시오.\n",
        "2. 1을 positive로 두었을 때, sensitivity를 주석으로 명시하시오.\n",
        "3. 1을 positive로 두었을 때, specificity를 주석으로 명시하시오."
      ]
    },
    {
      "cell_type": "code",
      "metadata": {
        "id": "m9CD7H_gQe48"
      },
      "source": [
        "####################\n",
        "## Your code here ##\n",
        "####################\n",
        "\n",
        "from sklearn.metrics import classification_report\n",
        "\n",
        "best_tree = trees[24]\n",
        "y_pred = best_tree.predict(x_test)\n",
        "\n",
        "print(classification_report(y_test, y_pred, target_names=['negative', 'positive']))\n",
        "\n",
        "# accuracy : 83%\n",
        "# sensitivity : 81% \n",
        "# specificity : 84%\n",
        "\n",
        "'''\n",
        "Note that in binary classification, \n",
        "recall of the positive class is also known as “sensitivity”; \n",
        "recall of the negative class is “specificity”.\n",
        "'''"
      ],
      "execution_count": null,
      "outputs": []
    },
    {
      "cell_type": "code",
      "metadata": {
        "id": "p6LEnoebFD9X"
      },
      "source": [
        ""
      ],
      "execution_count": null,
      "outputs": []
    }
  ]
}