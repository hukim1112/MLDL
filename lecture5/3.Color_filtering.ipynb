{
  "nbformat": 4,
  "nbformat_minor": 0,
  "metadata": {
    "kernelspec": {
      "display_name": "Python 3",
      "language": "python",
      "name": "python3"
    },
    "language_info": {
      "codemirror_mode": {
        "name": "ipython",
        "version": 3
      },
      "file_extension": ".py",
      "mimetype": "text/x-python",
      "name": "python",
      "nbconvert_exporter": "python",
      "pygments_lexer": "ipython3",
      "version": "3.6.7"
    },
    "colab": {
      "name": "3.Color_filtering.ipynb",
      "provenance": []
    }
  },
  "cells": [
    {
      "cell_type": "code",
      "metadata": {
        "id": "EYFAANBwvqW8"
      },
      "source": [
        "#github repository sync in google colab\n",
        "import os\n",
        "try:\n",
        "  # Colab only\n",
        "  !git clone https://github.com/hukim1112/MLDL.git\n",
        "  os.chdir('/content/MLDL/lecture5')      \n",
        "except Exception:\n",
        "  pass"
      ],
      "execution_count": null,
      "outputs": []
    },
    {
      "cell_type": "code",
      "metadata": {
        "id": "jkA4uSdQvqXD"
      },
      "source": [
        "import numpy as np\n",
        "import cv2\n",
        "from matplotlib import pyplot as plt\n",
        "import os\n",
        "from IPython.display import clear_output\n",
        "from IPython.display import Image\n",
        "%pylab inline"
      ],
      "execution_count": null,
      "outputs": []
    },
    {
      "cell_type": "markdown",
      "metadata": {
        "id": "JM69tIy1vqXI"
      },
      "source": [
        "# RGB and HSV colorspace\n",
        "<div id=\"header\">\n",
        "  <img src=\"https://docs.opencv.org/3.4/Threshold_inRange_RGB_colorspace.jpg\" width=\"400\" height=\"300\" alt=\"Image3\" class=\"left\" />\n",
        "  <img src=\"https://docs.opencv.org/3.4/Threshold_inRange_HSV_colorspace.jpg\" width=\"400\" height=\"300\" alt=\"Image1\" class=\"right\" />\n",
        "</div>"
      ]
    },
    {
      "cell_type": "markdown",
      "metadata": {
        "id": "biM58bvTvqXJ"
      },
      "source": [
        "# Color Filtering"
      ]
    },
    {
      "cell_type": "code",
      "metadata": {
        "id": "Sz2C42CcvqXK"
      },
      "source": [
        "rose = cv2.imread('data/blue_rose.jpg')[:,:,::-1]\n",
        "rose_hsv = cv2.cvtColor(rose, cv2.COLOR_RGB2HSV) # convert the image from rgb to hsv. \n",
        "lower_bound = np.array([100,50,50]) # lower bound : h=101, s=50, v=50\n",
        "upper_bound = np.array([130,255,255]) # upper bound : h=139, s=255, v=255\n",
        "mask = cv2.inRange(rose_hsv, lower_bound, upper_bound)\n",
        "res = cv2.bitwise_and(rose,rose, mask= mask)"
      ],
      "execution_count": null,
      "outputs": []
    },
    {
      "cell_type": "code",
      "metadata": {
        "id": "yE5HE75avqXN"
      },
      "source": [
        "plt.figure()\n",
        "plt.subplot(121)\n",
        "plt.imshow(rose)\n",
        "plt.subplot(122)\n",
        "plt.imshow(mask, cmap='gray')\n",
        "plt.imshow(res)"
      ],
      "execution_count": null,
      "outputs": []
    },
    {
      "cell_type": "markdown",
      "metadata": {
        "id": "rPIo7n4avqXR"
      },
      "source": [
        "## Color Filtering practice\n",
        "\n",
        "### 2.1 Read image"
      ]
    },
    {
      "cell_type": "code",
      "metadata": {
        "id": "6EzkYU9dvqXT"
      },
      "source": [
        "image_name = 'rock_scissors_paper.jpg' # put the name of a image you want to process\n",
        "path = os.path.join('data/color_filter', image_name)\n",
        "img = cv2.imread(path)[:,:,::-1]\n",
        "plt.imshow(img)"
      ],
      "execution_count": null,
      "outputs": []
    },
    {
      "cell_type": "markdown",
      "metadata": {
        "id": "Yyedndw0vqXX"
      },
      "source": [
        "### 2.2 Convert it into hsv color space and draw color histogram"
      ]
    },
    {
      "cell_type": "markdown",
      "metadata": {
        "id": "QA0eeuO5vqXX"
      },
      "source": [
        "<p align=\"center\">\n",
        "    <img src=\"https://github.com/hukim1112/DLCV_CLASS/blob/master/lecture3/img/HSV_color_solid_cone.png?raw=true\" width=600></br>\n",
        "</p>"
      ]
    },
    {
      "cell_type": "code",
      "metadata": {
        "id": "NjtVLxSdvqXY"
      },
      "source": [
        "hsv = cv2.cvtColor(img, cv2.COLOR_RGB2HSV) # convert the image from rgb to hsv.\n",
        "print(\"shape of RGB : {} and shape of hsv : {}\".format(img.shape, hsv.shape))"
      ],
      "execution_count": null,
      "outputs": []
    },
    {
      "cell_type": "code",
      "metadata": {
        "id": "EBf-ZPoLvqXb"
      },
      "source": [
        "## gray scale hist \n",
        "hist = cv2.calcHist([hsv[:,:,0]], [0], mask = None, histSize = [181], ranges = [0, 181])\n",
        "plt.plot(hist)\n",
        "plt.xlim([0, 181])"
      ],
      "execution_count": null,
      "outputs": []
    },
    {
      "cell_type": "markdown",
      "metadata": {
        "id": "cEzC-QAevqXm"
      },
      "source": [
        "### 2.3 Filtering out pixels on out of boundaries."
      ]
    },
    {
      "cell_type": "code",
      "metadata": {
        "id": "Odk8zxiyvqXn"
      },
      "source": [
        "lower_bound = ?\n",
        "upper_bound = ?\n",
        "mask = cv2.inRange(hsv, lower_bound, upper_bound)\n",
        "res = cv2.bitwise_and(img,img, mask= mask)"
      ],
      "execution_count": null,
      "outputs": []
    },
    {
      "cell_type": "code",
      "metadata": {
        "id": "NPayVReXvqXp"
      },
      "source": [
        "plt.figure()\n",
        "plt.subplot(131)\n",
        "plt.imshow(img)\n",
        "plt.subplot(132)\n",
        "plt.imshow(mask, cmap='gray')\n",
        "plt.subplot(133)\n",
        "plt.imshow(res, cmap='gray')\n",
        "plt.show()"
      ],
      "execution_count": null,
      "outputs": []
    },
    {
      "cell_type": "markdown",
      "metadata": {
        "id": "67fioP47vqXs"
      },
      "source": [
        "# 3. Convolutional Filtering"
      ]
    },
    {
      "cell_type": "markdown",
      "metadata": {
        "id": "KNTIjzgrvqXt"
      },
      "source": [
        "### 3.1 Bluring with average filter"
      ]
    },
    {
      "cell_type": "code",
      "metadata": {
        "id": "JPAPTFUCvqXu"
      },
      "source": [
        "blur_mask = cv2.medianBlur(mask, 3)\n",
        "plt.imshow(blur_mask, cmap='gray')"
      ],
      "execution_count": null,
      "outputs": []
    },
    {
      "cell_type": "markdown",
      "metadata": {
        "id": "hgrO1awnvqXx"
      },
      "source": [
        "### Edge detection with Canny edge detecting algorithm(combination of two sobel filters)"
      ]
    },
    {
      "cell_type": "code",
      "metadata": {
        "id": "OQda3RcpvqXy"
      },
      "source": [
        "edge_mask = cv2.Canny(blur_mask, 30, 30*3)\n",
        "plt.imshow(edge_mask, cmap='gray')"
      ],
      "execution_count": null,
      "outputs": []
    },
    {
      "cell_type": "markdown",
      "metadata": {
        "id": "IFjCjuEMvqX0"
      },
      "source": [
        "### FindContours algorithm"
      ]
    },
    {
      "cell_type": "code",
      "metadata": {
        "id": "Yv1DibgsvqX1"
      },
      "source": [
        "_, contours, hierarchy = cv2.findContours(edge_mask.copy(), cv2.RETR_EXTERNAL, cv2.CHAIN_APPROX_SIMPLE)"
      ],
      "execution_count": null,
      "outputs": []
    },
    {
      "cell_type": "code",
      "metadata": {
        "id": "TVLadT9-wRsJ"
      },
      "source": [
        "print(len(contours))"
      ],
      "execution_count": null,
      "outputs": []
    },
    {
      "cell_type": "code",
      "metadata": {
        "id": "tj55i1gJvu0v"
      },
      "source": [
        "new_contour = []\n",
        "for contour in contours:\n",
        "  if cv2.contourArea(contour) > 200:\n",
        "    new_contour.append(contour)\n",
        "print(len(new_contour))"
      ],
      "execution_count": null,
      "outputs": []
    },
    {
      "cell_type": "code",
      "metadata": {
        "id": "E4W7glGivqX3"
      },
      "source": [
        "plt.figure()\n",
        "plt.subplot(221)\n",
        "plt.imshow(cv2.drawContours(img.copy(), new_contour, 0, (0, 0, 0), 3))\n",
        "plt.subplot(222)\n",
        "plt.imshow(cv2.drawContours(img.copy(), new_contour, 1, (0, 0, 0), 3))\n",
        "plt.subplot(223)\n",
        "plt.imshow(cv2.drawContours(img.copy(), new_contour, 2, (0, 0, 0), 3))"
      ],
      "execution_count": null,
      "outputs": []
    },
    {
      "cell_type": "code",
      "metadata": {
        "id": "a72-ojTIvqX6"
      },
      "source": [
        ""
      ],
      "execution_count": null,
      "outputs": []
    },
    {
      "cell_type": "code",
      "metadata": {
        "id": "WiO671jPvqX8"
      },
      "source": [
        ""
      ],
      "execution_count": null,
      "outputs": []
    }
  ]
}