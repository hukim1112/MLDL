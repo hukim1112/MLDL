{
  "nbformat": 4,
  "nbformat_minor": 0,
  "metadata": {
    "kernelspec": {
      "display_name": "Python 3",
      "language": "python",
      "name": "python3"
    },
    "language_info": {
      "codemirror_mode": {
        "name": "ipython",
        "version": 3
      },
      "file_extension": ".py",
      "mimetype": "text/x-python",
      "name": "python",
      "nbconvert_exporter": "python",
      "pygments_lexer": "ipython3",
      "version": "3.6.7"
    },
    "colab": {
      "name": "1.opencv_tutorial.ipynb",
      "provenance": []
    }
  },
  "cells": [
    {
      "cell_type": "code",
      "metadata": {
        "id": "WS9b5j8C-uy8"
      },
      "source": [
        "#github repository sync in google colab\n",
        "import os\n",
        "try:\n",
        "  # Colab only\n",
        "  !git clone https://github.com/hukim1112/MLDL.git\n",
        "  os.chdir('/content/MLDL/lecture5')      \n",
        "except Exception:\n",
        "  pass"
      ],
      "execution_count": null,
      "outputs": []
    },
    {
      "cell_type": "code",
      "metadata": {
        "id": "RrNiNx5A-uzA"
      },
      "source": [
        "import numpy as np\n",
        "import cv2\n",
        "from matplotlib import pyplot as plt\n",
        "from IPython.display import clear_output\n",
        "from IPython.display import Image\n",
        "%pylab inline"
      ],
      "execution_count": null,
      "outputs": []
    },
    {
      "cell_type": "markdown",
      "metadata": {
        "id": "Cb7jy7yb-uzB"
      },
      "source": [
        "## About OpenCV\n",
        "OpenCV(Open Source Computer Vision)은 실시간 컴퓨터 비전을 목적으로 한 프로그래밍 라이브러리이다. 원래는 인텔이 개발하였다. 실시간 이미지 프로세싱에 중점을 둔 라이브러리이다. 인텔 CPU에서 사용되는 경우 속도의 향상을 볼 수 있는 IPP(Intel Performance Primitives)를 지원한다. 이 라이브러리는 윈도우, 리눅스 등에서 사용 가능한 크로스 플랫폼이며 오픈소스 BSD 허가서 하에서 무료로 사용할 수 있다. OpenCV는 TensorFlow , Torch / PyTorch 및 Caffe의 딥러닝 프레임워크를 지원한다.\n",
        "\n",
        "## opencv tutorial\n",
        "https://docs.opencv.org/3.0-beta/doc/py_tutorials/py_tutorials.html"
      ]
    },
    {
      "cell_type": "markdown",
      "metadata": {
        "id": "yc-Wn_sS-uzC"
      },
      "source": [
        "## 1. read/write color images\n",
        "\n",
        "it is pretty safe to assume that opencv always represent images as uint8 (ubyte) ndarray"
      ]
    },
    {
      "cell_type": "code",
      "metadata": {
        "id": "PiRale6k-uzD"
      },
      "source": [
        "## RGB images - BGR to RGB\n",
        "beach = cv2.imread(\"data/beach.jpg\")[:,:,::-1]\n",
        "print('type :', beach.__class__)\n",
        "print('shape :', beach.shape)\n",
        "print('min and max :', beach.min(), beach.max())\n",
        "plt.imshow(beach)"
      ],
      "execution_count": null,
      "outputs": []
    },
    {
      "cell_type": "markdown",
      "metadata": {
        "id": "pMzn3E_F-uzD"
      },
      "source": [
        "## 2. Image split\n",
        "numpy array는 indexing을 통해 slicing이 가능하다.\n",
        "\n",
        "sliced_arr = arr[row1:row2, col1:col2, channel1:channel2]"
      ]
    },
    {
      "cell_type": "code",
      "metadata": {
        "id": "bDR5vXz3_3Lw"
      },
      "source": [
        "new_beach = beach[50:200, 150:300]\n",
        "plt.imshow(new_beach)"
      ],
      "execution_count": null,
      "outputs": []
    },
    {
      "cell_type": "markdown",
      "metadata": {
        "id": "U4Uy2FJJ-uzE"
      },
      "source": [
        "# 3. Manipulate pixels"
      ]
    },
    {
      "cell_type": "code",
      "metadata": {
        "id": "sQzkh21v-uzF"
      },
      "source": [
        "## manipulate pixles - cv2 store them as bgr instead of rgb\n",
        "imm = beach.copy()\n",
        "imm[:, :, 2] = 255\n",
        "plt.imshow(imm)"
      ],
      "execution_count": null,
      "outputs": []
    },
    {
      "cell_type": "code",
      "metadata": {
        "id": "wYe7xcnO-uzG"
      },
      "source": [
        "## assign specific RGB values to some pixels\n",
        "imm = beach.copy()\n",
        "imm[:100, :50] = (255, 0, 0) # red corner\n",
        "plt.imshow(imm)"
      ],
      "execution_count": null,
      "outputs": []
    },
    {
      "cell_type": "markdown",
      "metadata": {
        "id": "ELmIFvlL-uzG"
      },
      "source": [
        "## 4. read gray images"
      ]
    },
    {
      "cell_type": "code",
      "metadata": {
        "id": "GpPavfBR-uzG"
      },
      "source": [
        "## gray scale - either load it directly\n",
        "beach_gray = cv2.imread(\"data/beach.jpg\", cv2.IMREAD_GRAYSCALE)\n",
        "\n",
        "## or convert later - note beach is RGB now\n",
        "beach_gray_converted = cv2.cvtColor(beach, cv2.COLOR_RGB2GRAY)\n",
        "\n",
        "## there are slight differences between the two versions\n",
        "fig, axes = plt.subplots(1, 2, figsize = (10, 5))\n",
        "axes[0].imshow(beach_gray, cmap = plt.cm.gray)\n",
        "axes[1].imshow(beach_gray_converted, cmap = plt.cm.gray)"
      ],
      "execution_count": null,
      "outputs": []
    },
    {
      "cell_type": "markdown",
      "metadata": {
        "id": "JpyHb_ZfAcrx"
      },
      "source": [
        "# 5. Write your image to a file"
      ]
    },
    {
      "cell_type": "code",
      "metadata": {
        "id": "GCA0kbd2-uzH"
      },
      "source": [
        "## save and convert to different formats - Notice it assumes BGR\n",
        "cv2.imwrite(\"beach_new.jpg\", beach[:,:,::-1])"
      ],
      "execution_count": null,
      "outputs": []
    },
    {
      "cell_type": "markdown",
      "metadata": {
        "id": "lMnfNLEC-uzH"
      },
      "source": [
        "## 6. drawing on images"
      ]
    },
    {
      "cell_type": "code",
      "metadata": {
        "id": "f9VfQ3ky-uzI"
      },
      "source": [
        "sunny_beach = beach.copy()\n",
        "cv2.circle(sunny_beach, (50, 50), 7, color = (255, 215, 0), thickness = -1, )\n",
        "plt.imshow(sunny_beach)"
      ],
      "execution_count": null,
      "outputs": []
    },
    {
      "cell_type": "code",
      "metadata": {
        "id": "39PnbyM--uzI"
      },
      "source": [
        "imm = beach.copy()\n",
        "## params: img, (x1, y1), (x2, y2), color (of the current img channel repr.)\n",
        "cv2.line(imm, (0, 0), (100, 150), (255, 0, 0), ) #red line\n",
        "cv2.circle(imm, (200, 100), 20, color = (0, 0, 255), thickness=5) #blue circle\n",
        "## filled rectangle\n",
        "cv2.rectangle(imm, (100, 50), (150, 120), color = (0, 255, 0), thickness = -1)\n",
        "plt.imshow(imm)"
      ],
      "execution_count": null,
      "outputs": []
    },
    {
      "cell_type": "markdown",
      "metadata": {
        "id": "-6G08fCh-uzI"
      },
      "source": [
        "# Opencv python tutorial\n",
        "# https://docs.opencv.org/3.0-beta/doc/py_tutorials/py_tutorials.html"
      ]
    },
    {
      "cell_type": "code",
      "metadata": {
        "id": "A18vJhLL-uzJ"
      },
      "source": [
        ""
      ],
      "execution_count": null,
      "outputs": []
    }
  ]
}